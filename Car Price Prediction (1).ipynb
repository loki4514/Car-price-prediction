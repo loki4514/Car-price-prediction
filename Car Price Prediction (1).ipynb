{
 "cells": [
  {
   "cell_type": "code",
   "execution_count": 2,
   "id": "c1a12b7f",
   "metadata": {},
   "outputs": [],
   "source": [
    "import pandas as pd\n",
    "import numpy as np\n",
    "import seaborn as sns\n",
    "import matplotlib.pyplot as plt\n",
    "%matplotlib inline"
   ]
  },
  {
   "cell_type": "code",
   "execution_count": 3,
   "id": "8f2f94b2",
   "metadata": {},
   "outputs": [],
   "source": [
    "df = pd.read_csv(\"car_price_prediction.csv\")"
   ]
  },
  {
   "cell_type": "code",
   "execution_count": 4,
   "id": "012956b3",
   "metadata": {},
   "outputs": [
    {
     "data": {
      "text/html": [
       "<div>\n",
       "<style scoped>\n",
       "    .dataframe tbody tr th:only-of-type {\n",
       "        vertical-align: middle;\n",
       "    }\n",
       "\n",
       "    .dataframe tbody tr th {\n",
       "        vertical-align: top;\n",
       "    }\n",
       "\n",
       "    .dataframe thead th {\n",
       "        text-align: right;\n",
       "    }\n",
       "</style>\n",
       "<table border=\"1\" class=\"dataframe\">\n",
       "  <thead>\n",
       "    <tr style=\"text-align: right;\">\n",
       "      <th></th>\n",
       "      <th>ID</th>\n",
       "      <th>Price</th>\n",
       "      <th>Levy</th>\n",
       "      <th>Manufacturer</th>\n",
       "      <th>Model</th>\n",
       "      <th>Prod. year</th>\n",
       "      <th>Category</th>\n",
       "      <th>Leather interior</th>\n",
       "      <th>Fuel type</th>\n",
       "      <th>Engine volume</th>\n",
       "      <th>Mileage</th>\n",
       "      <th>Cylinders</th>\n",
       "      <th>Gear box type</th>\n",
       "      <th>Drive wheels</th>\n",
       "      <th>Doors</th>\n",
       "      <th>Wheel</th>\n",
       "      <th>Color</th>\n",
       "      <th>Airbags</th>\n",
       "    </tr>\n",
       "  </thead>\n",
       "  <tbody>\n",
       "    <tr>\n",
       "      <th>0</th>\n",
       "      <td>45654403</td>\n",
       "      <td>13328</td>\n",
       "      <td>1399</td>\n",
       "      <td>LEXUS</td>\n",
       "      <td>RX 450</td>\n",
       "      <td>2010</td>\n",
       "      <td>Jeep</td>\n",
       "      <td>Yes</td>\n",
       "      <td>Hybrid</td>\n",
       "      <td>3.5</td>\n",
       "      <td>186005 km</td>\n",
       "      <td>6.0</td>\n",
       "      <td>Automatic</td>\n",
       "      <td>4x4</td>\n",
       "      <td>04-May</td>\n",
       "      <td>Left wheel</td>\n",
       "      <td>Silver</td>\n",
       "      <td>12</td>\n",
       "    </tr>\n",
       "    <tr>\n",
       "      <th>1</th>\n",
       "      <td>44731507</td>\n",
       "      <td>16621</td>\n",
       "      <td>1018</td>\n",
       "      <td>CHEVROLET</td>\n",
       "      <td>Equinox</td>\n",
       "      <td>2011</td>\n",
       "      <td>Jeep</td>\n",
       "      <td>No</td>\n",
       "      <td>Petrol</td>\n",
       "      <td>3</td>\n",
       "      <td>192000 km</td>\n",
       "      <td>6.0</td>\n",
       "      <td>Tiptronic</td>\n",
       "      <td>4x4</td>\n",
       "      <td>04-May</td>\n",
       "      <td>Left wheel</td>\n",
       "      <td>Black</td>\n",
       "      <td>8</td>\n",
       "    </tr>\n",
       "    <tr>\n",
       "      <th>2</th>\n",
       "      <td>45774419</td>\n",
       "      <td>8467</td>\n",
       "      <td>-</td>\n",
       "      <td>HONDA</td>\n",
       "      <td>FIT</td>\n",
       "      <td>2006</td>\n",
       "      <td>Hatchback</td>\n",
       "      <td>No</td>\n",
       "      <td>Petrol</td>\n",
       "      <td>1.3</td>\n",
       "      <td>200000 km</td>\n",
       "      <td>4.0</td>\n",
       "      <td>Variator</td>\n",
       "      <td>Front</td>\n",
       "      <td>04-May</td>\n",
       "      <td>Right-hand drive</td>\n",
       "      <td>Black</td>\n",
       "      <td>2</td>\n",
       "    </tr>\n",
       "    <tr>\n",
       "      <th>3</th>\n",
       "      <td>45769185</td>\n",
       "      <td>3607</td>\n",
       "      <td>862</td>\n",
       "      <td>FORD</td>\n",
       "      <td>Escape</td>\n",
       "      <td>2011</td>\n",
       "      <td>Jeep</td>\n",
       "      <td>Yes</td>\n",
       "      <td>Hybrid</td>\n",
       "      <td>2.5</td>\n",
       "      <td>168966 km</td>\n",
       "      <td>4.0</td>\n",
       "      <td>Automatic</td>\n",
       "      <td>4x4</td>\n",
       "      <td>04-May</td>\n",
       "      <td>Left wheel</td>\n",
       "      <td>White</td>\n",
       "      <td>0</td>\n",
       "    </tr>\n",
       "    <tr>\n",
       "      <th>4</th>\n",
       "      <td>45809263</td>\n",
       "      <td>11726</td>\n",
       "      <td>446</td>\n",
       "      <td>HONDA</td>\n",
       "      <td>FIT</td>\n",
       "      <td>2014</td>\n",
       "      <td>Hatchback</td>\n",
       "      <td>Yes</td>\n",
       "      <td>Petrol</td>\n",
       "      <td>1.3</td>\n",
       "      <td>91901 km</td>\n",
       "      <td>4.0</td>\n",
       "      <td>Automatic</td>\n",
       "      <td>Front</td>\n",
       "      <td>04-May</td>\n",
       "      <td>Left wheel</td>\n",
       "      <td>Silver</td>\n",
       "      <td>4</td>\n",
       "    </tr>\n",
       "  </tbody>\n",
       "</table>\n",
       "</div>"
      ],
      "text/plain": [
       "         ID  Price  Levy Manufacturer    Model  Prod. year   Category  \\\n",
       "0  45654403  13328  1399        LEXUS   RX 450        2010       Jeep   \n",
       "1  44731507  16621  1018    CHEVROLET  Equinox        2011       Jeep   \n",
       "2  45774419   8467     -        HONDA      FIT        2006  Hatchback   \n",
       "3  45769185   3607   862         FORD   Escape        2011       Jeep   \n",
       "4  45809263  11726   446        HONDA      FIT        2014  Hatchback   \n",
       "\n",
       "  Leather interior Fuel type Engine volume    Mileage  Cylinders  \\\n",
       "0              Yes    Hybrid           3.5  186005 km        6.0   \n",
       "1               No    Petrol             3  192000 km        6.0   \n",
       "2               No    Petrol           1.3  200000 km        4.0   \n",
       "3              Yes    Hybrid           2.5  168966 km        4.0   \n",
       "4              Yes    Petrol           1.3   91901 km        4.0   \n",
       "\n",
       "  Gear box type Drive wheels   Doors             Wheel   Color  Airbags  \n",
       "0     Automatic          4x4  04-May        Left wheel  Silver       12  \n",
       "1     Tiptronic          4x4  04-May        Left wheel   Black        8  \n",
       "2      Variator        Front  04-May  Right-hand drive   Black        2  \n",
       "3     Automatic          4x4  04-May        Left wheel   White        0  \n",
       "4     Automatic        Front  04-May        Left wheel  Silver        4  "
      ]
     },
     "execution_count": 4,
     "metadata": {},
     "output_type": "execute_result"
    }
   ],
   "source": [
    "df.head()"
   ]
  },
  {
   "cell_type": "code",
   "execution_count": 5,
   "id": "e16c2ac9",
   "metadata": {},
   "outputs": [
    {
     "data": {
      "text/plain": [
       "(19237, 18)"
      ]
     },
     "execution_count": 5,
     "metadata": {},
     "output_type": "execute_result"
    }
   ],
   "source": [
    "df.shape"
   ]
  },
  {
   "cell_type": "markdown",
   "id": "5edc3199",
   "metadata": {},
   "source": [
    "ID has to use w.r.t to building a model"
   ]
  },
  {
   "cell_type": "code",
   "execution_count": 6,
   "id": "2a774b03",
   "metadata": {},
   "outputs": [
    {
     "data": {
      "text/html": [
       "<div>\n",
       "<style scoped>\n",
       "    .dataframe tbody tr th:only-of-type {\n",
       "        vertical-align: middle;\n",
       "    }\n",
       "\n",
       "    .dataframe tbody tr th {\n",
       "        vertical-align: top;\n",
       "    }\n",
       "\n",
       "    .dataframe thead th {\n",
       "        text-align: right;\n",
       "    }\n",
       "</style>\n",
       "<table border=\"1\" class=\"dataframe\">\n",
       "  <thead>\n",
       "    <tr style=\"text-align: right;\">\n",
       "      <th></th>\n",
       "      <th>ID</th>\n",
       "      <th>Price</th>\n",
       "      <th>Levy</th>\n",
       "      <th>Manufacturer</th>\n",
       "      <th>Model</th>\n",
       "      <th>Prod. year</th>\n",
       "      <th>Category</th>\n",
       "      <th>Leather interior</th>\n",
       "      <th>Fuel type</th>\n",
       "      <th>Engine volume</th>\n",
       "      <th>Mileage</th>\n",
       "      <th>Cylinders</th>\n",
       "      <th>Gear box type</th>\n",
       "      <th>Drive wheels</th>\n",
       "      <th>Doors</th>\n",
       "      <th>Wheel</th>\n",
       "      <th>Color</th>\n",
       "      <th>Airbags</th>\n",
       "    </tr>\n",
       "  </thead>\n",
       "  <tbody>\n",
       "    <tr>\n",
       "      <th>425</th>\n",
       "      <td>45815372</td>\n",
       "      <td>7840</td>\n",
       "      <td>-</td>\n",
       "      <td>MERCEDES-BENZ</td>\n",
       "      <td>E 200</td>\n",
       "      <td>1998</td>\n",
       "      <td>Sedan</td>\n",
       "      <td>No</td>\n",
       "      <td>CNG</td>\n",
       "      <td>2</td>\n",
       "      <td>180003 km</td>\n",
       "      <td>4.0</td>\n",
       "      <td>Manual</td>\n",
       "      <td>Rear</td>\n",
       "      <td>04-May</td>\n",
       "      <td>Left wheel</td>\n",
       "      <td>Black</td>\n",
       "      <td>4</td>\n",
       "    </tr>\n",
       "    <tr>\n",
       "      <th>1581</th>\n",
       "      <td>45815363</td>\n",
       "      <td>8781</td>\n",
       "      <td>-</td>\n",
       "      <td>TOYOTA</td>\n",
       "      <td>Ist</td>\n",
       "      <td>2002</td>\n",
       "      <td>Hatchback</td>\n",
       "      <td>No</td>\n",
       "      <td>Petrol</td>\n",
       "      <td>1.5</td>\n",
       "      <td>117000 km</td>\n",
       "      <td>4.0</td>\n",
       "      <td>Automatic</td>\n",
       "      <td>4x4</td>\n",
       "      <td>04-May</td>\n",
       "      <td>Right-hand drive</td>\n",
       "      <td>Red</td>\n",
       "      <td>4</td>\n",
       "    </tr>\n",
       "    <tr>\n",
       "      <th>1697</th>\n",
       "      <td>45732125</td>\n",
       "      <td>18503</td>\n",
       "      <td>-</td>\n",
       "      <td>TOYOTA</td>\n",
       "      <td>Prius</td>\n",
       "      <td>2010</td>\n",
       "      <td>Sedan</td>\n",
       "      <td>No</td>\n",
       "      <td>Petrol</td>\n",
       "      <td>1.8</td>\n",
       "      <td>162000 km</td>\n",
       "      <td>4.0</td>\n",
       "      <td>Automatic</td>\n",
       "      <td>Front</td>\n",
       "      <td>04-May</td>\n",
       "      <td>Left wheel</td>\n",
       "      <td>Grey</td>\n",
       "      <td>12</td>\n",
       "    </tr>\n",
       "    <tr>\n",
       "      <th>1972</th>\n",
       "      <td>45507765</td>\n",
       "      <td>20385</td>\n",
       "      <td>-</td>\n",
       "      <td>MERCEDES-BENZ</td>\n",
       "      <td>CLS 500</td>\n",
       "      <td>2005</td>\n",
       "      <td>Sedan</td>\n",
       "      <td>Yes</td>\n",
       "      <td>Petrol</td>\n",
       "      <td>5</td>\n",
       "      <td>230000 km</td>\n",
       "      <td>8.0</td>\n",
       "      <td>Tiptronic</td>\n",
       "      <td>Rear</td>\n",
       "      <td>04-May</td>\n",
       "      <td>Left wheel</td>\n",
       "      <td>Silver</td>\n",
       "      <td>10</td>\n",
       "    </tr>\n",
       "    <tr>\n",
       "      <th>2131</th>\n",
       "      <td>45815363</td>\n",
       "      <td>8781</td>\n",
       "      <td>-</td>\n",
       "      <td>TOYOTA</td>\n",
       "      <td>Ist</td>\n",
       "      <td>2002</td>\n",
       "      <td>Hatchback</td>\n",
       "      <td>No</td>\n",
       "      <td>Petrol</td>\n",
       "      <td>1.5</td>\n",
       "      <td>117000 km</td>\n",
       "      <td>4.0</td>\n",
       "      <td>Automatic</td>\n",
       "      <td>4x4</td>\n",
       "      <td>04-May</td>\n",
       "      <td>Right-hand drive</td>\n",
       "      <td>Red</td>\n",
       "      <td>4</td>\n",
       "    </tr>\n",
       "    <tr>\n",
       "      <th>...</th>\n",
       "      <td>...</td>\n",
       "      <td>...</td>\n",
       "      <td>...</td>\n",
       "      <td>...</td>\n",
       "      <td>...</td>\n",
       "      <td>...</td>\n",
       "      <td>...</td>\n",
       "      <td>...</td>\n",
       "      <td>...</td>\n",
       "      <td>...</td>\n",
       "      <td>...</td>\n",
       "      <td>...</td>\n",
       "      <td>...</td>\n",
       "      <td>...</td>\n",
       "      <td>...</td>\n",
       "      <td>...</td>\n",
       "      <td>...</td>\n",
       "      <td>...</td>\n",
       "    </tr>\n",
       "    <tr>\n",
       "      <th>18974</th>\n",
       "      <td>45815465</td>\n",
       "      <td>2352</td>\n",
       "      <td>1273</td>\n",
       "      <td>LEXUS</td>\n",
       "      <td>IS 350</td>\n",
       "      <td>2015</td>\n",
       "      <td>Sedan</td>\n",
       "      <td>Yes</td>\n",
       "      <td>Petrol</td>\n",
       "      <td>3.5</td>\n",
       "      <td>80856 km</td>\n",
       "      <td>6.0</td>\n",
       "      <td>Automatic</td>\n",
       "      <td>4x4</td>\n",
       "      <td>04-May</td>\n",
       "      <td>Left wheel</td>\n",
       "      <td>Black</td>\n",
       "      <td>12</td>\n",
       "    </tr>\n",
       "    <tr>\n",
       "      <th>19137</th>\n",
       "      <td>45810466</td>\n",
       "      <td>15125</td>\n",
       "      <td>642</td>\n",
       "      <td>CHEVROLET</td>\n",
       "      <td>Orlando</td>\n",
       "      <td>2012</td>\n",
       "      <td>Jeep</td>\n",
       "      <td>Yes</td>\n",
       "      <td>Diesel</td>\n",
       "      <td>2</td>\n",
       "      <td>156834 km</td>\n",
       "      <td>4.0</td>\n",
       "      <td>Automatic</td>\n",
       "      <td>Front</td>\n",
       "      <td>04-May</td>\n",
       "      <td>Left wheel</td>\n",
       "      <td>Golden</td>\n",
       "      <td>4</td>\n",
       "    </tr>\n",
       "    <tr>\n",
       "      <th>19200</th>\n",
       "      <td>45725908</td>\n",
       "      <td>36065</td>\n",
       "      <td>640</td>\n",
       "      <td>MERCEDES-BENZ</td>\n",
       "      <td>CLA 250 AMG</td>\n",
       "      <td>2013</td>\n",
       "      <td>Sedan</td>\n",
       "      <td>Yes</td>\n",
       "      <td>Petrol</td>\n",
       "      <td>2.0 Turbo</td>\n",
       "      <td>68000 km</td>\n",
       "      <td>4.0</td>\n",
       "      <td>Tiptronic</td>\n",
       "      <td>Front</td>\n",
       "      <td>04-May</td>\n",
       "      <td>Left wheel</td>\n",
       "      <td>Red</td>\n",
       "      <td>12</td>\n",
       "    </tr>\n",
       "    <tr>\n",
       "      <th>19203</th>\n",
       "      <td>45761487</td>\n",
       "      <td>13485</td>\n",
       "      <td>645</td>\n",
       "      <td>TOYOTA</td>\n",
       "      <td>Prius</td>\n",
       "      <td>2011</td>\n",
       "      <td>Sedan</td>\n",
       "      <td>No</td>\n",
       "      <td>Hybrid</td>\n",
       "      <td>1.8</td>\n",
       "      <td>281600 km</td>\n",
       "      <td>6.0</td>\n",
       "      <td>Automatic</td>\n",
       "      <td>Front</td>\n",
       "      <td>04-May</td>\n",
       "      <td>Left wheel</td>\n",
       "      <td>Grey</td>\n",
       "      <td>8</td>\n",
       "    </tr>\n",
       "    <tr>\n",
       "      <th>19210</th>\n",
       "      <td>45732939</td>\n",
       "      <td>8311</td>\n",
       "      <td>642</td>\n",
       "      <td>HYUNDAI</td>\n",
       "      <td>Sonata</td>\n",
       "      <td>2012</td>\n",
       "      <td>Sedan</td>\n",
       "      <td>Yes</td>\n",
       "      <td>LPG</td>\n",
       "      <td>2</td>\n",
       "      <td>36545 km</td>\n",
       "      <td>4.0</td>\n",
       "      <td>Automatic</td>\n",
       "      <td>Front</td>\n",
       "      <td>04-May</td>\n",
       "      <td>Left wheel</td>\n",
       "      <td>White</td>\n",
       "      <td>4</td>\n",
       "    </tr>\n",
       "  </tbody>\n",
       "</table>\n",
       "<p>313 rows × 18 columns</p>\n",
       "</div>"
      ],
      "text/plain": [
       "             ID  Price  Levy   Manufacturer        Model  Prod. year  \\\n",
       "425    45815372   7840     -  MERCEDES-BENZ        E 200        1998   \n",
       "1581   45815363   8781     -         TOYOTA          Ist        2002   \n",
       "1697   45732125  18503     -         TOYOTA        Prius        2010   \n",
       "1972   45507765  20385     -  MERCEDES-BENZ      CLS 500        2005   \n",
       "2131   45815363   8781     -         TOYOTA          Ist        2002   \n",
       "...         ...    ...   ...            ...          ...         ...   \n",
       "18974  45815465   2352  1273          LEXUS       IS 350        2015   \n",
       "19137  45810466  15125   642      CHEVROLET      Orlando        2012   \n",
       "19200  45725908  36065   640  MERCEDES-BENZ  CLA 250 AMG        2013   \n",
       "19203  45761487  13485   645         TOYOTA        Prius        2011   \n",
       "19210  45732939   8311   642        HYUNDAI       Sonata        2012   \n",
       "\n",
       "        Category Leather interior Fuel type Engine volume    Mileage  \\\n",
       "425        Sedan               No       CNG             2  180003 km   \n",
       "1581   Hatchback               No    Petrol           1.5  117000 km   \n",
       "1697       Sedan               No    Petrol           1.8  162000 km   \n",
       "1972       Sedan              Yes    Petrol             5  230000 km   \n",
       "2131   Hatchback               No    Petrol           1.5  117000 km   \n",
       "...          ...              ...       ...           ...        ...   \n",
       "18974      Sedan              Yes    Petrol           3.5   80856 km   \n",
       "19137       Jeep              Yes    Diesel             2  156834 km   \n",
       "19200      Sedan              Yes    Petrol     2.0 Turbo   68000 km   \n",
       "19203      Sedan               No    Hybrid           1.8  281600 km   \n",
       "19210      Sedan              Yes       LPG             2   36545 km   \n",
       "\n",
       "       Cylinders Gear box type Drive wheels   Doors             Wheel   Color  \\\n",
       "425          4.0        Manual         Rear  04-May        Left wheel   Black   \n",
       "1581         4.0     Automatic          4x4  04-May  Right-hand drive     Red   \n",
       "1697         4.0     Automatic        Front  04-May        Left wheel    Grey   \n",
       "1972         8.0     Tiptronic         Rear  04-May        Left wheel  Silver   \n",
       "2131         4.0     Automatic          4x4  04-May  Right-hand drive     Red   \n",
       "...          ...           ...          ...     ...               ...     ...   \n",
       "18974        6.0     Automatic          4x4  04-May        Left wheel   Black   \n",
       "19137        4.0     Automatic        Front  04-May        Left wheel  Golden   \n",
       "19200        4.0     Tiptronic        Front  04-May        Left wheel     Red   \n",
       "19203        6.0     Automatic        Front  04-May        Left wheel    Grey   \n",
       "19210        4.0     Automatic        Front  04-May        Left wheel   White   \n",
       "\n",
       "       Airbags  \n",
       "425          4  \n",
       "1581         4  \n",
       "1697        12  \n",
       "1972        10  \n",
       "2131         4  \n",
       "...        ...  \n",
       "18974       12  \n",
       "19137        4  \n",
       "19200       12  \n",
       "19203        8  \n",
       "19210        4  \n",
       "\n",
       "[313 rows x 18 columns]"
      ]
     },
     "execution_count": 6,
     "metadata": {},
     "output_type": "execute_result"
    }
   ],
   "source": [
    "df[df.duplicated()]"
   ]
  },
  {
   "cell_type": "code",
   "execution_count": 7,
   "id": "f4d00fff",
   "metadata": {},
   "outputs": [],
   "source": [
    "df.drop_duplicates(inplace = True)"
   ]
  },
  {
   "cell_type": "code",
   "execution_count": 8,
   "id": "00e9fc6d",
   "metadata": {},
   "outputs": [
    {
     "data": {
      "text/html": [
       "<div>\n",
       "<style scoped>\n",
       "    .dataframe tbody tr th:only-of-type {\n",
       "        vertical-align: middle;\n",
       "    }\n",
       "\n",
       "    .dataframe tbody tr th {\n",
       "        vertical-align: top;\n",
       "    }\n",
       "\n",
       "    .dataframe thead th {\n",
       "        text-align: right;\n",
       "    }\n",
       "</style>\n",
       "<table border=\"1\" class=\"dataframe\">\n",
       "  <thead>\n",
       "    <tr style=\"text-align: right;\">\n",
       "      <th></th>\n",
       "      <th>ID</th>\n",
       "      <th>Price</th>\n",
       "      <th>Levy</th>\n",
       "      <th>Manufacturer</th>\n",
       "      <th>Model</th>\n",
       "      <th>Prod. year</th>\n",
       "      <th>Category</th>\n",
       "      <th>Leather interior</th>\n",
       "      <th>Fuel type</th>\n",
       "      <th>Engine volume</th>\n",
       "      <th>Mileage</th>\n",
       "      <th>Cylinders</th>\n",
       "      <th>Gear box type</th>\n",
       "      <th>Drive wheels</th>\n",
       "      <th>Doors</th>\n",
       "      <th>Wheel</th>\n",
       "      <th>Color</th>\n",
       "      <th>Airbags</th>\n",
       "    </tr>\n",
       "  </thead>\n",
       "  <tbody>\n",
       "  </tbody>\n",
       "</table>\n",
       "</div>"
      ],
      "text/plain": [
       "Empty DataFrame\n",
       "Columns: [ID, Price, Levy, Manufacturer, Model, Prod. year, Category, Leather interior, Fuel type, Engine volume, Mileage, Cylinders, Gear box type, Drive wheels, Doors, Wheel, Color, Airbags]\n",
       "Index: []"
      ]
     },
     "execution_count": 8,
     "metadata": {},
     "output_type": "execute_result"
    }
   ],
   "source": [
    "df[df.duplicated()]"
   ]
  },
  {
   "cell_type": "code",
   "execution_count": 9,
   "id": "ba14fbc9",
   "metadata": {},
   "outputs": [
    {
     "data": {
      "text/plain": [
       "(18924, 18)"
      ]
     },
     "execution_count": 9,
     "metadata": {},
     "output_type": "execute_result"
    }
   ],
   "source": [
    "df.shape"
   ]
  },
  {
   "cell_type": "code",
   "execution_count": 10,
   "id": "1cef37e8",
   "metadata": {},
   "outputs": [],
   "source": [
    "df.drop('ID',axis = 1,inplace = True)"
   ]
  },
  {
   "cell_type": "code",
   "execution_count": 11,
   "id": "02c0036b",
   "metadata": {},
   "outputs": [
    {
     "data": {
      "text/html": [
       "<div>\n",
       "<style scoped>\n",
       "    .dataframe tbody tr th:only-of-type {\n",
       "        vertical-align: middle;\n",
       "    }\n",
       "\n",
       "    .dataframe tbody tr th {\n",
       "        vertical-align: top;\n",
       "    }\n",
       "\n",
       "    .dataframe thead th {\n",
       "        text-align: right;\n",
       "    }\n",
       "</style>\n",
       "<table border=\"1\" class=\"dataframe\">\n",
       "  <thead>\n",
       "    <tr style=\"text-align: right;\">\n",
       "      <th></th>\n",
       "      <th>Price</th>\n",
       "      <th>Levy</th>\n",
       "      <th>Manufacturer</th>\n",
       "      <th>Model</th>\n",
       "      <th>Prod. year</th>\n",
       "      <th>Category</th>\n",
       "      <th>Leather interior</th>\n",
       "      <th>Fuel type</th>\n",
       "      <th>Engine volume</th>\n",
       "      <th>Mileage</th>\n",
       "      <th>Cylinders</th>\n",
       "      <th>Gear box type</th>\n",
       "      <th>Drive wheels</th>\n",
       "      <th>Doors</th>\n",
       "      <th>Wheel</th>\n",
       "      <th>Color</th>\n",
       "      <th>Airbags</th>\n",
       "    </tr>\n",
       "  </thead>\n",
       "  <tbody>\n",
       "    <tr>\n",
       "      <th>0</th>\n",
       "      <td>13328</td>\n",
       "      <td>1399</td>\n",
       "      <td>LEXUS</td>\n",
       "      <td>RX 450</td>\n",
       "      <td>2010</td>\n",
       "      <td>Jeep</td>\n",
       "      <td>Yes</td>\n",
       "      <td>Hybrid</td>\n",
       "      <td>3.5</td>\n",
       "      <td>186005 km</td>\n",
       "      <td>6.0</td>\n",
       "      <td>Automatic</td>\n",
       "      <td>4x4</td>\n",
       "      <td>04-May</td>\n",
       "      <td>Left wheel</td>\n",
       "      <td>Silver</td>\n",
       "      <td>12</td>\n",
       "    </tr>\n",
       "    <tr>\n",
       "      <th>1</th>\n",
       "      <td>16621</td>\n",
       "      <td>1018</td>\n",
       "      <td>CHEVROLET</td>\n",
       "      <td>Equinox</td>\n",
       "      <td>2011</td>\n",
       "      <td>Jeep</td>\n",
       "      <td>No</td>\n",
       "      <td>Petrol</td>\n",
       "      <td>3</td>\n",
       "      <td>192000 km</td>\n",
       "      <td>6.0</td>\n",
       "      <td>Tiptronic</td>\n",
       "      <td>4x4</td>\n",
       "      <td>04-May</td>\n",
       "      <td>Left wheel</td>\n",
       "      <td>Black</td>\n",
       "      <td>8</td>\n",
       "    </tr>\n",
       "    <tr>\n",
       "      <th>2</th>\n",
       "      <td>8467</td>\n",
       "      <td>-</td>\n",
       "      <td>HONDA</td>\n",
       "      <td>FIT</td>\n",
       "      <td>2006</td>\n",
       "      <td>Hatchback</td>\n",
       "      <td>No</td>\n",
       "      <td>Petrol</td>\n",
       "      <td>1.3</td>\n",
       "      <td>200000 km</td>\n",
       "      <td>4.0</td>\n",
       "      <td>Variator</td>\n",
       "      <td>Front</td>\n",
       "      <td>04-May</td>\n",
       "      <td>Right-hand drive</td>\n",
       "      <td>Black</td>\n",
       "      <td>2</td>\n",
       "    </tr>\n",
       "    <tr>\n",
       "      <th>3</th>\n",
       "      <td>3607</td>\n",
       "      <td>862</td>\n",
       "      <td>FORD</td>\n",
       "      <td>Escape</td>\n",
       "      <td>2011</td>\n",
       "      <td>Jeep</td>\n",
       "      <td>Yes</td>\n",
       "      <td>Hybrid</td>\n",
       "      <td>2.5</td>\n",
       "      <td>168966 km</td>\n",
       "      <td>4.0</td>\n",
       "      <td>Automatic</td>\n",
       "      <td>4x4</td>\n",
       "      <td>04-May</td>\n",
       "      <td>Left wheel</td>\n",
       "      <td>White</td>\n",
       "      <td>0</td>\n",
       "    </tr>\n",
       "    <tr>\n",
       "      <th>4</th>\n",
       "      <td>11726</td>\n",
       "      <td>446</td>\n",
       "      <td>HONDA</td>\n",
       "      <td>FIT</td>\n",
       "      <td>2014</td>\n",
       "      <td>Hatchback</td>\n",
       "      <td>Yes</td>\n",
       "      <td>Petrol</td>\n",
       "      <td>1.3</td>\n",
       "      <td>91901 km</td>\n",
       "      <td>4.0</td>\n",
       "      <td>Automatic</td>\n",
       "      <td>Front</td>\n",
       "      <td>04-May</td>\n",
       "      <td>Left wheel</td>\n",
       "      <td>Silver</td>\n",
       "      <td>4</td>\n",
       "    </tr>\n",
       "  </tbody>\n",
       "</table>\n",
       "</div>"
      ],
      "text/plain": [
       "   Price  Levy Manufacturer    Model  Prod. year   Category Leather interior  \\\n",
       "0  13328  1399        LEXUS   RX 450        2010       Jeep              Yes   \n",
       "1  16621  1018    CHEVROLET  Equinox        2011       Jeep               No   \n",
       "2   8467     -        HONDA      FIT        2006  Hatchback               No   \n",
       "3   3607   862         FORD   Escape        2011       Jeep              Yes   \n",
       "4  11726   446        HONDA      FIT        2014  Hatchback              Yes   \n",
       "\n",
       "  Fuel type Engine volume    Mileage  Cylinders Gear box type Drive wheels  \\\n",
       "0    Hybrid           3.5  186005 km        6.0     Automatic          4x4   \n",
       "1    Petrol             3  192000 km        6.0     Tiptronic          4x4   \n",
       "2    Petrol           1.3  200000 km        4.0      Variator        Front   \n",
       "3    Hybrid           2.5  168966 km        4.0     Automatic          4x4   \n",
       "4    Petrol           1.3   91901 km        4.0     Automatic        Front   \n",
       "\n",
       "    Doors             Wheel   Color  Airbags  \n",
       "0  04-May        Left wheel  Silver       12  \n",
       "1  04-May        Left wheel   Black        8  \n",
       "2  04-May  Right-hand drive   Black        2  \n",
       "3  04-May        Left wheel   White        0  \n",
       "4  04-May        Left wheel  Silver        4  "
      ]
     },
     "execution_count": 11,
     "metadata": {},
     "output_type": "execute_result"
    }
   ],
   "source": [
    "df.head()"
   ]
  },
  {
   "cell_type": "code",
   "execution_count": 12,
   "id": "d9bd00e5",
   "metadata": {},
   "outputs": [
    {
     "name": "stdout",
     "output_type": "stream",
     "text": [
      "<class 'pandas.core.frame.DataFrame'>\n",
      "Int64Index: 18924 entries, 0 to 19236\n",
      "Data columns (total 17 columns):\n",
      " #   Column            Non-Null Count  Dtype  \n",
      "---  ------            --------------  -----  \n",
      " 0   Price             18924 non-null  int64  \n",
      " 1   Levy              18924 non-null  object \n",
      " 2   Manufacturer      18924 non-null  object \n",
      " 3   Model             18924 non-null  object \n",
      " 4   Prod. year        18924 non-null  int64  \n",
      " 5   Category          18924 non-null  object \n",
      " 6   Leather interior  18924 non-null  object \n",
      " 7   Fuel type         18924 non-null  object \n",
      " 8   Engine volume     18924 non-null  object \n",
      " 9   Mileage           18924 non-null  object \n",
      " 10  Cylinders         18924 non-null  float64\n",
      " 11  Gear box type     18924 non-null  object \n",
      " 12  Drive wheels      18924 non-null  object \n",
      " 13  Doors             18924 non-null  object \n",
      " 14  Wheel             18924 non-null  object \n",
      " 15  Color             18924 non-null  object \n",
      " 16  Airbags           18924 non-null  int64  \n",
      "dtypes: float64(1), int64(3), object(13)\n",
      "memory usage: 2.6+ MB\n"
     ]
    }
   ],
   "source": [
    "df.info()"
   ]
  },
  {
   "cell_type": "code",
   "execution_count": 13,
   "id": "147cbedf",
   "metadata": {},
   "outputs": [
    {
     "data": {
      "text/html": [
       "<div>\n",
       "<style scoped>\n",
       "    .dataframe tbody tr th:only-of-type {\n",
       "        vertical-align: middle;\n",
       "    }\n",
       "\n",
       "    .dataframe tbody tr th {\n",
       "        vertical-align: top;\n",
       "    }\n",
       "\n",
       "    .dataframe thead th {\n",
       "        text-align: right;\n",
       "    }\n",
       "</style>\n",
       "<table border=\"1\" class=\"dataframe\">\n",
       "  <thead>\n",
       "    <tr style=\"text-align: right;\">\n",
       "      <th></th>\n",
       "      <th>Price</th>\n",
       "      <th>Levy</th>\n",
       "      <th>Manufacturer</th>\n",
       "      <th>Model</th>\n",
       "      <th>Prod. year</th>\n",
       "      <th>Category</th>\n",
       "      <th>Leather interior</th>\n",
       "      <th>Fuel type</th>\n",
       "      <th>Engine volume</th>\n",
       "      <th>Mileage</th>\n",
       "      <th>Cylinders</th>\n",
       "      <th>Gear box type</th>\n",
       "      <th>Drive wheels</th>\n",
       "      <th>Doors</th>\n",
       "      <th>Wheel</th>\n",
       "      <th>Color</th>\n",
       "      <th>Airbags</th>\n",
       "    </tr>\n",
       "  </thead>\n",
       "  <tbody>\n",
       "    <tr>\n",
       "      <th>2</th>\n",
       "      <td>8467</td>\n",
       "      <td>-</td>\n",
       "      <td>HONDA</td>\n",
       "      <td>FIT</td>\n",
       "      <td>2006</td>\n",
       "      <td>Hatchback</td>\n",
       "      <td>No</td>\n",
       "      <td>Petrol</td>\n",
       "      <td>1.3</td>\n",
       "      <td>200000 km</td>\n",
       "      <td>4.0</td>\n",
       "      <td>Variator</td>\n",
       "      <td>Front</td>\n",
       "      <td>04-May</td>\n",
       "      <td>Right-hand drive</td>\n",
       "      <td>Black</td>\n",
       "      <td>2</td>\n",
       "    </tr>\n",
       "    <tr>\n",
       "      <th>9</th>\n",
       "      <td>26657</td>\n",
       "      <td>-</td>\n",
       "      <td>LEXUS</td>\n",
       "      <td>RX 350</td>\n",
       "      <td>2007</td>\n",
       "      <td>Jeep</td>\n",
       "      <td>Yes</td>\n",
       "      <td>Petrol</td>\n",
       "      <td>3.5</td>\n",
       "      <td>128500 km</td>\n",
       "      <td>6.0</td>\n",
       "      <td>Automatic</td>\n",
       "      <td>4x4</td>\n",
       "      <td>04-May</td>\n",
       "      <td>Left wheel</td>\n",
       "      <td>Silver</td>\n",
       "      <td>12</td>\n",
       "    </tr>\n",
       "    <tr>\n",
       "      <th>11</th>\n",
       "      <td>8781</td>\n",
       "      <td>-</td>\n",
       "      <td>FORD</td>\n",
       "      <td>Transit</td>\n",
       "      <td>1999</td>\n",
       "      <td>Microbus</td>\n",
       "      <td>No</td>\n",
       "      <td>CNG</td>\n",
       "      <td>4</td>\n",
       "      <td>0 km</td>\n",
       "      <td>8.0</td>\n",
       "      <td>Manual</td>\n",
       "      <td>Rear</td>\n",
       "      <td>02-Mar</td>\n",
       "      <td>Left wheel</td>\n",
       "      <td>Blue</td>\n",
       "      <td>0</td>\n",
       "    </tr>\n",
       "    <tr>\n",
       "      <th>12</th>\n",
       "      <td>3000</td>\n",
       "      <td>-</td>\n",
       "      <td>OPEL</td>\n",
       "      <td>Vectra</td>\n",
       "      <td>1997</td>\n",
       "      <td>Goods wagon</td>\n",
       "      <td>No</td>\n",
       "      <td>CNG</td>\n",
       "      <td>1.6</td>\n",
       "      <td>350000 km</td>\n",
       "      <td>4.0</td>\n",
       "      <td>Manual</td>\n",
       "      <td>Front</td>\n",
       "      <td>04-May</td>\n",
       "      <td>Left wheel</td>\n",
       "      <td>White</td>\n",
       "      <td>4</td>\n",
       "    </tr>\n",
       "    <tr>\n",
       "      <th>23</th>\n",
       "      <td>7840</td>\n",
       "      <td>-</td>\n",
       "      <td>FORD</td>\n",
       "      <td>Transit</td>\n",
       "      <td>2001</td>\n",
       "      <td>Microbus</td>\n",
       "      <td>No</td>\n",
       "      <td>Diesel</td>\n",
       "      <td>2.0 Turbo</td>\n",
       "      <td>230000 km</td>\n",
       "      <td>4.0</td>\n",
       "      <td>Manual</td>\n",
       "      <td>Front</td>\n",
       "      <td>02-Mar</td>\n",
       "      <td>Left wheel</td>\n",
       "      <td>White</td>\n",
       "      <td>0</td>\n",
       "    </tr>\n",
       "    <tr>\n",
       "      <th>...</th>\n",
       "      <td>...</td>\n",
       "      <td>...</td>\n",
       "      <td>...</td>\n",
       "      <td>...</td>\n",
       "      <td>...</td>\n",
       "      <td>...</td>\n",
       "      <td>...</td>\n",
       "      <td>...</td>\n",
       "      <td>...</td>\n",
       "      <td>...</td>\n",
       "      <td>...</td>\n",
       "      <td>...</td>\n",
       "      <td>...</td>\n",
       "      <td>...</td>\n",
       "      <td>...</td>\n",
       "      <td>...</td>\n",
       "      <td>...</td>\n",
       "    </tr>\n",
       "    <tr>\n",
       "      <th>19223</th>\n",
       "      <td>8781</td>\n",
       "      <td>-</td>\n",
       "      <td>DODGE</td>\n",
       "      <td>Caliber</td>\n",
       "      <td>2008</td>\n",
       "      <td>Hatchback</td>\n",
       "      <td>No</td>\n",
       "      <td>Petrol</td>\n",
       "      <td>2.4</td>\n",
       "      <td>0 km</td>\n",
       "      <td>4.0</td>\n",
       "      <td>Automatic</td>\n",
       "      <td>Front</td>\n",
       "      <td>04-May</td>\n",
       "      <td>Left wheel</td>\n",
       "      <td>Blue</td>\n",
       "      <td>4</td>\n",
       "    </tr>\n",
       "    <tr>\n",
       "      <th>19224</th>\n",
       "      <td>19130</td>\n",
       "      <td>-</td>\n",
       "      <td>KIA</td>\n",
       "      <td>Optima ex</td>\n",
       "      <td>2014</td>\n",
       "      <td>Sedan</td>\n",
       "      <td>Yes</td>\n",
       "      <td>Petrol</td>\n",
       "      <td>2.4</td>\n",
       "      <td>35800 km</td>\n",
       "      <td>4.0</td>\n",
       "      <td>Automatic</td>\n",
       "      <td>Front</td>\n",
       "      <td>04-May</td>\n",
       "      <td>Left wheel</td>\n",
       "      <td>Black</td>\n",
       "      <td>12</td>\n",
       "    </tr>\n",
       "    <tr>\n",
       "      <th>19226</th>\n",
       "      <td>7840</td>\n",
       "      <td>-</td>\n",
       "      <td>NISSAN</td>\n",
       "      <td>Skyline</td>\n",
       "      <td>2003</td>\n",
       "      <td>Sedan</td>\n",
       "      <td>Yes</td>\n",
       "      <td>Petrol</td>\n",
       "      <td>3</td>\n",
       "      <td>220000 km</td>\n",
       "      <td>6.0</td>\n",
       "      <td>Tiptronic</td>\n",
       "      <td>Rear</td>\n",
       "      <td>04-May</td>\n",
       "      <td>Right-hand drive</td>\n",
       "      <td>White</td>\n",
       "      <td>0</td>\n",
       "    </tr>\n",
       "    <tr>\n",
       "      <th>19229</th>\n",
       "      <td>50</td>\n",
       "      <td>-</td>\n",
       "      <td>TOYOTA</td>\n",
       "      <td>Prius</td>\n",
       "      <td>2008</td>\n",
       "      <td>Hatchback</td>\n",
       "      <td>No</td>\n",
       "      <td>Hybrid</td>\n",
       "      <td>1.5</td>\n",
       "      <td>150000 km</td>\n",
       "      <td>4.0</td>\n",
       "      <td>Automatic</td>\n",
       "      <td>Front</td>\n",
       "      <td>04-May</td>\n",
       "      <td>Left wheel</td>\n",
       "      <td>Silver</td>\n",
       "      <td>6</td>\n",
       "    </tr>\n",
       "    <tr>\n",
       "      <th>19232</th>\n",
       "      <td>8467</td>\n",
       "      <td>-</td>\n",
       "      <td>MERCEDES-BENZ</td>\n",
       "      <td>CLK 200</td>\n",
       "      <td>1999</td>\n",
       "      <td>Coupe</td>\n",
       "      <td>Yes</td>\n",
       "      <td>CNG</td>\n",
       "      <td>2.0 Turbo</td>\n",
       "      <td>300000 km</td>\n",
       "      <td>4.0</td>\n",
       "      <td>Manual</td>\n",
       "      <td>Rear</td>\n",
       "      <td>02-Mar</td>\n",
       "      <td>Left wheel</td>\n",
       "      <td>Silver</td>\n",
       "      <td>5</td>\n",
       "    </tr>\n",
       "  </tbody>\n",
       "</table>\n",
       "<p>5709 rows × 17 columns</p>\n",
       "</div>"
      ],
      "text/plain": [
       "       Price Levy   Manufacturer      Model  Prod. year     Category  \\\n",
       "2       8467    -          HONDA        FIT        2006    Hatchback   \n",
       "9      26657    -          LEXUS     RX 350        2007         Jeep   \n",
       "11      8781    -           FORD    Transit        1999     Microbus   \n",
       "12      3000    -           OPEL     Vectra        1997  Goods wagon   \n",
       "23      7840    -           FORD    Transit        2001     Microbus   \n",
       "...      ...  ...            ...        ...         ...          ...   \n",
       "19223   8781    -          DODGE    Caliber        2008    Hatchback   \n",
       "19224  19130    -            KIA  Optima ex        2014        Sedan   \n",
       "19226   7840    -         NISSAN    Skyline        2003        Sedan   \n",
       "19229     50    -         TOYOTA      Prius        2008    Hatchback   \n",
       "19232   8467    -  MERCEDES-BENZ    CLK 200        1999        Coupe   \n",
       "\n",
       "      Leather interior Fuel type Engine volume    Mileage  Cylinders  \\\n",
       "2                   No    Petrol           1.3  200000 km        4.0   \n",
       "9                  Yes    Petrol           3.5  128500 km        6.0   \n",
       "11                  No       CNG             4       0 km        8.0   \n",
       "12                  No       CNG           1.6  350000 km        4.0   \n",
       "23                  No    Diesel     2.0 Turbo  230000 km        4.0   \n",
       "...                ...       ...           ...        ...        ...   \n",
       "19223               No    Petrol           2.4       0 km        4.0   \n",
       "19224              Yes    Petrol           2.4   35800 km        4.0   \n",
       "19226              Yes    Petrol             3  220000 km        6.0   \n",
       "19229               No    Hybrid           1.5  150000 km        4.0   \n",
       "19232              Yes       CNG     2.0 Turbo  300000 km        4.0   \n",
       "\n",
       "      Gear box type Drive wheels   Doors             Wheel   Color  Airbags  \n",
       "2          Variator        Front  04-May  Right-hand drive   Black        2  \n",
       "9         Automatic          4x4  04-May        Left wheel  Silver       12  \n",
       "11           Manual         Rear  02-Mar        Left wheel    Blue        0  \n",
       "12           Manual        Front  04-May        Left wheel   White        4  \n",
       "23           Manual        Front  02-Mar        Left wheel   White        0  \n",
       "...             ...          ...     ...               ...     ...      ...  \n",
       "19223     Automatic        Front  04-May        Left wheel    Blue        4  \n",
       "19224     Automatic        Front  04-May        Left wheel   Black       12  \n",
       "19226     Tiptronic         Rear  04-May  Right-hand drive   White        0  \n",
       "19229     Automatic        Front  04-May        Left wheel  Silver        6  \n",
       "19232        Manual         Rear  02-Mar        Left wheel  Silver        5  \n",
       "\n",
       "[5709 rows x 17 columns]"
      ]
     },
     "execution_count": 13,
     "metadata": {},
     "output_type": "execute_result"
    }
   ],
   "source": [
    "df[df['Levy'] == \"-\"]"
   ]
  },
  {
   "cell_type": "code",
   "execution_count": null,
   "id": "0d1c948f",
   "metadata": {},
   "outputs": [],
   "source": []
  },
  {
   "cell_type": "code",
   "execution_count": 14,
   "id": "149655cc",
   "metadata": {},
   "outputs": [],
   "source": [
    "df['Levy'].replace({\"-\":np.nan},inplace=True)"
   ]
  },
  {
   "cell_type": "code",
   "execution_count": 15,
   "id": "4d5efecf",
   "metadata": {},
   "outputs": [
    {
     "data": {
      "text/plain": [
       "0        1399\n",
       "1        1018\n",
       "2         NaN\n",
       "3         862\n",
       "4         446\n",
       "         ... \n",
       "19232     NaN\n",
       "19233     831\n",
       "19234     836\n",
       "19235    1288\n",
       "19236     753\n",
       "Name: Levy, Length: 18924, dtype: object"
      ]
     },
     "execution_count": 15,
     "metadata": {},
     "output_type": "execute_result"
    }
   ],
   "source": [
    "df['Levy']"
   ]
  },
  {
   "cell_type": "code",
   "execution_count": 16,
   "id": "b7bbb31f",
   "metadata": {},
   "outputs": [
    {
     "data": {
      "text/plain": [
       "Price                  0\n",
       "Levy                5709\n",
       "Manufacturer           0\n",
       "Model                  0\n",
       "Prod. year             0\n",
       "Category               0\n",
       "Leather interior       0\n",
       "Fuel type              0\n",
       "Engine volume          0\n",
       "Mileage                0\n",
       "Cylinders              0\n",
       "Gear box type          0\n",
       "Drive wheels           0\n",
       "Doors                  0\n",
       "Wheel                  0\n",
       "Color                  0\n",
       "Airbags                0\n",
       "dtype: int64"
      ]
     },
     "execution_count": 16,
     "metadata": {},
     "output_type": "execute_result"
    }
   ],
   "source": [
    "df.isnull().sum()"
   ]
  },
  {
   "cell_type": "markdown",
   "id": "a524490c",
   "metadata": {},
   "source": [
    "### EDA"
   ]
  },
  {
   "cell_type": "code",
   "execution_count": 17,
   "id": "b8ae3e5e",
   "metadata": {},
   "outputs": [
    {
     "data": {
      "text/plain": [
       "<AxesSubplot:xlabel='Prod. year', ylabel='Price'>"
      ]
     },
     "execution_count": 17,
     "metadata": {},
     "output_type": "execute_result"
    },
    {
     "data": {
      "image/png": "[encoded data removed]",
      "text/plain": [
       "<Figure size 1008x504 with 1 Axes>"
      ]
     },
     "metadata": {
      "needs_background": "light"
     },
     "output_type": "display_data"
    }
   ],
   "source": [
    "fig, ax = plt.subplots(figsize=(14, 7))\n",
    "sns.lineplot(x= df['Prod. year'],y = df['Price'],ax = ax)"
   ]
  },
  {
   "cell_type": "code",
   "execution_count": 18,
   "id": "8e590224",
   "metadata": {},
   "outputs": [
    {
     "data": {
      "text/plain": [
       "Sedan          8600\n",
       "Jeep           5378\n",
       "Hatchback      2799\n",
       "Minivan         633\n",
       "Coupe           528\n",
       "Universal       361\n",
       "Microbus        299\n",
       "Goods wagon     229\n",
       "Pickup           51\n",
       "Cabriolet        35\n",
       "Limousine        11\n",
       "Name: Category, dtype: int64"
      ]
     },
     "execution_count": 18,
     "metadata": {},
     "output_type": "execute_result"
    }
   ],
   "source": [
    "df['Category'].value_counts()"
   ]
  },
  {
   "cell_type": "code",
   "execution_count": 19,
   "id": "53391e6f",
   "metadata": {},
   "outputs": [
    {
     "name": "stderr",
     "output_type": "stream",
     "text": [
      "C:\\Users\\lokes\\Anaconda3\\lib\\site-packages\\seaborn\\_decorators.py:36: FutureWarning: Pass the following variable as a keyword arg: x. From version 0.12, the only valid positional argument will be `data`, and passing other arguments without an explicit keyword will result in an error or misinterpretation.\n",
      "  warnings.warn(\n"
     ]
    },
    {
     "data": {
      "text/plain": [
       "<AxesSubplot:xlabel='Category', ylabel='count'>"
      ]
     },
     "execution_count": 19,
     "metadata": {},
     "output_type": "execute_result"
    },
    {
     "data": {
      "image/png": "[encoded data removed]",
      "text/plain": [
       "<Figure size 1080x576 with 1 Axes>"
      ]
     },
     "metadata": {
      "needs_background": "light"
     },
     "output_type": "display_data"
    }
   ],
   "source": [
    "plt.figure(figsize=(15,8))\n",
    "sns.countplot(df['Category'])"
   ]
  },
  {
   "cell_type": "code",
   "execution_count": 20,
   "id": "49c5eae7",
   "metadata": {},
   "outputs": [
    {
     "name": "stderr",
     "output_type": "stream",
     "text": [
      "C:\\Users\\lokes\\Anaconda3\\lib\\site-packages\\seaborn\\_decorators.py:36: FutureWarning: Pass the following variable as a keyword arg: x. From version 0.12, the only valid positional argument will be `data`, and passing other arguments without an explicit keyword will result in an error or misinterpretation.\n",
      "  warnings.warn(\n"
     ]
    },
    {
     "data": {
      "text/plain": [
       "<AxesSubplot:xlabel='Leather interior', ylabel='count'>"
      ]
     },
     "execution_count": 20,
     "metadata": {},
     "output_type": "execute_result"
    },
    {
     "data": {
      "image/png": "[encoded data removed]",
      "text/plain": [
       "<Figure size 432x288 with 1 Axes>"
      ]
     },
     "metadata": {
      "needs_background": "light"
     },
     "output_type": "display_data"
    }
   ],
   "source": [
    "sns.countplot(df['Leather interior'])"
   ]
  },
  {
   "cell_type": "code",
   "execution_count": 21,
   "id": "651979be",
   "metadata": {},
   "outputs": [
    {
     "data": {
      "text/plain": [
       "Petrol            9944\n",
       "Diesel            4001\n",
       "Hybrid            3539\n",
       "LPG                885\n",
       "CNG                469\n",
       "Plug-in Hybrid      85\n",
       "Hydrogen             1\n",
       "Name: Fuel type, dtype: int64"
      ]
     },
     "execution_count": 21,
     "metadata": {},
     "output_type": "execute_result"
    }
   ],
   "source": [
    "df['Fuel type'].value_counts()"
   ]
  },
  {
   "cell_type": "code",
   "execution_count": 22,
   "id": "cd06b8c3",
   "metadata": {},
   "outputs": [
    {
     "name": "stderr",
     "output_type": "stream",
     "text": [
      "C:\\Users\\lokes\\Anaconda3\\lib\\site-packages\\seaborn\\_decorators.py:36: FutureWarning: Pass the following variable as a keyword arg: x. From version 0.12, the only valid positional argument will be `data`, and passing other arguments without an explicit keyword will result in an error or misinterpretation.\n",
      "  warnings.warn(\n"
     ]
    },
    {
     "data": {
      "text/plain": [
       "<AxesSubplot:xlabel='Fuel type', ylabel='count'>"
      ]
     },
     "execution_count": 22,
     "metadata": {},
     "output_type": "execute_result"
    },
    {
     "data": {
      "image/png": "[encoded data removed]",
      "text/plain": [
       "<Figure size 432x288 with 1 Axes>"
      ]
     },
     "metadata": {
      "needs_background": "light"
     },
     "output_type": "display_data"
    }
   ],
   "source": [
    "sns.countplot(df['Fuel type'])"
   ]
  },
  {
   "cell_type": "code",
   "execution_count": 23,
   "id": "e722ea2e",
   "metadata": {},
   "outputs": [
    {
     "data": {
      "text/plain": [
       "<AxesSubplot:xlabel='Cylinders', ylabel='Density'>"
      ]
     },
     "execution_count": 23,
     "metadata": {},
     "output_type": "execute_result"
    },
    {
     "data": {
      "image/png": "[encoded data removed]",
      "text/plain": [
       "<Figure size 432x288 with 1 Axes>"
      ]
     },
     "metadata": {
      "needs_background": "light"
     },
     "output_type": "display_data"
    }
   ],
   "source": [
    "sns.kdeplot(df['Cylinders'])"
   ]
  },
  {
   "cell_type": "code",
   "execution_count": 24,
   "id": "7188296a",
   "metadata": {},
   "outputs": [
    {
     "name": "stderr",
     "output_type": "stream",
     "text": [
      "C:\\Users\\lokes\\Anaconda3\\lib\\site-packages\\seaborn\\_decorators.py:36: FutureWarning: Pass the following variable as a keyword arg: x. From version 0.12, the only valid positional argument will be `data`, and passing other arguments without an explicit keyword will result in an error or misinterpretation.\n",
      "  warnings.warn(\n"
     ]
    },
    {
     "data": {
      "text/plain": [
       "<AxesSubplot:xlabel='Gear box type', ylabel='count'>"
      ]
     },
     "execution_count": 24,
     "metadata": {},
     "output_type": "execute_result"
    },
    {
     "data": {
      "image/png": "[encoded data removed]",
      "text/plain": [
       "<Figure size 432x288 with 1 Axes>"
      ]
     },
     "metadata": {
      "needs_background": "light"
     },
     "output_type": "display_data"
    }
   ],
   "source": [
    "sns.countplot(df['Gear box type'])"
   ]
  },
  {
   "cell_type": "code",
   "execution_count": 25,
   "id": "4fddb064",
   "metadata": {},
   "outputs": [
    {
     "data": {
      "text/plain": [
       "Front    12695\n",
       "4x4       3969\n",
       "Rear      2260\n",
       "Name: Drive wheels, dtype: int64"
      ]
     },
     "execution_count": 25,
     "metadata": {},
     "output_type": "execute_result"
    }
   ],
   "source": [
    "df['Drive wheels'].value_counts()"
   ]
  },
  {
   "cell_type": "code",
   "execution_count": 26,
   "id": "aa1db3c4",
   "metadata": {},
   "outputs": [
    {
     "name": "stderr",
     "output_type": "stream",
     "text": [
      "C:\\Users\\lokes\\Anaconda3\\lib\\site-packages\\seaborn\\_decorators.py:36: FutureWarning: Pass the following variable as a keyword arg: x. From version 0.12, the only valid positional argument will be `data`, and passing other arguments without an explicit keyword will result in an error or misinterpretation.\n",
      "  warnings.warn(\n"
     ]
    },
    {
     "data": {
      "text/plain": [
       "<AxesSubplot:xlabel='Drive wheels', ylabel='count'>"
      ]
     },
     "execution_count": 26,
     "metadata": {},
     "output_type": "execute_result"
    },
    {
     "data": {
      "image/png": "[encoded data removed]",
      "text/plain": [
       "<Figure size 432x288 with 1 Axes>"
      ]
     },
     "metadata": {
      "needs_background": "light"
     },
     "output_type": "display_data"
    }
   ],
   "source": [
    "sns.countplot(df['Drive wheels'])"
   ]
  },
  {
   "cell_type": "code",
   "execution_count": 27,
   "id": "1f3c9646",
   "metadata": {},
   "outputs": [
    {
     "data": {
      "text/plain": [
       "04-May    18032\n",
       "02-Mar      768\n",
       ">5          124\n",
       "Name: Doors, dtype: int64"
      ]
     },
     "execution_count": 27,
     "metadata": {},
     "output_type": "execute_result"
    }
   ],
   "source": [
    "df['Doors'].value_counts()"
   ]
  },
  {
   "cell_type": "code",
   "execution_count": 28,
   "id": "c750f6cf",
   "metadata": {},
   "outputs": [
    {
     "name": "stderr",
     "output_type": "stream",
     "text": [
      "C:\\Users\\lokes\\Anaconda3\\lib\\site-packages\\seaborn\\_decorators.py:36: FutureWarning: Pass the following variable as a keyword arg: x. From version 0.12, the only valid positional argument will be `data`, and passing other arguments without an explicit keyword will result in an error or misinterpretation.\n",
      "  warnings.warn(\n"
     ]
    },
    {
     "data": {
      "text/plain": [
       "<AxesSubplot:xlabel='Doors', ylabel='count'>"
      ]
     },
     "execution_count": 28,
     "metadata": {},
     "output_type": "execute_result"
    },
    {
     "data": {
      "image/png": "[encoded data removed]",
      "text/plain": [
       "<Figure size 432x288 with 1 Axes>"
      ]
     },
     "metadata": {
      "needs_background": "light"
     },
     "output_type": "display_data"
    }
   ],
   "source": [
    "sns.countplot(df['Doors'])"
   ]
  },
  {
   "cell_type": "code",
   "execution_count": 29,
   "id": "9d7f938f",
   "metadata": {},
   "outputs": [
    {
     "data": {
      "text/plain": [
       "Left wheel          17471\n",
       "Right-hand drive     1453\n",
       "Name: Wheel, dtype: int64"
      ]
     },
     "execution_count": 29,
     "metadata": {},
     "output_type": "execute_result"
    }
   ],
   "source": [
    "df['Wheel'].value_counts()"
   ]
  },
  {
   "cell_type": "code",
   "execution_count": 30,
   "id": "1d676c0b",
   "metadata": {},
   "outputs": [
    {
     "name": "stderr",
     "output_type": "stream",
     "text": [
      "C:\\Users\\lokes\\Anaconda3\\lib\\site-packages\\seaborn\\_decorators.py:36: FutureWarning: Pass the following variable as a keyword arg: x. From version 0.12, the only valid positional argument will be `data`, and passing other arguments without an explicit keyword will result in an error or misinterpretation.\n",
      "  warnings.warn(\n"
     ]
    },
    {
     "data": {
      "text/plain": [
       "<AxesSubplot:xlabel='Wheel', ylabel='count'>"
      ]
     },
     "execution_count": 30,
     "metadata": {},
     "output_type": "execute_result"
    },
    {
     "data": {
      "image/png": "[encoded data removed]",
      "text/plain": [
       "<Figure size 432x288 with 1 Axes>"
      ]
     },
     "metadata": {
      "needs_background": "light"
     },
     "output_type": "display_data"
    }
   ],
   "source": [
    "sns.countplot(df['Wheel'])"
   ]
  },
  {
   "cell_type": "code",
   "execution_count": 31,
   "id": "98d81a4c",
   "metadata": {},
   "outputs": [
    {
     "data": {
      "text/plain": [
       "Black            4944\n",
       "White            4407\n",
       "Silver           3729\n",
       "Grey             2343\n",
       "Blue             1376\n",
       "Red               622\n",
       "Green             321\n",
       "Orange            252\n",
       "Brown             185\n",
       "Carnelian red     177\n",
       "Golden            143\n",
       "Beige             134\n",
       "Sky blue          122\n",
       "Yellow            105\n",
       "Purple             39\n",
       "Pink               25\n",
       "Name: Color, dtype: int64"
      ]
     },
     "execution_count": 31,
     "metadata": {},
     "output_type": "execute_result"
    }
   ],
   "source": [
    "df['Color'].value_counts()"
   ]
  },
  {
   "cell_type": "code",
   "execution_count": 32,
   "id": "5576c431",
   "metadata": {},
   "outputs": [
    {
     "name": "stderr",
     "output_type": "stream",
     "text": [
      "C:\\Users\\lokes\\Anaconda3\\lib\\site-packages\\seaborn\\_decorators.py:36: FutureWarning: Pass the following variable as a keyword arg: x. From version 0.12, the only valid positional argument will be `data`, and passing other arguments without an explicit keyword will result in an error or misinterpretation.\n",
      "  warnings.warn(\n"
     ]
    },
    {
     "data": {
      "text/plain": [
       "<AxesSubplot:xlabel='Color', ylabel='count'>"
      ]
     },
     "execution_count": 32,
     "metadata": {},
     "output_type": "execute_result"
    },
    {
     "data": {
      "image/png": "[encoded data removed]",
      "text/plain": [
       "<Figure size 1080x720 with 1 Axes>"
      ]
     },
     "metadata": {
      "needs_background": "light"
     },
     "output_type": "display_data"
    }
   ],
   "source": [
    "plt.figure(figsize=(15,10))\n",
    "sns.countplot(df['Color'])"
   ]
  },
  {
   "cell_type": "code",
   "execution_count": 33,
   "id": "e2c16f08",
   "metadata": {},
   "outputs": [
    {
     "data": {
      "text/plain": [
       "<AxesSubplot:xlabel='Airbags', ylabel='Density'>"
      ]
     },
     "execution_count": 33,
     "metadata": {},
     "output_type": "execute_result"
    },
    {
     "data": {
      "image/png": "[encoded data removed]",
      "text/plain": [
       "<Figure size 432x288 with 1 Axes>"
      ]
     },
     "metadata": {
      "needs_background": "light"
     },
     "output_type": "display_data"
    }
   ],
   "source": [
    "sns.kdeplot(df['Airbags'])"
   ]
  },
  {
   "cell_type": "markdown",
   "id": "b1db8917",
   "metadata": {},
   "source": [
    "### Feature Engineering"
   ]
  },
  {
   "cell_type": "code",
   "execution_count": 34,
   "id": "1467ea8f",
   "metadata": {},
   "outputs": [],
   "source": [
    "df['Levy'] = df['Levy'].astype(float)"
   ]
  },
  {
   "cell_type": "code",
   "execution_count": 35,
   "id": "f99f1d61",
   "metadata": {},
   "outputs": [
    {
     "data": {
      "text/plain": [
       "<AxesSubplot:xlabel='Levy', ylabel='Density'>"
      ]
     },
     "execution_count": 35,
     "metadata": {},
     "output_type": "execute_result"
    },
    {
     "data": {
      "image/png": "[encoded data removed]",
      "text/plain": [
       "<Figure size 432x288 with 1 Axes>"
      ]
     },
     "metadata": {
      "needs_background": "light"
     },
     "output_type": "display_data"
    }
   ],
   "source": [
    "sns.kdeplot(df['Levy'])"
   ]
  },
  {
   "cell_type": "code",
   "execution_count": 36,
   "id": "02fd9da9",
   "metadata": {},
   "outputs": [],
   "source": [
    "# Replace the missing values with knn imputer it works better compare to other techinques\n",
    "from sklearn.impute import KNNImputer"
   ]
  },
  {
   "cell_type": "code",
   "execution_count": 37,
   "id": "2c41c43e",
   "metadata": {},
   "outputs": [],
   "source": [
    "impute = KNNImputer(n_neighbors=5)"
   ]
  },
  {
   "cell_type": "code",
   "execution_count": 38,
   "id": "b2f4a4fa",
   "metadata": {},
   "outputs": [],
   "source": [
    "df['Levy'] = impute.fit_transform(df['Levy'].values.reshape(-1,1))"
   ]
  },
  {
   "cell_type": "code",
   "execution_count": 39,
   "id": "4f3f47d0",
   "metadata": {},
   "outputs": [
    {
     "data": {
      "text/plain": [
       "<AxesSubplot:xlabel='Levy', ylabel='Density'>"
      ]
     },
     "execution_count": 39,
     "metadata": {},
     "output_type": "execute_result"
    },
    {
     "data": {
      "image/png": "[encoded data removed]",
      "text/plain": [
       "<Figure size 432x288 with 1 Axes>"
      ]
     },
     "metadata": {
      "needs_background": "light"
     },
     "output_type": "display_data"
    }
   ],
   "source": [
    "sns.kdeplot(df['Levy'])"
   ]
  },
  {
   "cell_type": "code",
   "execution_count": 40,
   "id": "d4c442c0",
   "metadata": {},
   "outputs": [
    {
     "name": "stderr",
     "output_type": "stream",
     "text": [
      "C:\\Users\\lokes\\Anaconda3\\lib\\site-packages\\statsmodels\\compat\\pandas.py:61: FutureWarning: pandas.Int64Index is deprecated and will be removed from pandas in a future version. Use pandas.Index with the appropriate dtype instead.\n",
      "  from pandas import Int64Index as NumericIndex\n"
     ]
    }
   ],
   "source": [
    "# Performing a categorical encoding such as target guided encoding \n",
    "import category_encoders as ce"
   ]
  },
  {
   "cell_type": "code",
   "execution_count": 41,
   "id": "1bde2b48",
   "metadata": {},
   "outputs": [],
   "source": [
    "ge = ce.LeaveOneOutEncoder()"
   ]
  },
  {
   "cell_type": "code",
   "execution_count": 42,
   "id": "72896a6b",
   "metadata": {},
   "outputs": [],
   "source": [
    "df['Manufacturer'] = ge.fit_transform(df['Manufacturer'],df['Price'])"
   ]
  },
  {
   "cell_type": "code",
   "execution_count": 43,
   "id": "26d5d4ba",
   "metadata": {},
   "outputs": [
    {
     "name": "stderr",
     "output_type": "stream",
     "text": [
      "C:\\Users\\lokes\\Anaconda3\\lib\\site-packages\\category_encoders\\target_encoder.py:122: FutureWarning: Default parameter min_samples_leaf will change in version 2.6.See https://github.com/scikit-learn-contrib/category_encoders/issues/327\n",
      "  warnings.warn(\"Default parameter min_samples_leaf will change in version 2.6.\"\n",
      "C:\\Users\\lokes\\Anaconda3\\lib\\site-packages\\category_encoders\\target_encoder.py:127: FutureWarning: Default parameter smoothing will change in version 2.6.See https://github.com/scikit-learn-contrib/category_encoders/issues/327\n",
      "  warnings.warn(\"Default parameter smoothing will change in version 2.6.\"\n"
     ]
    }
   ],
   "source": [
    "target = ce.TargetEncoder()"
   ]
  },
  {
   "cell_type": "code",
   "execution_count": 44,
   "id": "cbc59e87",
   "metadata": {},
   "outputs": [],
   "source": [
    "df['Model'] = target.fit_transform(df['Model'],df['Price'])"
   ]
  },
  {
   "cell_type": "code",
   "execution_count": 45,
   "id": "5deedb76",
   "metadata": {},
   "outputs": [],
   "source": [
    "df['Category'] = target.fit_transform(df['Category'],df['Price'])"
   ]
  },
  {
   "cell_type": "code",
   "execution_count": 46,
   "id": "9ba84168",
   "metadata": {},
   "outputs": [],
   "source": [
    "df['Leather interior'] = df['Leather interior'].map({\"Yes\":1,\"No\" : 0})"
   ]
  },
  {
   "cell_type": "code",
   "execution_count": 47,
   "id": "f865f2e9",
   "metadata": {},
   "outputs": [
    {
     "data": {
      "text/html": [
       "<div>\n",
       "<style scoped>\n",
       "    .dataframe tbody tr th:only-of-type {\n",
       "        vertical-align: middle;\n",
       "    }\n",
       "\n",
       "    .dataframe tbody tr th {\n",
       "        vertical-align: top;\n",
       "    }\n",
       "\n",
       "    .dataframe thead th {\n",
       "        text-align: right;\n",
       "    }\n",
       "</style>\n",
       "<table border=\"1\" class=\"dataframe\">\n",
       "  <thead>\n",
       "    <tr style=\"text-align: right;\">\n",
       "      <th></th>\n",
       "      <th>Price</th>\n",
       "      <th>Levy</th>\n",
       "      <th>Manufacturer</th>\n",
       "      <th>Model</th>\n",
       "      <th>Prod. year</th>\n",
       "      <th>Category</th>\n",
       "      <th>Leather interior</th>\n",
       "      <th>Cylinders</th>\n",
       "      <th>Airbags</th>\n",
       "    </tr>\n",
       "  </thead>\n",
       "  <tbody>\n",
       "    <tr>\n",
       "      <th>Price</th>\n",
       "      <td>1.000000</td>\n",
       "      <td>0.005509</td>\n",
       "      <td>0.001368</td>\n",
       "      <td>0.172346</td>\n",
       "      <td>0.012689</td>\n",
       "      <td>0.066310</td>\n",
       "      <td>0.000551</td>\n",
       "      <td>0.007435</td>\n",
       "      <td>-0.012709</td>\n",
       "    </tr>\n",
       "    <tr>\n",
       "      <th>Levy</th>\n",
       "      <td>0.005509</td>\n",
       "      <td>1.000000</td>\n",
       "      <td>0.039830</td>\n",
       "      <td>0.050279</td>\n",
       "      <td>-0.107800</td>\n",
       "      <td>0.098559</td>\n",
       "      <td>0.011109</td>\n",
       "      <td>0.459803</td>\n",
       "      <td>0.067877</td>\n",
       "    </tr>\n",
       "    <tr>\n",
       "      <th>Manufacturer</th>\n",
       "      <td>0.001368</td>\n",
       "      <td>0.039830</td>\n",
       "      <td>1.000000</td>\n",
       "      <td>0.270766</td>\n",
       "      <td>-0.131791</td>\n",
       "      <td>0.239927</td>\n",
       "      <td>-0.016356</td>\n",
       "      <td>0.028479</td>\n",
       "      <td>-0.111719</td>\n",
       "    </tr>\n",
       "    <tr>\n",
       "      <th>Model</th>\n",
       "      <td>0.172346</td>\n",
       "      <td>0.050279</td>\n",
       "      <td>0.270766</td>\n",
       "      <td>1.000000</td>\n",
       "      <td>0.017989</td>\n",
       "      <td>0.355076</td>\n",
       "      <td>0.002898</td>\n",
       "      <td>0.031720</td>\n",
       "      <td>-0.062909</td>\n",
       "    </tr>\n",
       "    <tr>\n",
       "      <th>Prod. year</th>\n",
       "      <td>0.012689</td>\n",
       "      <td>-0.107800</td>\n",
       "      <td>-0.131791</td>\n",
       "      <td>0.017989</td>\n",
       "      <td>1.000000</td>\n",
       "      <td>-0.126363</td>\n",
       "      <td>0.388608</td>\n",
       "      <td>-0.099443</td>\n",
       "      <td>0.235160</td>\n",
       "    </tr>\n",
       "    <tr>\n",
       "      <th>Category</th>\n",
       "      <td>0.066310</td>\n",
       "      <td>0.098559</td>\n",
       "      <td>0.239927</td>\n",
       "      <td>0.355076</td>\n",
       "      <td>-0.126363</td>\n",
       "      <td>1.000000</td>\n",
       "      <td>-0.088764</td>\n",
       "      <td>0.053244</td>\n",
       "      <td>-0.109118</td>\n",
       "    </tr>\n",
       "    <tr>\n",
       "      <th>Leather interior</th>\n",
       "      <td>0.000551</td>\n",
       "      <td>0.011109</td>\n",
       "      <td>-0.016356</td>\n",
       "      <td>0.002898</td>\n",
       "      <td>0.388608</td>\n",
       "      <td>-0.088764</td>\n",
       "      <td>1.000000</td>\n",
       "      <td>0.199716</td>\n",
       "      <td>0.161889</td>\n",
       "    </tr>\n",
       "    <tr>\n",
       "      <th>Cylinders</th>\n",
       "      <td>0.007435</td>\n",
       "      <td>0.459803</td>\n",
       "      <td>0.028479</td>\n",
       "      <td>0.031720</td>\n",
       "      <td>-0.099443</td>\n",
       "      <td>0.053244</td>\n",
       "      <td>0.199716</td>\n",
       "      <td>1.000000</td>\n",
       "      <td>0.174112</td>\n",
       "    </tr>\n",
       "    <tr>\n",
       "      <th>Airbags</th>\n",
       "      <td>-0.012709</td>\n",
       "      <td>0.067877</td>\n",
       "      <td>-0.111719</td>\n",
       "      <td>-0.062909</td>\n",
       "      <td>0.235160</td>\n",
       "      <td>-0.109118</td>\n",
       "      <td>0.161889</td>\n",
       "      <td>0.174112</td>\n",
       "      <td>1.000000</td>\n",
       "    </tr>\n",
       "  </tbody>\n",
       "</table>\n",
       "</div>"
      ],
      "text/plain": [
       "                     Price      Levy  Manufacturer     Model  Prod. year  \\\n",
       "Price             1.000000  0.005509      0.001368  0.172346    0.012689   \n",
       "Levy              0.005509  1.000000      0.039830  0.050279   -0.107800   \n",
       "Manufacturer      0.001368  0.039830      1.000000  0.270766   -0.131791   \n",
       "Model             0.172346  0.050279      0.270766  1.000000    0.017989   \n",
       "Prod. year        0.012689 -0.107800     -0.131791  0.017989    1.000000   \n",
       "Category          0.066310  0.098559      0.239927  0.355076   -0.126363   \n",
       "Leather interior  0.000551  0.011109     -0.016356  0.002898    0.388608   \n",
       "Cylinders         0.007435  0.459803      0.028479  0.031720   -0.099443   \n",
       "Airbags          -0.012709  0.067877     -0.111719 -0.062909    0.235160   \n",
       "\n",
       "                  Category  Leather interior  Cylinders   Airbags  \n",
       "Price             0.066310          0.000551   0.007435 -0.012709  \n",
       "Levy              0.098559          0.011109   0.459803  0.067877  \n",
       "Manufacturer      0.239927         -0.016356   0.028479 -0.111719  \n",
       "Model             0.355076          0.002898   0.031720 -0.062909  \n",
       "Prod. year       -0.126363          0.388608  -0.099443  0.235160  \n",
       "Category          1.000000         -0.088764   0.053244 -0.109118  \n",
       "Leather interior -0.088764          1.000000   0.199716  0.161889  \n",
       "Cylinders         0.053244          0.199716   1.000000  0.174112  \n",
       "Airbags          -0.109118          0.161889   0.174112  1.000000  "
      ]
     },
     "execution_count": 47,
     "metadata": {},
     "output_type": "execute_result"
    }
   ],
   "source": [
    "df.corr()"
   ]
  },
  {
   "cell_type": "code",
   "execution_count": 48,
   "id": "df4064bb",
   "metadata": {},
   "outputs": [],
   "source": [
    "mean_encoding = df.groupby(['Fuel type'])['Price'].mean()"
   ]
  },
  {
   "cell_type": "code",
   "execution_count": 49,
   "id": "7274b457",
   "metadata": {},
   "outputs": [],
   "source": [
    "df['Fuel type'] = df['Fuel type'].map(mean_encoding)"
   ]
  },
  {
   "cell_type": "code",
   "execution_count": 50,
   "id": "679931b0",
   "metadata": {},
   "outputs": [],
   "source": [
    "df['Turbo'] = df['Engine volume'].str.contains(\"Turbo\")"
   ]
  },
  {
   "cell_type": "code",
   "execution_count": 51,
   "id": "081f8ca2",
   "metadata": {},
   "outputs": [],
   "source": [
    "df['Turbo'] = df['Turbo'].map({False:0,True:1})"
   ]
  },
  {
   "cell_type": "code",
   "execution_count": 52,
   "id": "07797298",
   "metadata": {},
   "outputs": [],
   "source": [
    "df['Engine volume'] = df['Engine volume'].str.split().str[0]"
   ]
  },
  {
   "cell_type": "code",
   "execution_count": 53,
   "id": "0facd24d",
   "metadata": {},
   "outputs": [],
   "source": [
    "df['Engine volume'] = df['Engine volume'].astype(float)"
   ]
  },
  {
   "cell_type": "code",
   "execution_count": 54,
   "id": "c1a72a43",
   "metadata": {},
   "outputs": [],
   "source": [
    "df['Mileage'] = df['Mileage'].str.split().str[0]"
   ]
  },
  {
   "cell_type": "code",
   "execution_count": 55,
   "id": "b7bc7b3b",
   "metadata": {},
   "outputs": [],
   "source": [
    "df['Mileage'] = df['Mileage'].astype(float)"
   ]
  },
  {
   "cell_type": "code",
   "execution_count": 56,
   "id": "3a179e9d",
   "metadata": {},
   "outputs": [
    {
     "data": {
      "text/plain": [
       "<AxesSubplot:xlabel='Mileage', ylabel='Density'>"
      ]
     },
     "execution_count": 56,
     "metadata": {},
     "output_type": "execute_result"
    },
    {
     "data": {
      "image/png": "[encoded data removed]",
      "text/plain": [
       "<Figure size 576x360 with 1 Axes>"
      ]
     },
     "metadata": {
      "needs_background": "light"
     },
     "output_type": "display_data"
    }
   ],
   "source": [
    "plt.figure(figsize=(8,5))\n",
    "sns.kdeplot(df['Mileage'])"
   ]
  },
  {
   "cell_type": "code",
   "execution_count": 57,
   "id": "33fa3356",
   "metadata": {},
   "outputs": [],
   "source": [
    "df['Gear box type'] = ge.fit_transform(df['Gear box type'],df['Price'])"
   ]
  },
  {
   "cell_type": "code",
   "execution_count": 58,
   "id": "a9d668fd",
   "metadata": {},
   "outputs": [],
   "source": [
    "df['Drive wheels'] = ge.fit_transform(df['Drive wheels'],df['Price'])"
   ]
  },
  {
   "cell_type": "code",
   "execution_count": 59,
   "id": "dc9eac25",
   "metadata": {},
   "outputs": [],
   "source": [
    "df['Doors'] = df['Doors'].map({'04-May':4, '02-Mar':2, '>5':5})"
   ]
  },
  {
   "cell_type": "code",
   "execution_count": 60,
   "id": "b6a686ec",
   "metadata": {},
   "outputs": [],
   "source": [
    "mean_encoding_1 = df.groupby(['Wheel'])['Price'].mean().sort_values(ascending = False)"
   ]
  },
  {
   "cell_type": "code",
   "execution_count": 61,
   "id": "d1a39966",
   "metadata": {},
   "outputs": [],
   "source": [
    "df['Wheel'] = df['Wheel'].map(mean_encoding_1)"
   ]
  },
  {
   "cell_type": "code",
   "execution_count": 62,
   "id": "fddbdb88",
   "metadata": {},
   "outputs": [],
   "source": [
    "df['Color'] = ge.fit_transform(df['Color'],df['Price'])"
   ]
  },
  {
   "cell_type": "code",
   "execution_count": 63,
   "id": "290cc327",
   "metadata": {},
   "outputs": [
    {
     "data": {
      "text/html": [
       "<div>\n",
       "<style scoped>\n",
       "    .dataframe tbody tr th:only-of-type {\n",
       "        vertical-align: middle;\n",
       "    }\n",
       "\n",
       "    .dataframe tbody tr th {\n",
       "        vertical-align: top;\n",
       "    }\n",
       "\n",
       "    .dataframe thead th {\n",
       "        text-align: right;\n",
       "    }\n",
       "</style>\n",
       "<table border=\"1\" class=\"dataframe\">\n",
       "  <thead>\n",
       "    <tr style=\"text-align: right;\">\n",
       "      <th></th>\n",
       "      <th>Price</th>\n",
       "      <th>Levy</th>\n",
       "      <th>Manufacturer</th>\n",
       "      <th>Model</th>\n",
       "      <th>Prod. year</th>\n",
       "      <th>Category</th>\n",
       "      <th>Leather interior</th>\n",
       "      <th>Fuel type</th>\n",
       "      <th>Engine volume</th>\n",
       "      <th>Mileage</th>\n",
       "      <th>Cylinders</th>\n",
       "      <th>Gear box type</th>\n",
       "      <th>Drive wheels</th>\n",
       "      <th>Doors</th>\n",
       "      <th>Wheel</th>\n",
       "      <th>Color</th>\n",
       "      <th>Airbags</th>\n",
       "      <th>Turbo</th>\n",
       "    </tr>\n",
       "  </thead>\n",
       "  <tbody>\n",
       "    <tr>\n",
       "      <th>0</th>\n",
       "      <td>13328</td>\n",
       "      <td>1399.000000</td>\n",
       "      <td>20059.856371</td>\n",
       "      <td>10658.569767</td>\n",
       "      <td>2010</td>\n",
       "      <td>23760.507252</td>\n",
       "      <td>1</td>\n",
       "      <td>10845.476688</td>\n",
       "      <td>3.5</td>\n",
       "      <td>186005.0</td>\n",
       "      <td>6.0</td>\n",
       "      <td>16004.934041</td>\n",
       "      <td>19581.879032</td>\n",
       "      <td>4</td>\n",
       "      <td>19394.079675</td>\n",
       "      <td>15122.514485</td>\n",
       "      <td>12</td>\n",
       "      <td>0</td>\n",
       "    </tr>\n",
       "    <tr>\n",
       "      <th>1</th>\n",
       "      <td>16621</td>\n",
       "      <td>1018.000000</td>\n",
       "      <td>14893.223709</td>\n",
       "      <td>7508.500062</td>\n",
       "      <td>2011</td>\n",
       "      <td>23760.507252</td>\n",
       "      <td>0</td>\n",
       "      <td>17391.153459</td>\n",
       "      <td>3.0</td>\n",
       "      <td>192000.0</td>\n",
       "      <td>6.0</td>\n",
       "      <td>26316.746084</td>\n",
       "      <td>19581.049143</td>\n",
       "      <td>4</td>\n",
       "      <td>19394.079675</td>\n",
       "      <td>18915.648594</td>\n",
       "      <td>8</td>\n",
       "      <td>0</td>\n",
       "    </tr>\n",
       "    <tr>\n",
       "      <th>2</th>\n",
       "      <td>8467</td>\n",
       "      <td>906.299205</td>\n",
       "      <td>14168.012513</td>\n",
       "      <td>11102.885135</td>\n",
       "      <td>2006</td>\n",
       "      <td>11354.611647</td>\n",
       "      <td>0</td>\n",
       "      <td>17391.153459</td>\n",
       "      <td>1.3</td>\n",
       "      <td>200000.0</td>\n",
       "      <td>4.0</td>\n",
       "      <td>14779.109290</td>\n",
       "      <td>18503.816055</td>\n",
       "      <td>4</td>\n",
       "      <td>8888.271851</td>\n",
       "      <td>18917.298199</td>\n",
       "      <td>2</td>\n",
       "      <td>0</td>\n",
       "    </tr>\n",
       "    <tr>\n",
       "      <th>3</th>\n",
       "      <td>3607</td>\n",
       "      <td>862.000000</td>\n",
       "      <td>15422.710212</td>\n",
       "      <td>8172.547945</td>\n",
       "      <td>2011</td>\n",
       "      <td>23760.507252</td>\n",
       "      <td>1</td>\n",
       "      <td>10845.476688</td>\n",
       "      <td>2.5</td>\n",
       "      <td>168966.0</td>\n",
       "      <td>4.0</td>\n",
       "      <td>16005.665989</td>\n",
       "      <td>19584.328881</td>\n",
       "      <td>4</td>\n",
       "      <td>19394.079675</td>\n",
       "      <td>18145.261689</td>\n",
       "      <td>0</td>\n",
       "      <td>0</td>\n",
       "    </tr>\n",
       "    <tr>\n",
       "      <th>4</th>\n",
       "      <td>11726</td>\n",
       "      <td>446.000000</td>\n",
       "      <td>14164.614181</td>\n",
       "      <td>11102.885135</td>\n",
       "      <td>2014</td>\n",
       "      <td>11354.611647</td>\n",
       "      <td>1</td>\n",
       "      <td>17391.153459</td>\n",
       "      <td>1.3</td>\n",
       "      <td>91901.0</td>\n",
       "      <td>4.0</td>\n",
       "      <td>16005.054665</td>\n",
       "      <td>18503.559319</td>\n",
       "      <td>4</td>\n",
       "      <td>19394.079675</td>\n",
       "      <td>15122.944206</td>\n",
       "      <td>4</td>\n",
       "      <td>0</td>\n",
       "    </tr>\n",
       "  </tbody>\n",
       "</table>\n",
       "</div>"
      ],
      "text/plain": [
       "   Price         Levy  Manufacturer         Model  Prod. year      Category  \\\n",
       "0  13328  1399.000000  20059.856371  10658.569767        2010  23760.507252   \n",
       "1  16621  1018.000000  14893.223709   7508.500062        2011  23760.507252   \n",
       "2   8467   906.299205  14168.012513  11102.885135        2006  11354.611647   \n",
       "3   3607   862.000000  15422.710212   8172.547945        2011  23760.507252   \n",
       "4  11726   446.000000  14164.614181  11102.885135        2014  11354.611647   \n",
       "\n",
       "   Leather interior     Fuel type  Engine volume   Mileage  Cylinders  \\\n",
       "0                 1  10845.476688            3.5  186005.0        6.0   \n",
       "1                 0  17391.153459            3.0  192000.0        6.0   \n",
       "2                 0  17391.153459            1.3  200000.0        4.0   \n",
       "3                 1  10845.476688            2.5  168966.0        4.0   \n",
       "4                 1  17391.153459            1.3   91901.0        4.0   \n",
       "\n",
       "   Gear box type  Drive wheels  Doors         Wheel         Color  Airbags  \\\n",
       "0   16004.934041  19581.879032      4  19394.079675  15122.514485       12   \n",
       "1   26316.746084  19581.049143      4  19394.079675  18915.648594        8   \n",
       "2   14779.109290  18503.816055      4   8888.271851  18917.298199        2   \n",
       "3   16005.665989  19584.328881      4  19394.079675  18145.261689        0   \n",
       "4   16005.054665  18503.559319      4  19394.079675  15122.944206        4   \n",
       "\n",
       "   Turbo  \n",
       "0      0  \n",
       "1      0  \n",
       "2      0  \n",
       "3      0  \n",
       "4      0  "
      ]
     },
     "execution_count": 63,
     "metadata": {},
     "output_type": "execute_result"
    }
   ],
   "source": [
    "df.head()"
   ]
  },
  {
   "cell_type": "code",
   "execution_count": 64,
   "id": "349fc922",
   "metadata": {},
   "outputs": [
    {
     "data": {
      "text/plain": [
       "<AxesSubplot:>"
      ]
     },
     "execution_count": 64,
     "metadata": {},
     "output_type": "execute_result"
    },
    {
     "data": {
      "image/png": "[encoded data removed]",
      "text/plain": [
       "<Figure size 1080x720 with 2 Axes>"
      ]
     },
     "metadata": {
      "needs_background": "light"
     },
     "output_type": "display_data"
    }
   ],
   "source": [
    "plt.figure(figsize=(15,10))\n",
    "sns.heatmap(df.corr(),annot=True,fmt='.2g')"
   ]
  },
  {
   "cell_type": "code",
   "execution_count": null,
   "id": "bf71923c",
   "metadata": {},
   "outputs": [],
   "source": []
  },
  {
   "cell_type": "markdown",
   "id": "d94a9c2b",
   "metadata": {},
   "source": [
    "### Outlier detection"
   ]
  },
  {
   "cell_type": "code",
   "execution_count": 65,
   "id": "370c3929",
   "metadata": {},
   "outputs": [],
   "source": [
    "Outliers = []\n",
    "def data_outliers(data):\n",
    "    threshold = 3\n",
    "    mean = np.mean(data)\n",
    "    std = np.std(data)\n",
    "    \n",
    "    for i in data:\n",
    "        Z_score = (i-mean)/std\n",
    "        if abs(Z_score)>threshold:\n",
    "            Outliers.append(i)\n",
    "    return Outliers"
   ]
  },
  {
   "cell_type": "code",
   "execution_count": 66,
   "id": "6a005b3a",
   "metadata": {},
   "outputs": [
    {
     "data": {
      "text/plain": [
       "[627220, 872946, 26307500]"
      ]
     },
     "execution_count": 66,
     "metadata": {},
     "output_type": "execute_result"
    }
   ],
   "source": [
    "data_outliers(df['Price'])"
   ]
  },
  {
   "cell_type": "markdown",
   "id": "a729ebf1",
   "metadata": {},
   "source": [
    "Using z score there not much of outlier but the most promient method is using IQR method to treat the outliers"
   ]
  },
  {
   "cell_type": "code",
   "execution_count": 67,
   "id": "581f2be3",
   "metadata": {},
   "outputs": [],
   "source": [
    "Q1 = np.percentile(df['Price'],25)"
   ]
  },
  {
   "cell_type": "code",
   "execution_count": 68,
   "id": "04b19ccb",
   "metadata": {},
   "outputs": [
    {
     "data": {
      "text/plain": [
       "5331.0"
      ]
     },
     "execution_count": 68,
     "metadata": {},
     "output_type": "execute_result"
    }
   ],
   "source": [
    "Q1"
   ]
  },
  {
   "cell_type": "code",
   "execution_count": 69,
   "id": "8d1c5b2f",
   "metadata": {},
   "outputs": [],
   "source": [
    "Q3 = np.percentile(df['Price'],75)"
   ]
  },
  {
   "cell_type": "code",
   "execution_count": 70,
   "id": "2f221afd",
   "metadata": {},
   "outputs": [
    {
     "data": {
      "text/plain": [
       "22063.0"
      ]
     },
     "execution_count": 70,
     "metadata": {},
     "output_type": "execute_result"
    }
   ],
   "source": [
    "Q3"
   ]
  },
  {
   "cell_type": "code",
   "execution_count": 71,
   "id": "b49b8431",
   "metadata": {},
   "outputs": [],
   "source": [
    "IQR = Q3 - Q1\n"
   ]
  },
  {
   "cell_type": "code",
   "execution_count": 72,
   "id": "d20ec549",
   "metadata": {},
   "outputs": [
    {
     "data": {
      "text/plain": [
       "16732.0"
      ]
     },
     "execution_count": 72,
     "metadata": {},
     "output_type": "execute_result"
    }
   ],
   "source": [
    "IQR"
   ]
  },
  {
   "cell_type": "code",
   "execution_count": 73,
   "id": "fa888b93",
   "metadata": {},
   "outputs": [],
   "source": [
    "lower_bond = Q1 - (1.5*IQR)\n",
    "upper_bond = Q3 + (1.5*IQR)"
   ]
  },
  {
   "cell_type": "code",
   "execution_count": 74,
   "id": "3a950ddd",
   "metadata": {},
   "outputs": [
    {
     "data": {
      "text/plain": [
       "-19767.0"
      ]
     },
     "execution_count": 74,
     "metadata": {},
     "output_type": "execute_result"
    }
   ],
   "source": [
    "lower_bond"
   ]
  },
  {
   "cell_type": "code",
   "execution_count": 75,
   "id": "94c1b167",
   "metadata": {},
   "outputs": [
    {
     "data": {
      "text/plain": [
       "47161.0"
      ]
     },
     "execution_count": 75,
     "metadata": {},
     "output_type": "execute_result"
    }
   ],
   "source": [
    "upper_bond"
   ]
  },
  {
   "cell_type": "code",
   "execution_count": 78,
   "id": "a7c4dc5c",
   "metadata": {},
   "outputs": [
    {
     "data": {
      "text/html": [
       "<div>\n",
       "<style scoped>\n",
       "    .dataframe tbody tr th:only-of-type {\n",
       "        vertical-align: middle;\n",
       "    }\n",
       "\n",
       "    .dataframe tbody tr th {\n",
       "        vertical-align: top;\n",
       "    }\n",
       "\n",
       "    .dataframe thead th {\n",
       "        text-align: right;\n",
       "    }\n",
       "</style>\n",
       "<table border=\"1\" class=\"dataframe\">\n",
       "  <thead>\n",
       "    <tr style=\"text-align: right;\">\n",
       "      <th></th>\n",
       "      <th>Price</th>\n",
       "      <th>Levy</th>\n",
       "      <th>Manufacturer</th>\n",
       "      <th>Model</th>\n",
       "      <th>Prod. year</th>\n",
       "      <th>Category</th>\n",
       "      <th>Leather interior</th>\n",
       "      <th>Fuel type</th>\n",
       "      <th>Engine volume</th>\n",
       "      <th>Mileage</th>\n",
       "      <th>Cylinders</th>\n",
       "      <th>Gear box type</th>\n",
       "      <th>Drive wheels</th>\n",
       "      <th>Doors</th>\n",
       "      <th>Wheel</th>\n",
       "      <th>Color</th>\n",
       "      <th>Airbags</th>\n",
       "      <th>Turbo</th>\n",
       "    </tr>\n",
       "  </thead>\n",
       "  <tbody>\n",
       "    <tr>\n",
       "      <th>14</th>\n",
       "      <td>59464</td>\n",
       "      <td>891.000000</td>\n",
       "      <td>22296.033530</td>\n",
       "      <td>39636.578748</td>\n",
       "      <td>2016</td>\n",
       "      <td>23760.507252</td>\n",
       "      <td>1</td>\n",
       "      <td>30684.792802</td>\n",
       "      <td>2.0</td>\n",
       "      <td>76000.0</td>\n",
       "      <td>4.0</td>\n",
       "      <td>16001.460206</td>\n",
       "      <td>18499.798645</td>\n",
       "      <td>4</td>\n",
       "      <td>19394.079675</td>\n",
       "      <td>18132.584203</td>\n",
       "      <td>4</td>\n",
       "      <td>0</td>\n",
       "    </tr>\n",
       "    <tr>\n",
       "      <th>36</th>\n",
       "      <td>51746</td>\n",
       "      <td>1077.000000</td>\n",
       "      <td>14292.061304</td>\n",
       "      <td>18587.435267</td>\n",
       "      <td>2019</td>\n",
       "      <td>23760.507252</td>\n",
       "      <td>0</td>\n",
       "      <td>17391.153459</td>\n",
       "      <td>2.0</td>\n",
       "      <td>10200.0</td>\n",
       "      <td>4.0</td>\n",
       "      <td>26305.282311</td>\n",
       "      <td>18500.406649</td>\n",
       "      <td>4</td>\n",
       "      <td>19394.079675</td>\n",
       "      <td>13584.317230</td>\n",
       "      <td>12</td>\n",
       "      <td>0</td>\n",
       "    </tr>\n",
       "    <tr>\n",
       "      <th>47</th>\n",
       "      <td>55390</td>\n",
       "      <td>1017.000000</td>\n",
       "      <td>22297.126341</td>\n",
       "      <td>39636.578748</td>\n",
       "      <td>2017</td>\n",
       "      <td>23760.507252</td>\n",
       "      <td>1</td>\n",
       "      <td>30684.792802</td>\n",
       "      <td>2.0</td>\n",
       "      <td>100734.0</td>\n",
       "      <td>4.0</td>\n",
       "      <td>16001.766960</td>\n",
       "      <td>18500.119584</td>\n",
       "      <td>4</td>\n",
       "      <td>19394.079675</td>\n",
       "      <td>18907.805381</td>\n",
       "      <td>4</td>\n",
       "      <td>0</td>\n",
       "    </tr>\n",
       "    <tr>\n",
       "      <th>56</th>\n",
       "      <td>87112</td>\n",
       "      <td>906.299205</td>\n",
       "      <td>18556.775220</td>\n",
       "      <td>19877.326531</td>\n",
       "      <td>2019</td>\n",
       "      <td>23760.507252</td>\n",
       "      <td>1</td>\n",
       "      <td>17391.153459</td>\n",
       "      <td>2.0</td>\n",
       "      <td>5323.0</td>\n",
       "      <td>4.0</td>\n",
       "      <td>26293.739883</td>\n",
       "      <td>19563.284274</td>\n",
       "      <td>4</td>\n",
       "      <td>19394.079675</td>\n",
       "      <td>19213.467122</td>\n",
       "      <td>0</td>\n",
       "      <td>1</td>\n",
       "    </tr>\n",
       "    <tr>\n",
       "      <th>73</th>\n",
       "      <td>53154</td>\n",
       "      <td>891.000000</td>\n",
       "      <td>22297.726127</td>\n",
       "      <td>39636.578748</td>\n",
       "      <td>2016</td>\n",
       "      <td>23760.507252</td>\n",
       "      <td>1</td>\n",
       "      <td>30684.792802</td>\n",
       "      <td>2.0</td>\n",
       "      <td>84506.0</td>\n",
       "      <td>4.0</td>\n",
       "      <td>16001.935321</td>\n",
       "      <td>18500.295730</td>\n",
       "      <td>4</td>\n",
       "      <td>19394.079675</td>\n",
       "      <td>15111.831545</td>\n",
       "      <td>4</td>\n",
       "      <td>0</td>\n",
       "    </tr>\n",
       "    <tr>\n",
       "      <th>...</th>\n",
       "      <td>...</td>\n",
       "      <td>...</td>\n",
       "      <td>...</td>\n",
       "      <td>...</td>\n",
       "      <td>...</td>\n",
       "      <td>...</td>\n",
       "      <td>...</td>\n",
       "      <td>...</td>\n",
       "      <td>...</td>\n",
       "      <td>...</td>\n",
       "      <td>...</td>\n",
       "      <td>...</td>\n",
       "      <td>...</td>\n",
       "      <td>...</td>\n",
       "      <td>...</td>\n",
       "      <td>...</td>\n",
       "      <td>...</td>\n",
       "      <td>...</td>\n",
       "    </tr>\n",
       "    <tr>\n",
       "      <th>19144</th>\n",
       "      <td>56814</td>\n",
       "      <td>1017.000000</td>\n",
       "      <td>22296.744367</td>\n",
       "      <td>14379.360825</td>\n",
       "      <td>2017</td>\n",
       "      <td>14202.733837</td>\n",
       "      <td>1</td>\n",
       "      <td>17391.153459</td>\n",
       "      <td>2.0</td>\n",
       "      <td>67365.0</td>\n",
       "      <td>4.0</td>\n",
       "      <td>16001.659739</td>\n",
       "      <td>18500.007405</td>\n",
       "      <td>4</td>\n",
       "      <td>19394.079675</td>\n",
       "      <td>18907.517297</td>\n",
       "      <td>4</td>\n",
       "      <td>0</td>\n",
       "    </tr>\n",
       "    <tr>\n",
       "      <th>19161</th>\n",
       "      <td>64290</td>\n",
       "      <td>906.299205</td>\n",
       "      <td>20004.821814</td>\n",
       "      <td>18587.435267</td>\n",
       "      <td>2012</td>\n",
       "      <td>23760.507252</td>\n",
       "      <td>1</td>\n",
       "      <td>10845.476688</td>\n",
       "      <td>3.5</td>\n",
       "      <td>97000.0</td>\n",
       "      <td>6.0</td>\n",
       "      <td>14702.848361</td>\n",
       "      <td>19569.035786</td>\n",
       "      <td>4</td>\n",
       "      <td>19394.079675</td>\n",
       "      <td>18906.004855</td>\n",
       "      <td>12</td>\n",
       "      <td>0</td>\n",
       "    </tr>\n",
       "    <tr>\n",
       "      <th>19180</th>\n",
       "      <td>63886</td>\n",
       "      <td>1076.000000</td>\n",
       "      <td>22294.847371</td>\n",
       "      <td>14379.360825</td>\n",
       "      <td>2020</td>\n",
       "      <td>14202.733837</td>\n",
       "      <td>1</td>\n",
       "      <td>13320.505085</td>\n",
       "      <td>2.0</td>\n",
       "      <td>5305.0</td>\n",
       "      <td>4.0</td>\n",
       "      <td>16001.127249</td>\n",
       "      <td>18499.450291</td>\n",
       "      <td>4</td>\n",
       "      <td>19394.079675</td>\n",
       "      <td>15108.952790</td>\n",
       "      <td>4</td>\n",
       "      <td>0</td>\n",
       "    </tr>\n",
       "    <tr>\n",
       "      <th>19188</th>\n",
       "      <td>61154</td>\n",
       "      <td>579.000000</td>\n",
       "      <td>14289.451595</td>\n",
       "      <td>23378.926829</td>\n",
       "      <td>2017</td>\n",
       "      <td>23760.507252</td>\n",
       "      <td>0</td>\n",
       "      <td>10845.476688</td>\n",
       "      <td>2.5</td>\n",
       "      <td>71234.0</td>\n",
       "      <td>4.0</td>\n",
       "      <td>26302.211815</td>\n",
       "      <td>19569.826109</td>\n",
       "      <td>4</td>\n",
       "      <td>19394.079675</td>\n",
       "      <td>18132.200635</td>\n",
       "      <td>12</td>\n",
       "      <td>0</td>\n",
       "    </tr>\n",
       "    <tr>\n",
       "      <th>19211</th>\n",
       "      <td>50037</td>\n",
       "      <td>891.000000</td>\n",
       "      <td>22298.562232</td>\n",
       "      <td>39636.578748</td>\n",
       "      <td>2016</td>\n",
       "      <td>23760.507252</td>\n",
       "      <td>1</td>\n",
       "      <td>30684.792802</td>\n",
       "      <td>2.0</td>\n",
       "      <td>121902.0</td>\n",
       "      <td>4.0</td>\n",
       "      <td>16002.170017</td>\n",
       "      <td>18500.541279</td>\n",
       "      <td>4</td>\n",
       "      <td>19394.079675</td>\n",
       "      <td>18908.888327</td>\n",
       "      <td>4</td>\n",
       "      <td>0</td>\n",
       "    </tr>\n",
       "  </tbody>\n",
       "</table>\n",
       "<p>1055 rows × 18 columns</p>\n",
       "</div>"
      ],
      "text/plain": [
       "       Price         Levy  Manufacturer         Model  Prod. year  \\\n",
       "14     59464   891.000000  22296.033530  39636.578748        2016   \n",
       "36     51746  1077.000000  14292.061304  18587.435267        2019   \n",
       "47     55390  1017.000000  22297.126341  39636.578748        2017   \n",
       "56     87112   906.299205  18556.775220  19877.326531        2019   \n",
       "73     53154   891.000000  22297.726127  39636.578748        2016   \n",
       "...      ...          ...           ...           ...         ...   \n",
       "19144  56814  1017.000000  22296.744367  14379.360825        2017   \n",
       "19161  64290   906.299205  20004.821814  18587.435267        2012   \n",
       "19180  63886  1076.000000  22294.847371  14379.360825        2020   \n",
       "19188  61154   579.000000  14289.451595  23378.926829        2017   \n",
       "19211  50037   891.000000  22298.562232  39636.578748        2016   \n",
       "\n",
       "           Category  Leather interior     Fuel type  Engine volume   Mileage  \\\n",
       "14     23760.507252                 1  30684.792802            2.0   76000.0   \n",
       "36     23760.507252                 0  17391.153459            2.0   10200.0   \n",
       "47     23760.507252                 1  30684.792802            2.0  100734.0   \n",
       "56     23760.507252                 1  17391.153459            2.0    5323.0   \n",
       "73     23760.507252                 1  30684.792802            2.0   84506.0   \n",
       "...             ...               ...           ...            ...       ...   \n",
       "19144  14202.733837                 1  17391.153459            2.0   67365.0   \n",
       "19161  23760.507252                 1  10845.476688            3.5   97000.0   \n",
       "19180  14202.733837                 1  13320.505085            2.0    5305.0   \n",
       "19188  23760.507252                 0  10845.476688            2.5   71234.0   \n",
       "19211  23760.507252                 1  30684.792802            2.0  121902.0   \n",
       "\n",
       "       Cylinders  Gear box type  Drive wheels  Doors         Wheel  \\\n",
       "14           4.0   16001.460206  18499.798645      4  19394.079675   \n",
       "36           4.0   26305.282311  18500.406649      4  19394.079675   \n",
       "47           4.0   16001.766960  18500.119584      4  19394.079675   \n",
       "56           4.0   26293.739883  19563.284274      4  19394.079675   \n",
       "73           4.0   16001.935321  18500.295730      4  19394.079675   \n",
       "...          ...            ...           ...    ...           ...   \n",
       "19144        4.0   16001.659739  18500.007405      4  19394.079675   \n",
       "19161        6.0   14702.848361  19569.035786      4  19394.079675   \n",
       "19180        4.0   16001.127249  18499.450291      4  19394.079675   \n",
       "19188        4.0   26302.211815  19569.826109      4  19394.079675   \n",
       "19211        4.0   16002.170017  18500.541279      4  19394.079675   \n",
       "\n",
       "              Color  Airbags  Turbo  \n",
       "14     18132.584203        4      0  \n",
       "36     13584.317230       12      0  \n",
       "47     18907.805381        4      0  \n",
       "56     19213.467122        0      1  \n",
       "73     15111.831545        4      0  \n",
       "...             ...      ...    ...  \n",
       "19144  18907.517297        4      0  \n",
       "19161  18906.004855       12      0  \n",
       "19180  15108.952790        4      0  \n",
       "19188  18132.200635       12      0  \n",
       "19211  18908.888327        4      0  \n",
       "\n",
       "[1055 rows x 18 columns]"
      ]
     },
     "execution_count": 78,
     "metadata": {},
     "output_type": "execute_result"
    }
   ],
   "source": [
    "df[(df['Price'] < lower_bond) | (df['Price'] > upper_bond)]"
   ]
  },
  {
   "cell_type": "markdown",
   "id": "d76a5f04",
   "metadata": {},
   "source": [
    "above cell shows the outliers"
   ]
  },
  {
   "cell_type": "code",
   "execution_count": 81,
   "id": "21ed25d4",
   "metadata": {},
   "outputs": [],
   "source": [
    "def outliers_detection(df,f):\n",
    "    Q1 = np.percentile(df[f],25)\n",
    "    Q3 = np.percentile(df[f],75)\n",
    "    IQR = Q3 - Q1\n",
    "    \n",
    "    lower_bound = Q1 - (1.5*IQR)\n",
    "    upper_bound = Q3 + (1.5*IQR)\n",
    "    \n",
    "    ls = df.index[(df[f] < lower_bound ) | (df[f] > upper_bound) ]\n",
    "    \n",
    "    return ls"
   ]
  },
  {
   "cell_type": "code",
   "execution_count": 82,
   "id": "df5fb21f",
   "metadata": {},
   "outputs": [
    {
     "data": {
      "text/plain": [
       "Index(['Price', 'Levy', 'Manufacturer', 'Model', 'Prod. year', 'Category',\n",
       "       'Leather interior', 'Fuel type', 'Engine volume', 'Mileage',\n",
       "       'Cylinders', 'Gear box type', 'Drive wheels', 'Doors', 'Wheel', 'Color',\n",
       "       'Airbags', 'Turbo'],\n",
       "      dtype='object')"
      ]
     },
     "execution_count": 82,
     "metadata": {},
     "output_type": "execute_result"
    }
   ],
   "source": [
    "df.columns"
   ]
  },
  {
   "cell_type": "code",
   "execution_count": 83,
   "id": "78af6afd",
   "metadata": {},
   "outputs": [],
   "source": [
    "index_list = []\n",
    "## using for loop to extract all the outliers\n",
    "for feature in ['Price', 'Levy', 'Mileage']:\n",
    "    index_list.extend(outliers_detection(df,feature))"
   ]
  },
  {
   "cell_type": "code",
   "execution_count": 84,
   "id": "4e6f15a2",
   "metadata": {},
   "outputs": [
    {
     "name": "stdout",
     "output_type": "stream",
     "text": [
      "[14, 36, 47, 56, 73, 90, 111, 127, 159, 189, 211, 232, 249, 261, 262, 263, 278, 283, 316, 370, 420, 424, 437, 445, 450, 451, 455, 483, 573, 579, 580, 581, 604, 618, 633, 650, 687, 711, 723, 724, 732, 740, 747, 839, 843, 849, 855, 857, 874, 902, 906, 907, 929, 977, 1019, 1027, 1083, 1090, 1106, 1128, 1132, 1143, 1145, 1162, 1171, 1179, 1218, 1222, 1225, 1261, 1265, 1272, 1278, 1297, 1299, 1316, 1325, 1342, 1364, 1383, 1401, 1428, 1448, 1459, 1478, 1487, 1490, 1509, 1510, 1537, 1539, 1557, 1562, 1573, 1582, 1609, 1612, 1626, 1657, 1662, 1672, 1673, 1704, 1726, 1737, 1740, 1766, 1781, 1803, 1805, 1820, 1823, 1832, 1916, 1956, 1970, 1993, 2010, 2037, 2054, 2055, 2058, 2071, 2085, 2109, 2182, 2184, 2192, 2283, 2325, 2330, 2353, 2365, 2366, 2372, 2411, 2416, 2438, 2504, 2534, 2535, 2550, 2560, 2569, 2604, 2615, 2618, 2675, 2676, 2691, 2726, 2728, 2742, 2768, 2794, 2799, 2830, 2859, 2912, 2922, 2924, 2932, 2941, 2942, 2965, 2988, 2996, 3006, 3021, 3028, 3032, 3064, 3086, 3101, 3111, 3127, 3132, 3137, 3149, 3159, 3167, 3216, 3228, 3255, 3290, 3319, 3365, 3386, 3427, 3446, 3467, 3477, 3478, 3487, 3490, 3519, 3530, 3570, 3628, 3641, 3684, 3686, 3704, 3705, 3707, 3728, 3757, 3765, 3813, 3818, 3829, 3834, 3836, 3905, 3906, 3918, 3923, 3940, 3950, 3970, 3997, 4044, 4051, 4068, 4077, 4084, 4131, 4133, 4140, 4181, 4183, 4189, 4208, 4211, 4213, 4237, 4255, 4294, 4301, 4351, 4382, 4430, 4454, 4465, 4497, 4499, 4520, 4534, 4578, 4590, 4629, 4649, 4654, 4661, 4662, 4688, 4705, 4709, 4722, 4734, 4744, 4763, 4775, 4789, 4900, 4918, 4919, 4953, 4986, 4991, 5008, 5018, 5021, 5065, 5096, 5104, 5105, 5171, 5242, 5250, 5259, 5284, 5291, 5301, 5322, 5349, 5412, 5419, 5485, 5514, 5541, 5560, 5562, 5574, 5588, 5599, 5625, 5641, 5665, 5667, 5683, 5685, 5709, 5718, 5731, 5737, 5769, 5840, 5905, 5910, 5917, 5920, 5921, 5926, 5940, 5941, 5958, 5962, 5987, 6004, 6081, 6084, 6087, 6093, 6096, 6152, 6201, 6202, 6212, 6215, 6248, 6299, 6302, 6325, 6327, 6329, 6335, 6379, 6383, 6405, 6424, 6451, 6457, 6459, 6466, 6468, 6607, 6625, 6629, 6636, 6645, 6652, 6686, 6720, 6748, 6767, 6768, 6825, 6826, 6851, 6858, 6873, 6887, 6899, 6950, 6953, 7010, 7031, 7034, 7038, 7039, 7056, 7094, 7100, 7143, 7147, 7152, 7165, 7185, 7187, 7194, 7247, 7254, 7261, 7283, 7318, 7331, 7338, 7339, 7353, 7372, 7416, 7430, 7461, 7472, 7494, 7565, 7590, 7603, 7621, 7632, 7636, 7641, 7667, 7675, 7686, 7702, 7718, 7722, 7723, 7747, 7749, 7760, 7778, 7824, 7851, 7902, 7915, 7918, 7941, 7957, 7970, 7979, 7987, 7997, 8016, 8022, 8035, 8036, 8057, 8074, 8112, 8120, 8147, 8164, 8176, 8190, 8246, 8273, 8302, 8320, 8331, 8341, 8351, 8366, 8374, 8393, 8406, 8415, 8419, 8508, 8521, 8523, 8538, 8541, 8545, 8547, 8560, 8566, 8617, 8620, 8629, 8644, 8660, 8664, 8706, 8740, 8753, 8755, 8776, 8784, 8805, 8821, 8825, 8842, 8843, 8870, 8880, 8891, 8910, 8914, 8927, 8930, 8946, 8957, 8958, 8971, 9013, 9022, 9101, 9136, 9138, 9166, 9171, 9172, 9197, 9200, 9212, 9233, 9247, 9248, 9259, 9293, 9327, 9367, 9381, 9405, 9423, 9441, 9448, 9452, 9468, 9479, 9551, 9575, 9580, 9602, 9660, 9688, 9691, 9696, 9699, 9706, 9710, 9717, 9736, 9739, 9740, 9754, 9796, 9812, 9857, 9912, 9917, 9950, 9972, 9973, 10015, 10029, 10067, 10082, 10085, 10090, 10098, 10125, 10137, 10138, 10140, 10149, 10161, 10162, 10220, 10230, 10238, 10253, 10286, 10295, 10304, 10312, 10317, 10322, 10331, 10333, 10372, 10382, 10390, 10396, 10409, 10423, 10468, 10470, 10520, 10546, 10550, 10559, 10569, 10577, 10584, 10596, 10615, 10619, 10642, 10648, 10656, 10681, 10690, 10710, 10714, 10717, 10732, 10733, 10759, 10775, 10811, 10827, 10849, 10860, 10874, 10934, 10939, 10942, 10948, 11021, 11034, 11035, 11038, 11041, 11060, 11066, 11083, 11109, 11131, 11138, 11155, 11164, 11165, 11166, 11198, 11210, 11218, 11247, 11270, 11298, 11317, 11322, 11338, 11354, 11360, 11385, 11436, 11445, 11519, 11529, 11537, 11553, 11554, 11589, 11624, 11629, 11642, 11670, 11695, 11704, 11745, 11747, 11756, 11782, 11827, 11836, 11853, 11854, 11880, 11885, 11902, 11906, 11914, 11920, 11925, 11941, 11942, 11973, 12081, 12089, 12092, 12101, 12134, 12146, 12152, 12161, 12163, 12169, 12197, 12216, 12222, 12224, 12242, 12258, 12266, 12302, 12303, 12321, 12327, 12338, 12340, 12352, 12364, 12373, 12385, 12388, 12416, 12420, 12454, 12480, 12482, 12521, 12541, 12554, 12560, 12588, 12593, 12604, 12609, 12661, 12716, 12718, 12719, 12733, 12740, 12750, 12757, 12796, 12848, 12867, 12869, 12905, 12908, 12909, 12914, 12941, 12976, 12981, 12982, 12983, 13016, 13037, 13088, 13093, 13098, 13114, 13144, 13175, 13189, 13226, 13236, 13240, 13265, 13320, 13324, 13325, 13328, 13330, 13334, 13336, 13351, 13363, 13390, 13467, 13507, 13534, 13548, 13559, 13572, 13577, 13598, 13601, 13622, 13631, 13653, 13671, 13687, 13701, 13723, 13743, 13745, 13760, 13811, 13815, 13846, 13847, 13884, 13889, 13901, 13918, 13931, 13941, 13944, 13954, 13970, 13973, 13984, 13999, 14012, 14037, 14051, 14055, 14092, 14103, 14110, 14147, 14151, 14181, 14189, 14193, 14229, 14255, 14265, 14286, 14312, 14343, 14346, 14356, 14406, 14428, 14435, 14523, 14557, 14563, 14592, 14630, 14636, 14645, 14675, 14677, 14700, 14716, 14739, 14749, 14752, 14763, 14767, 14783, 14833, 14834, 14839, 14871, 14876, 14877, 14889, 14930, 14952, 14999, 15031, 15048, 15084, 15091, 15093, 15096, 15127, 15131, 15179, 15187, 15223, 15228, 15233, 15245, 15259, 15267, 15283, 15303, 15311, 15323, 15324, 15336, 15349, 15367, 15377, 15379, 15387, 15405, 15413, 15417, 15421, 15433, 15454, 15469, 15477, 15486, 15489, 15496, 15538, 15575, 15586, 15623, 15659, 15678, 15697, 15773, 15779, 15820, 15821, 15832, 15835, 15849, 15852, 15859, 15872, 15913, 15918, 15946, 15966, 15973, 15976, 16014, 16019, 16022, 16056, 16081, 16084, 16103, 16213, 16226, 16245, 16272, 16279, 16331, 16351, 16364, 16418, 16427, 16432, 16481, 16483, 16486, 16519, 16525, 16534, 16538, 16548, 16570, 16591, 16596, 16614, 16635, 16636, 16643, 16645, 16667, 16682, 16697, 16698, 16718, 16768, 16796, 16808, 16838, 16841, 16849, 16852, 16873, 16888, 16897, 16905, 16921, 16926, 16951, 16961, 16963, 16983, 17005, 17020, 17023, 17069, 17085, 17096, 17141, 17145, 17153, 17167, 17172, 17216, 17237, 17239, 17258, 17278, 17287, 17292, 17298, 17304, 17310, 17348, 17396, 17406, 17426, 17438, 17452, 17463, 17471, 17478, 17480, 17504, 17506, 17508, 17527, 17555, 17583, 17617, 17619, 17643, 17666, 17684, 17728, 17733, 17760, 17790, 17802, 17859, 17868, 17870, 17930, 17952, 17957, 17962, 18013, 18018, 18115, 18120, 18142, 18144, 18148, 18156, 18164, 18179, 18231, 18267, 18285, 18291, 18363, 18376, 18383, 18389, 18400, 18449, 18498, 18559, 18564, 18594, 18598, 18617, 18620, 18627, 18640, 18669, 18671, 18720, 18721, 18746, 18787, 18815, 18824, 18853, 18872, 18878, 18881, 18885, 19017, 19062, 19085, 19109, 19111, 19121, 19144, 19161, 19180, 19188, 19211, 0, 4, 8, 18, 19, 22, 26, 29, 30, 33, 37, 39, 43, 44, 72, 78, 80, 90, 102, 103, 115, 123, 128, 130, 132, 137, 138, 142, 152, 153, 161, 162, 163, 166, 177, 205, 211, 215, 218, 219, 223, 229, 235, 237, 250, 255, 258, 259, 262, 263, 267, 268, 274, 277, 285, 286, 294, 295, 303, 304, 320, 321, 331, 332, 336, 338, 345, 346, 347, 348, 367, 368, 374, 375, 384, 387, 389, 392, 395, 398, 399, 406, 411, 412, 413, 420, 432, 437, 443, 447, 461, 463, 474, 483, 492, 510, 512, 515, 520, 526, 527, 530, 531, 540, 543, 545, 547, 553, 557, 570, 573, 574, 590, 592, 601, 604, 607, 619, 628, 635, 638, 639, 648, 661, 687, 699, 700, 701, 712, 713, 715, 718, 719, 722, 724, 732, 734, 735, 736, 747, 758, 759, 780, 786, 795, 806, 810, 816, 818, 820, 831, 836, 837, 875, 876, 878, 880, 893, 899, 911, 930, 939, 956, 976, 979, 982, 987, 989, 1002, 1006, 1016, 1018, 1019, 1025, 1026, 1031, 1033, 1036, 1037, 1038, 1040, 1044, 1047, 1051, 1058, 1078, 1083, 1085, 1086, 1104, 1112, 1120, 1121, 1123, 1125, 1127, 1128, 1133, 1139, 1143, 1149, 1156, 1157, 1159, 1172, 1175, 1176, 1181, 1195, 1199, 1221, 1227, 1230, 1235, 1241, 1278, 1285, 1300, 1305, 1312, 1313, 1314, 1324, 1343, 1344, 1349, 1352, 1362, 1364, 1368, 1370, 1373, 1385, 1386, 1393, 1401, 1405, 1406, 1407, 1412, 1431, 1432, 1434, 1436, 1439, 1443, 1451, 1459, 1461, 1470, 1480, 1509, 1512, 1513, 1522, 1546, 1551, 1552, 1554, 1562, 1564, 1565, 1568, 1571, 1575, 1585, 1602, 1607, 1612, 1618, 1625, 1645, 1646, 1647, 1649, 1653, 1655, 1662, 1668, 1674, 1675, 1678, 1684, 1689, 1690, 1700, 1701, 1714, 1730, 1734, 1736, 1742, 1744, 1745, 1755, 1756, 1763, 1764, 1769, 1777, 1780, 1781, 1783, 1785, 1813, 1823, 1844, 1852, 1857, 1870, 1877, 1879, 1893, 1895, 1898, 1899, 1900, 1908, 1909, 1910, 1913, 1918, 1920, 1943, 1944, 1945, 1948, 1955, 1965, 1966, 1969, 1975, 1978, 1979, 1980, 1989, 1990, 1992, 1996, 2000, 2007, 2010, 2028, 2035, 2038, 2042, 2046, 2051, 2052, 2054, 2057, 2065, 2097, 2100, 2115, 2125, 2130, 2133, 2144, 2150, 2151, 2159, 2163, 2164, 2170, 2175, 2189, 2203, 2220, 2223, 2224, 2226, 2247, 2252, 2257, 2261, 2265, 2269, 2276, 2277, 2286, 2288, 2300, 2301, 2305, 2307, 2319, 2323, 2326, 2329, 2338, 2350, 2351, 2353, 2357, 2363, 2364, 2367, 2369, 2372, 2374, 2375, 2376, 2382, 2405, 2418, 2430, 2442, 2454, 2457, 2467, 2476, 2478, 2480, 2483, 2486, 2489, 2492, 2495, 2505, 2506, 2508, 2516, 2518, 2520, 2527, 2528, 2529, 2536, 2538, 2554, 2555, 2558, 2567, 2573, 2578, 2579, 2590, 2591, 2592, 2606, 2611, 2614, 2627, 2640, 2645, 2647, 2650, 2651, 2659, 2671, 2672, 2673, 2684, 2689, 2693, 2698, 2720, 2723, 2724, 2726, 2728, 2731, 2738, 2739, 2746, 2765, 2769, 2777, 2783, 2786, 2791, 2793, 2799, 2807, 2820, 2825, 2826, 2834, 2836, 2844, 2847, 2853, 2856, 2857, 2893, 2904, 2909, 2912, 2913, 2934, 2942, 2960, 2962, 2965, 2969, 2977, 3007, 3012, 3013, 3015, 3017, 3021, 3034, 3044, 3046, 3049, 3050, 3066, 3068, 3072, 3077, 3080, 3084, 3105, 3115, 3130, 3160, 3168, 3178, 3182, 3187, 3196, 3197, 3199, 3214, 3218, 3224, 3231, 3235, 3242, 3260, 3267, 3268, 3284, 3289, 3297, 3305, 3310, 3312, 3314, 3315, 3325, 3336, 3341, 3347, 3348, 3351, 3367, 3372, 3380, 3381, 3384, 3387, 3391, 3397, 3414, 3415, 3420, 3426, 3427, 3448, 3452, 3457, 3458, 3462, 3464, 3465, 3480, 3484, 3487, 3489, 3508, 3515, 3516, 3518, 3520, 3526, 3530, 3534, 3543, 3547, 3554, 3558, 3559, 3560, 3564, 3567, 3568, 3570, 3571, 3576, 3592, 3600, 3606, 3607, 3615, 3616, 3630, 3633, 3639, 3654, 3655, 3657, 3659, 3663, 3677, 3690, 3697, 3703, 3707, 3709, 3726, 3731, 3738, 3739, 3741, 3748, 3764, 3765, 3773, 3789, 3799, 3802, 3808, 3816, 3819, 3824, 3833, 3838, 3853, 3857, 3866, 3868, 3878, 3883, 3884, 3887, 3889, 3905, 3910, 3921, 3931, 3932, 3946, 3948, 3950, 3958, 3966, 3977, 3994, 3998, 4003, 4006, 4008, 4013, 4014, 4017, 4027, 4049, 4052, 4054, 4062, 4063, 4066, 4068, 4070, 4087, 4089, 4096, 4115, 4118, 4125, 4129, 4146, 4147, 4149, 4151, 4156, 4166, 4171, 4180, 4183, 4188, 4203, 4208, 4220, 4237, 4240, 4241, 4245, 4246, 4249, 4254, 4274, 4289, 4304, 4306, 4316, 4319, 4323, 4344, 4347, 4351, 4354, 4365, 4369, 4372, 4375, 4376, 4379, 4396, 4404, 4405, 4416, 4418, 4426, 4439, 4440, 4442, 4445, 4447, 4448, 4452, 4459, 4462, 4465, 4468, 4472, 4473, 4478, 4481, 4489, 4507, 4510, 4511, 4513, 4519, 4522, 4527, 4530, 4532, 4542, 4543, 4545, 4558, 4567, 4573, 4576, 4578, 4586, 4589, 4595, 4596, 4602, 4612, 4617, 4619, 4624, 4625, 4638, 4646, 4649, 4652, 4654, 4661, 4668, 4669, 4671, 4672, 4675, 4712, 4718, 4720, 4722, 4724, 4729, 4745, 4746, 4748, 4759, 4770, 4772, 4774, 4778, 4795, 4797, 4798, 4801, 4808, 4809, 4812, 4813, 4814, 4818, 4828, 4830, 4849, 4853, 4865, 4869, 4876, 4886, 4889, 4894, 4902, 4908, 4916, 4919, 4931, 4932, 4936, 4937, 4946, 4949, 4958, 4959, 4961, 4963, 4987, 5004, 5008, 5017, 5024, 5026, 5043, 5045, 5049, 5054, 5066, 5076, 5080, 5085, 5093, 5099, 5107, 5108, 5111, 5116, 5118, 5122, 5141, 5143, 5175, 5178, 5185, 5186, 5189, 5191, 5195, 5197, 5199, 5200, 5206, 5207, 5217, 5218, 5234, 5235, 5241, 5247, 5252, 5258, 5259, 5263, 5264, 5269, 5270, 5273, 5274, 5275, 5277, 5287, 5303, 5305, 5322, 5323, 5332, 5333, 5336, 5339, 5348, 5365, 5367, 5368, 5376, 5386, 5387, 5389, 5413, 5418, 5419, 5422, 5424, 5425, 5428, 5431, 5432, 5440, 5447, 5448, 5450, 5461, 5470, 5473, 5479, 5485, 5487, 5489, 5498, 5500, 5503, 5506, 5512, 5514, 5526, 5529, 5535, 5541, 5546, 5548, 5550, 5560, 5565, 5573, 5579, 5580, 5606, 5612, 5613, 5614, 5615, 5624, 5625, 5626, 5637, 5641, 5643, 5645, 5652, 5654, 5656, 5667, 5672, 5673, 5681, 5684, 5689, 5691, 5698, 5699, 5702, 5719, 5721, 5723, 5724, 5728, 5731, 5742, 5755, 5757, 5762, 5771, 5777, 5789, 5796, 5804, 5806, 5809, 5811, 5823, 5827, 5828, 5832, 5835, 5840, 5844, 5848, 5851, 5898, 5905, 5912, 5914, 5915, 5944, 5947, 5950, 5952, 5953, 5962, 5964, 5966, 5968, 5969, 5977, 5995, 5996, 6002, 6007, 6011, 6016, 6018, 6023, 6033, 6040, 6048, 6050, 6052, 6055, 6057, 6081, 6086, 6105, 6113, 6129, 6140, 6141, 6146, 6147, 6152, 6163, 6182, 6196, 6200, 6202, 6203, 6204, 6209, 6231, 6240, 6242, 6244, 6247, 6259, 6265, 6266, 6267, 6272, 6274, 6276, 6280, 6299, 6307, 6309, 6310, 6312, 6316, 6319, 6320, 6321, 6324, 6333, 6335, 6344, 6355, 6364, 6365, 6366, 6371, 6374, 6376, 6381, 6384, 6405, 6409, 6413, 6418, 6425, 6427, 6432, 6433, 6441, 6450, 6457, 6464, 6465, 6476, 6480, 6481, 6482, 6489, 6520, 6525, 6528, 6538, 6540, 6542, 6546, 6556, 6560, 6565, 6569, 6571, 6572, 6576, 6580, 6582, 6585, 6590, 6598, 6609, 6612, 6616, 6620, 6626, 6630, 6632, 6633, 6637, 6638, 6641, 6648, 6659, 6668, 6670, 6675, 6676, 6687, 6699, 6702, 6720, 6723, 6752, 6757, 6761, 6768, 6769, 6773, 6778, 6780, 6781, 6787, 6788, 6789, 6807, 6811, 6814, 6826, 6833, 6836, 6843, 6845, 6854, 6865, 6872, 6882, 6884, 6886, 6887, 6888, 6890, 6892, 6906, 6914, 6921, 6934, 6941, 6948, 6950, 6953, 6954, 6989, 6999, 7002, 7007, 7011, 7022, 7026, 7031, 7044, 7047, 7052, 7060, 7073, 7083, 7090, 7094, 7109, 7110, 7117, 7119, 7120, 7143, 7147, 7150, 7161, 7170, 7174, 7175, 7199, 7212, 7215, 7217, 7222, 7232, 7240, 7242, 7244, 7247, 7248, 7255, 7258, 7281, 7285, 7292, 7296, 7297, 7301, 7308, 7314, 7318, 7328, 7333, 7337, 7344, 7346, 7349, 7351, 7354, 7355, 7371, 7373, 7374, 7383, 7390, 7398, 7401, 7408, 7415, 7419, 7422, 7433, 7434, 7450, 7451, 7461, 7471, 7480, 7504, 7505, 7509, 7510, 7514, 7531, 7533, 7542, 7547, 7548, 7551, 7554, 7556, 7557, 7563, 7570, 7574, 7579, 7593, 7595, 7598, 7600, 7604, 7606, 7614, 7616, 7627, 7628, 7629, 7631, 7652, 7655, 7657, 7660, 7661, 7662, 7669, 7672, 7685, 7689, 7690, 7705, 7718, 7729, 7736, 7745, 7749, 7759, 7764, 7770, 7787, 7792, 7810, 7818, 7822, 7827, 7842, 7844, 7857, 7858, 7871, 7874, 7875, 7876, 7880, 7889, 7891, 7898, 7902, 7905, 7906, 7912, 7920, 7936, 7957, 7958, 7959, 7960, 7962, 7964, 7967, 7971, 7976, 7978, 7981, 7991, 7995, 7997, 8009, 8010, 8020, 8021, 8023, 8033, 8036, 8039, 8048, 8063, 8071, 8075, 8078, 8098, 8102, 8106, 8108, 8111, 8123, 8129, 8136, 8143, 8147, 8152, 8160, 8161, 8168, 8172, 8180, 8186, 8205, 8208, 8215, 8230, 8231, 8234, 8235, 8242, 8245, 8246, 8254, 8260, 8284, 8303, 8304, 8307, 8312, 8314, 8316, 8322, 8324, 8335, 8343, 8349, 8355, 8361, 8377, 8386, 8392, 8395, 8399, 8403, 8404, 8428, 8430, 8459, 8461, 8464, 8465, 8468, 8481, 8501, 8506, 8512, 8524, 8525, 8526, 8541, 8544, 8562, 8569, 8574, 8577, 8595, 8597, 8606, 8610, 8620, 8644, 8654, 8673, 8682, 8683, 8686, 8692, 8693, 8705, 8706, 8715, 8732, 8739, 8747, 8750, 8755, 8756, 8770, 8772, 8774, 8777, 8779, 8787, 8797, 8813, 8826, 8838, 8841, 8853, 8872, 8881, 8887, 8888, 8899, 8907, 8908, 8909, 8914, 8920, 8935, 8947, 8948, 8956, 8961, 8966, 8972, 8977, 8979, 8980, 9003, 9004, 9017, 9021, 9024, 9034, 9040, 9048, 9049, 9050, 9051, 9057, 9060, 9075, 9076, 9079, 9082, 9083, 9086, 9092, 9101, 9106, 9111, 9114, 9125, 9128, 9131, 9134, 9136, 9141, 9144, 9145, 9148, 9157, 9162, 9165, 9172, 9177, 9190, 9200, 9202, 9213, 9222, 9233, 9250, 9258, 9261, 9270, 9277, 9279, 9281, 9283, 9288, 9295, 9309, 9311, 9319, 9321, 9327, 9329, 9334, 9337, 9341, 9342, 9347, 9350, 9358, 9361, 9363, 9370, 9374, 9389, 9392, 9397, 9405, 9411, 9417, 9419, 9435, 9441, 9445, 9452, 9472, 9483, 9486, 9490, 9494, 9506, 9512, 9515, 9518, 9529, 9538, 9550, 9552, 9556, 9558, 9560, 9572, 9574, 9580, 9581, 9582, 9584, 9586, 9587, 9599, 9602, 9605, 9606, 9620, 9622, 9632, 9638, 9645, 9654, 9655, 9663, 9665, 9670, 9673, 9678, 9688, 9692, 9700, 9707, 9708, 9722, 9738, 9739, 9751, 9756, 9780, 9781, 9795, 9798, 9801, 9825, 9838, 9844, 9854, 9865, 9870, 9874, 9876, 9883, 9885, 9886, 9890, 9895, 9896, 9897, 9902, 9903, 9910, 9915, 9920, 9922, 9940, 9941, 9944, 9948, 9968, 9970, 9972, 9981, 9984, 10004, 10007, 10011, 10015, 10019, 10022, 10025, 10028, 10034, 10035, 10039, 10054, 10060, 10066, 10067, 10068, 10073, 10075, 10082, 10083, 10085, 10086, 10089, 10093, 10111, 10112, 10121, 10125, 10128, 10131, 10171, 10180, 10183, 10185, 10186, 10198, 10207, 10210, 10215, 10220, 10221, 10226, 10231, 10245, 10251, 10269, 10274, 10277, 10280, 10286, 10287, 10295, 10297, 10299, 10314, 10329, 10335, 10342, 10349, 10350, 10351, 10357, 10358, 10359, 10364, 10365, 10377, 10384, 10388, 10394, 10395, 10402, 10407, 10413, 10421, 10423, 10426, 10429, 10441, 10443, 10444, 10445, 10448, 10471, 10478, 10479, 10484, 10490, 10495, 10498, 10501, 10504, 10508, 10509, 10510, 10514, 10517, 10518, 10520, 10523, 10537, 10547, 10551, 10562, 10573, 10574, 10577, 10580, 10593, 10597, 10603, 10609, 10618, 10625, 10630, 10637, 10652, 10672, 10678, 10683, 10690, 10697, 10700, 10702, 10706, 10710, 10714, 10721, 10729, 10738, 10739, 10743, 10746, 10749, 10767, 10768, 10773, 10780, 10784, 10787, 10793, 10801, 10807, 10822, 10829, 10832, 10834, 10835, 10862, 10864, 10867, 10873, 10881, 10892, 10897, 10906, 10911, 10912, 10919, 10923, 10924, 10927, 10929, 10931, 10935, 10944, 10945, 10946, 10948, 10950, 10952, 10955, 10956, 10964, 10974, 10982, 10986, 10987, 10989, 10990, 10994, 10998, 11004, 11007, 11016, 11022, 11027, 11036, 11038, 11041, 11048, 11057, 11065, 11066, 11068, 11071, 11082, 11092, 11096, 11102, 11103, 11115, 11120, 11123, 11124, 11132, 11134, 11135, 11137, 11151, 11166, 11167, 11189, 11190, 11202, 11206, 11210, 11215, 11217, 11220, 11223, 11225, 11228, 11240, 11246, 11258, 11295, 11297, 11301, 11314, 11320, 11331, 11339, 11341, 11347, 11351, 11354, 11357, 11368, 11374, 11380, 11383, 11387, 11402, 11410, 11413, 11414, 11415, 11418, 11427, 11429, 11431, 11432, 11433, 11440, 11443, 11470, 11471, 11473, 11474, 11478, 11479, 11488, 11489, 11490, 11496, 11502, 11506, 11529, 11531, 11532, 11541, 11551, 11554, 11564, 11570, 11572, 11575, 11580, 11594, 11614, 11616, 11622, 11634, 11637, 11640, 11647, 11649, 11656, 11663, 11678, 11681, 11693, 11696, 11721, 11736, 11751, 11757, 11768, 11769, 11777, 11779, 11786, 11801, 11804, 11808, 11810, 11812, 11816, 11822, 11842, 11845, 11860, 11861, 11868, 11870, 11871, 11872, 11874, 11875, 11876, 11879, 11890, 11894, 11896, 11900, 11902, 11906, 11911, 11913, 11916, 11934, 11946, 11971, 11973, 11982, 12005, 12006, 12018, 12030, 12031, 12034, 12035, 12039, 12043, 12054, 12055, 12058, 12069, 12073, 12075, 12079, 12096, 12105, 12106, 12113, 12119, 12121, 12124, 12125, 12127, 12141, 12147, 12155, 12170, 12174, 12175, 12187, 12188, 12193, 12194, 12210, 12213, 12218, 12224, 12225, 12229, 12232, 12243, 12248, 12250, 12272, 12276, 12279, 12283, 12284, 12294, 12300, 12311, 12315, 12320, 12324, 12328, 12347, 12348, 12350, 12362, 12390, 12394, 12397, 12399, 12401, 12402, 12416, 12422, 12426, 12438, 12439, 12441, 12457, 12461, 12472, 12484, 12485, 12497, 12502, 12505, 12528, 12529, 12537, 12538, 12547, 12557, 12571, 12579, 12580, 12591, 12598, 12607, 12639, 12641, 12642, 12647, 12666, 12667, 12670, 12673, 12679, 12683, 12695, 12702, 12720, 12724, 12740, 12750, 12752, 12756, 12763, 12768, 12783, 12804, 12805, 12812, 12840, 12847, 12852, 12858, 12861, 12878, 12881, 12886, 12895, 12913, 12917, 12934, 12943, 12946, 12964, 12969, 12970, 12971, 12973, 13006, 13011, 13032, 13035, 13037, 13043, 13055, 13056, 13062, 13069, 13080, 13081, 13097, 13101, 13103, 13109, 13116, 13123, 13134, 13135, 13140, 13144, 13161, 13170, 13182, 13184, 13192, 13196, 13199, 13209, 13211, 13236, 13238, 13248, 13250, 13256, 13258, 13260, 13263, 13270, 13276, 13279, 13280, 13290, 13299, 13307, 13308, 13309, 13311, 13313, 13320, 13324, 13343, 13349, 13353, 13366, 13372, 13375, 13378, 13382, 13383, 13387, 13390, 13394, 13397, 13398, 13413, 13414, 13416, 13423, 13426, 13442, 13460, 13464, 13466, 13498, 13500, 13504, 13511, 13515, 13519, 13527, 13529, 13534, 13535, 13553, 13562, 13564, 13566, 13573, 13588, 13597, 13621, 13625, 13628, 13631, 13633, 13641, 13642, 13647, 13653, 13661, 13663, 13666, 13670, 13683, 13684, 13685, 13687, 13689, 13694, 13700, 13703, 13713, 13716, 13734, 13743, 13765, 13772, 13786, 13788, 13796, 13799, 13801, 13803, 13810, 13812, 13827, 13840, 13841, 13844, 13847, 13848, 13855, 13856, 13867, 13879, 13880, 13885, 13889, 13893, 13906, 13910, 13920, 13922, 13925, 13926, 13931, 13940, 13948, 13950, 13954, 13955, 13964, 13972, 13973, 13986, 13993, 13996, 14000, 14004, 14011, 14015, 14017, 14032, 14033, 14034, 14035, 14038, 14054, 14056, 14066, 14067, 14070, 14085, 14090, 14092, 14109, 14118, 14122, 14129, 14140, 14144, 14149, 14151, 14176, 14178, 14188, 14190, 14192, 14202, 14206, 14208, 14214, 14218, 14229, 14232, 14237, 14242, 14244, 14252, 14257, 14259, 14290, 14301, 14303, 14313, 14318, 14322, 14325, 14334, 14336, 14340, 14348, 14350, 14356, 14363, 14370, 14378, 14382, 14384, 14401, 14404, 14429, 14432, 14433, 14445, 14451, 14471, 14477, 14491, 14498, 14505, 14521, 14529, 14530, 14544, 14545, 14546, 14549, 14598, 14601, 14603, 14610, 14617, 14627, 14630, 14631, 14642, 14644, 14647, 14648, 14656, 14662, 14675, 14676, 14677, 14680, 14688, 14690, 14693, 14694, 14695, 14708, 14719, 14725, 14726, 14728, 14729, 14731, 14736, 14742, 14752, 14756, 14767, 14775, 14784, 14790, 14792, 14793, 14803, 14822, 14869, 14871, 14873, 14875, 14876, 14883, 14884, 14891, 14892, 14898, 14910, 14922, 14926, 14927, 14935, 14944, 14945, 14950, 14966, 14967, 14968, 14969, 14979, 14985, 14994, 14996, 15008, 15025, 15028, 15035, 15038, 15041, 15042, 15043, 15072, 15073, 15077, 15083, 15095, 15105, 15108, 15113, 15114, 15128, 15132, 15142, 15173, 15187, 15189, 15190, 15214, 15215, 15229, 15231, 15236, 15238, 15260, 15267, 15271, 15274, 15276, 15283, 15288, 15294, 15300, 15302, 15310, 15320, 15321, 15330, 15337, 15341, 15344, 15353, 15355, 15358, 15361, 15363, 15367, 15371, 15373, 15390, 15396, 15403, 15407, 15413, 15414, 15421, 15423, 15427, 15429, 15444, 15447, 15449, 15453, 15454, 15468, 15476, 15477, 15483, 15484, 15488, 15493, 15494, 15498, 15513, 15514, 15519, 15532, 15536, 15541, 15562, 15564, 15572, 15578, 15588, 15591, 15594, 15595, 15615, 15623, 15627, 15629, 15630, 15639, 15643, 15646, 15652, 15654, 15657, 15659, 15663, 15666, 15668, 15676, 15681, 15691, 15695, 15713, 15733, 15751, 15757, 15760, 15785, 15789, 15792, 15799, 15811, 15817, 15821, 15826, 15829, 15833, 15844, 15845, 15846, 15847, 15848, 15856, 15858, 15867, 15870, 15875, 15883, 15894, 15903, 15910, 15920, 15921, 15924, 15925, 15943, 15945, 15953, 15955, 15960, 15966, 15968, 15973, 15977, 15984, 15988, 15989, 15995, 15996, 16012, 16023, 16024, 16025, 16043, 16045, 16046, 16059, 16072, 16082, 16091, 16100, 16104, 16105, 16106, 16107, 16114, 16117, 16119, 16127, 16131, 16152, 16157, 16159, 16162, 16171, 16191, 16198, 16208, 16218, 16222, 16229, 16230, 16233, 16239, 16244, 16250, 16252, 16256, 16258, 16259, 16269, 16279, 16284, 16287, 16291, 16294, 16297, 16301, 16304, 16307, 16309, 16316, 16318, 16322, 16330, 16336, 16346, 16351, 16353, 16371, 16378, 16395, 16398, 16405, 16412, 16424, 16426, 16427, 16428, 16431, 16432, 16433, 16443, 16444, 16445, 16447, 16452, 16454, 16463, 16469, 16470, 16478, 16484, 16494, 16497, 16501, 16502, 16508, 16509, 16514, 16519, 16525, 16528, 16534, 16539, 16540, 16553, 16555, 16559, 16561, 16564, 16565, 16572, 16577, 16592, 16595, 16600, 16605, 16616, 16617, 16621, 16622, 16625, 16628, 16631, 16640, 16646, 16648, 16651, 16653, 16657, 16663, 16664, 16667, 16668, 16671, 16679, 16680, 16688, 16691, 16694, 16695, 16706, 16716, 16717, 16718, 16723, 16731, 16737, 16738, 16739, 16748, 16761, 16766, 16770, 16771, 16772, 16774, 16775, 16792, 16795, 16799, 16801, 16815, 16831, 16840, 16841, 16845, 16854, 16869, 16880, 16885, 16887, 16891, 16895, 16900, 16901, 16902, 16907, 16910, 16913, 16921, 16926, 16936, 16942, 16953, 16984, 16989, 16992, 16995, 16996, 17003, 17005, 17008, 17012, 17014, 17031, 17032, 17033, 17034, 17044, 17045, 17057, 17060, 17069, 17081, 17090, 17094, 17099, 17105, 17111, 17114, 17117, 17121, 17130, 17132, 17135, 17161, 17171, 17172, 17175, 17184, 17188, 17193, 17198, 17208, 17210, 17214, 17220, 17221, 17229, 17239, 17260, 17265, 17271, 17272, 17283, 17287, 17291, 17293, 17295, 17298, 17303, 17307, 17317, 17325, 17327, 17332, 17344, 17345, 17348, 17363, 17370, 17375, 17376, 17384, 17387, 17389, 17398, 17406, 17409, 17414, 17415, 17422, 17437, 17440, 17444, 17449, 17455, 17456, 17458, 17472, 17473, 17477, 17483, 17488, 17490, 17495, 17506, 17507, 17510, 17526, 17532, 17534, 17543, 17560, 17568, 17573, 17581, 17589, 17611, 17614, 17615, 17651, 17652, 17659, 17660, 17666, 17671, 17674, 17676, 17681, 17687, 17697, 17698, 17704, 17710, 17712, 17730, 17735, 17739, 17743, 17749, 17754, 17758, 17763, 17767, 17768, 17769, 17772, 17776, 17777, 17786, 17808, 17820, 17830, 17831, 17834, 17835, 17842, 17843, 17844, 17851, 17861, 17864, 17870, 17877, 17880, 17881, 17904, 17914, 17916, 17930, 17931, 17935, 17940, 17949, 17962, 17968, 17970, 17974, 17982, 17990, 17991, 18004, 18005, 18007, 18014, 18015, 18037, 18044, 18047, 18057, 18059, 18065, 18067, 18083, 18100, 18105, 18128, 18129, 18131, 18135, 18137, 18142, 18159, 18162, 18178, 18182, 18183, 18208, 18226, 18240, 18251, 18256, 18261, 18273, 18280, 18287, 18301, 18303, 18309, 18313, 18314, 18332, 18340, 18349, 18353, 18360, 18363, 18366, 18371, 18372, 18373, 18390, 18398, 18399, 18429, 18454, 18459, 18462, 18465, 18468, 18470, 18476, 18481, 18483, 18487, 18491, 18496, 18498, 18505, 18507, 18511, 18528, 18531, 18540, 18543, 18547, 18548, 18549, 18554, 18555, 18558, 18559, 18562, 18569, 18578, 18585, 18587, 18593, 18602, 18608, 18610, 18611, 18620, 18624, 18629, 18632, 18636, 18638, 18645, 18649, 18667, 18677, 18690, 18691, 18701, 18703, 18705, 18706, 18707, 18719, 18721, 18722, 18728, 18739, 18763, 18767, 18769, 18782, 18785, 18789, 18803, 18809, 18815, 18816, 18817, 18820, 18822, 18823, 18834, 18854, 18856, 18870, 18885, 18893, 18896, 18901, 18902, 18919, 18922, 18924, 18928, 18929, 18934, 18945, 18956, 18957, 18958, 18960, 18963, 18966, 18984, 18993, 18996, 19000, 19009, 19010, 19011, 19013, 19020, 19024, 19026, 19027, 19033, 19038, 19045, 19047, 19048, 19058, 19060, 19062, 19071, 19074, 19079, 19083, 19104, 19116, 19119, 19127, 19136, 19143, 19145, 19155, 19167, 19172, 19183, 19186, 19216, 19217, 19228, 19235, 8, 29, 39, 65, 90, 144, 169, 191, 252, 281, 351, 369, 400, 428, 429, 475, 493, 508, 513, 517, 563, 598, 625, 640, 712, 731, 748, 824, 850, 868, 918, 943, 964, 966, 985, 1042, 1053, 1093, 1118, 1128, 1146, 1148, 1156, 1170, 1208, 1254, 1337, 1368, 1373, 1386, 1404, 1410, 1544, 1560, 1622, 1665, 1701, 1710, 1765, 1788, 1806, 1821, 1846, 1881, 1892, 1893, 1912, 1920, 1950, 2033, 2075, 2105, 2118, 2123, 2126, 2127, 2138, 2188, 2255, 2274, 2278, 2286, 2319, 2324, 2399, 2418, 2461, 2464, 2501, 2512, 2529, 2584, 2588, 2635, 2638, 2666, 2874, 2897, 2903, 2952, 2961, 2986, 3043, 3056, 3083, 3097, 3170, 3177, 3219, 3282, 3320, 3326, 3505, 3548, 3607, 3624, 3627, 3652, 3698, 3706, 3715, 3721, 3726, 3744, 3747, 3781, 3792, 3845, 3850, 3877, 3895, 3896, 3985, 3995, 4004, 4009, 4023, 4040, 4061, 4079, 4080, 4130, 4148, 4170, 4174, 4175, 4187, 4200, 4230, 4248, 4371, 4394, 4429, 4432, 4445, 4516, 4541, 4552, 4658, 4685, 4694, 4823, 4892, 4893, 4907, 4941, 4996, 5068, 5130, 5146, 5164, 5219, 5228, 5232, 5254, 5306, 5323, 5336, 5346, 5380, 5427, 5456, 5473, 5586, 5640, 5671, 5679, 5765, 5788, 5834, 5855, 5859, 5860, 5866, 5883, 5916, 5924, 5956, 5969, 6055, 6074, 6090, 6107, 6119, 6141, 6143, 6157, 6159, 6205, 6219, 6247, 6278, 6298, 6314, 6359, 6394, 6434, 6449, 6452, 6454, 6455, 6484, 6507, 6513, 6526, 6542, 6589, 6619, 6640, 6648, 6664, 6680, 6701, 6714, 6734, 6753, 6763, 6787, 6795, 6804, 6862, 6890, 6933, 7000, 7067, 7084, 7090, 7111, 7221, 7235, 7256, 7272, 7305, 7349, 7350, 7359, 7364, 7366, 7422, 7429, 7438, 7480, 7511, 7513, 7549, 7551, 7568, 7599, 7608, 7724, 7759, 7763, 7920, 7924, 7975, 8017, 8092, 8132, 8182, 8239, 8242, 8282, 8314, 8327, 8344, 8352, 8368, 8383, 8427, 8485, 8486, 8517, 8569, 8658, 8675, 8695, 8772, 8775, 8809, 8824, 8858, 8876, 8886, 8888, 8904, 8935, 8952, 9063, 9086, 9087, 9091, 9096, 9103, 9114, 9140, 9145, 9165, 9192, 9249, 9285, 9302, 9329, 9330, 9338, 9342, 9445, 9524, 9542, 9592, 9623, 9685, 9689, 9744, 9795, 10018, 10026, 10056, 10066, 10073, 10077, 10171, 10188, 10190, 10207, 10222, 10231, 10258, 10266, 10275, 10281, 10300, 10384, 10406, 10415, 10455, 10486, 10491, 10503, 10564, 10601, 10610, 10614, 10637, 10644, 10667, 10683, 10700, 10758, 10770, 10776, 10811, 10855, 10857, 10869, 10894, 10896, 10945, 10958, 10959, 10960, 10993, 11022, 11062, 11088, 11144, 11225, 11266, 11277, 11280, 11291, 11303, 11361, 11374, 11406, 11419, 11430, 11472, 11513, 11536, 11622, 11709, 11714, 11764, 11889, 11901, 11919, 11928, 11936, 11944, 11955, 12100, 12103, 12131, 12145, 12214, 12220, 12226, 12241, 12297, 12313, 12414, 12463, 12489, 12533, 12591, 12602, 12605, 12615, 12624, 12656, 12734, 12760, 12770, 12799, 12846, 12904, 12994, 12997, 13024, 13033, 13051, 13061, 13094, 13121, 13218, 13221, 13279, 13327, 13352, 13396, 13422, 13447, 13453, 13454, 13527, 13533, 13551, 13565, 13566, 13627, 13770, 13776, 13793, 13803, 13806, 13817, 13850, 13902, 13919, 13947, 14027, 14035, 14046, 14098, 14134, 14138, 14196, 14219, 14235, 14288, 14332, 14339, 14353, 14359, 14361, 14375, 14387, 14411, 14496, 14508, 14517, 14583, 14589, 14600, 14697, 14706, 14792, 14866, 14882, 14896, 14948, 14953, 14980, 14996, 15072, 15156, 15238, 15270, 15288, 15328, 15347, 15348, 15362, 15364, 15383, 15392, 15393, 15461, 15520, 15548, 15574, 15592, 15627, 15665, 15735, 15742, 15746, 15828, 15833, 15883, 15911, 16005, 16038, 16156, 16181, 16182, 16214, 16288, 16295, 16323, 16333, 16457, 16480, 16520, 16532, 16584, 16586, 16597, 16627, 16633, 16689, 16721, 16733, 16744, 16792, 16834, 16866, 16882, 16924, 16981, 17006, 17046, 17122, 17140, 17157, 17159, 17198, 17206, 17217, 17260, 17275, 17346, 17352, 17446, 17497, 17505, 17520, 17523, 17550, 17582, 17608, 17628, 17655, 17665, 17740, 17807, 17843, 17897, 17921, 17945, 17949, 17969, 18030, 18094, 18137, 18171, 18176, 18225, 18249, 18295, 18325, 18345, 18347, 18350, 18393, 18422, 18437, 18445, 18477, 18561, 18581, 18607, 18616, 18646, 18650, 18673, 18740, 18772, 18829, 18846, 18888, 18894, 18937, 18950, 18993, 18996, 19037, 19116, 19140, 19151, 19163, 19167, 19194, 19199, 19222]\n"
     ]
    }
   ],
   "source": [
    "print(index_list)"
   ]
  },
  {
   "cell_type": "code",
   "execution_count": 85,
   "id": "a5e4d113",
   "metadata": {},
   "outputs": [
    {
     "data": {
      "text/plain": [
       "4793"
      ]
     },
     "execution_count": 85,
     "metadata": {},
     "output_type": "execute_result"
    }
   ],
   "source": [
    "len(index_list)"
   ]
  },
  {
   "cell_type": "code",
   "execution_count": 86,
   "id": "9d43635c",
   "metadata": {},
   "outputs": [],
   "source": [
    "def remove(df,ls):\n",
    "    ls = sorted(set(ls))\n",
    "    df = df.drop(ls)\n",
    "    return df"
   ]
  },
  {
   "cell_type": "markdown",
   "id": "897bde45",
   "metadata": {},
   "source": [
    "Moving non outliers to cleaned dataset "
   ]
  },
  {
   "cell_type": "code",
   "execution_count": 89,
   "id": "9a4b3e90",
   "metadata": {},
   "outputs": [],
   "source": [
    "df_cleaned = remove(df,index_list)"
   ]
  },
  {
   "cell_type": "code",
   "execution_count": 90,
   "id": "11a661c8",
   "metadata": {},
   "outputs": [
    {
     "data": {
      "text/html": [
       "<div>\n",
       "<style scoped>\n",
       "    .dataframe tbody tr th:only-of-type {\n",
       "        vertical-align: middle;\n",
       "    }\n",
       "\n",
       "    .dataframe tbody tr th {\n",
       "        vertical-align: top;\n",
       "    }\n",
       "\n",
       "    .dataframe thead th {\n",
       "        text-align: right;\n",
       "    }\n",
       "</style>\n",
       "<table border=\"1\" class=\"dataframe\">\n",
       "  <thead>\n",
       "    <tr style=\"text-align: right;\">\n",
       "      <th></th>\n",
       "      <th>Price</th>\n",
       "      <th>Levy</th>\n",
       "      <th>Manufacturer</th>\n",
       "      <th>Model</th>\n",
       "      <th>Prod. year</th>\n",
       "      <th>Category</th>\n",
       "      <th>Leather interior</th>\n",
       "      <th>Fuel type</th>\n",
       "      <th>Engine volume</th>\n",
       "      <th>Mileage</th>\n",
       "      <th>Cylinders</th>\n",
       "      <th>Gear box type</th>\n",
       "      <th>Drive wheels</th>\n",
       "      <th>Doors</th>\n",
       "      <th>Wheel</th>\n",
       "      <th>Color</th>\n",
       "      <th>Airbags</th>\n",
       "      <th>Turbo</th>\n",
       "    </tr>\n",
       "  </thead>\n",
       "  <tbody>\n",
       "    <tr>\n",
       "      <th>1</th>\n",
       "      <td>16621</td>\n",
       "      <td>1018.000000</td>\n",
       "      <td>14893.223709</td>\n",
       "      <td>7508.500062</td>\n",
       "      <td>2011</td>\n",
       "      <td>23760.507252</td>\n",
       "      <td>0</td>\n",
       "      <td>17391.153459</td>\n",
       "      <td>3.0</td>\n",
       "      <td>192000.0</td>\n",
       "      <td>6.0</td>\n",
       "      <td>26316.746084</td>\n",
       "      <td>19581.049143</td>\n",
       "      <td>4</td>\n",
       "      <td>19394.079675</td>\n",
       "      <td>18915.648594</td>\n",
       "      <td>8</td>\n",
       "      <td>0</td>\n",
       "    </tr>\n",
       "    <tr>\n",
       "      <th>2</th>\n",
       "      <td>8467</td>\n",
       "      <td>906.299205</td>\n",
       "      <td>14168.012513</td>\n",
       "      <td>11102.885135</td>\n",
       "      <td>2006</td>\n",
       "      <td>11354.611647</td>\n",
       "      <td>0</td>\n",
       "      <td>17391.153459</td>\n",
       "      <td>1.3</td>\n",
       "      <td>200000.0</td>\n",
       "      <td>4.0</td>\n",
       "      <td>14779.109290</td>\n",
       "      <td>18503.816055</td>\n",
       "      <td>4</td>\n",
       "      <td>8888.271851</td>\n",
       "      <td>18917.298199</td>\n",
       "      <td>2</td>\n",
       "      <td>0</td>\n",
       "    </tr>\n",
       "    <tr>\n",
       "      <th>3</th>\n",
       "      <td>3607</td>\n",
       "      <td>862.000000</td>\n",
       "      <td>15422.710212</td>\n",
       "      <td>8172.547945</td>\n",
       "      <td>2011</td>\n",
       "      <td>23760.507252</td>\n",
       "      <td>1</td>\n",
       "      <td>10845.476688</td>\n",
       "      <td>2.5</td>\n",
       "      <td>168966.0</td>\n",
       "      <td>4.0</td>\n",
       "      <td>16005.665989</td>\n",
       "      <td>19584.328881</td>\n",
       "      <td>4</td>\n",
       "      <td>19394.079675</td>\n",
       "      <td>18145.261689</td>\n",
       "      <td>0</td>\n",
       "      <td>0</td>\n",
       "    </tr>\n",
       "    <tr>\n",
       "      <th>5</th>\n",
       "      <td>39493</td>\n",
       "      <td>891.000000</td>\n",
       "      <td>22301.390558</td>\n",
       "      <td>39636.578748</td>\n",
       "      <td>2016</td>\n",
       "      <td>23760.507252</td>\n",
       "      <td>1</td>\n",
       "      <td>30684.792802</td>\n",
       "      <td>2.0</td>\n",
       "      <td>160931.0</td>\n",
       "      <td>4.0</td>\n",
       "      <td>16002.963933</td>\n",
       "      <td>18501.371908</td>\n",
       "      <td>4</td>\n",
       "      <td>19394.079675</td>\n",
       "      <td>18137.116886</td>\n",
       "      <td>4</td>\n",
       "      <td>0</td>\n",
       "    </tr>\n",
       "    <tr>\n",
       "      <th>6</th>\n",
       "      <td>1803</td>\n",
       "      <td>761.000000</td>\n",
       "      <td>14305.915118</td>\n",
       "      <td>11436.182413</td>\n",
       "      <td>2010</td>\n",
       "      <td>11354.611647</td>\n",
       "      <td>1</td>\n",
       "      <td>10845.476688</td>\n",
       "      <td>1.8</td>\n",
       "      <td>258909.0</td>\n",
       "      <td>4.0</td>\n",
       "      <td>16005.801822</td>\n",
       "      <td>18504.341027</td>\n",
       "      <td>4</td>\n",
       "      <td>19394.079675</td>\n",
       "      <td>18145.671130</td>\n",
       "      <td>12</td>\n",
       "      <td>0</td>\n",
       "    </tr>\n",
       "    <tr>\n",
       "      <th>...</th>\n",
       "      <td>...</td>\n",
       "      <td>...</td>\n",
       "      <td>...</td>\n",
       "      <td>...</td>\n",
       "      <td>...</td>\n",
       "      <td>...</td>\n",
       "      <td>...</td>\n",
       "      <td>...</td>\n",
       "      <td>...</td>\n",
       "      <td>...</td>\n",
       "      <td>...</td>\n",
       "      <td>...</td>\n",
       "      <td>...</td>\n",
       "      <td>...</td>\n",
       "      <td>...</td>\n",
       "      <td>...</td>\n",
       "      <td>...</td>\n",
       "      <td>...</td>\n",
       "    </tr>\n",
       "    <tr>\n",
       "      <th>19231</th>\n",
       "      <td>5802</td>\n",
       "      <td>1055.000000</td>\n",
       "      <td>18596.594025</td>\n",
       "      <td>10004.247191</td>\n",
       "      <td>2013</td>\n",
       "      <td>14202.733837</td>\n",
       "      <td>1</td>\n",
       "      <td>30684.792802</td>\n",
       "      <td>3.5</td>\n",
       "      <td>107800.0</td>\n",
       "      <td>6.0</td>\n",
       "      <td>16005.500715</td>\n",
       "      <td>17323.015051</td>\n",
       "      <td>4</td>\n",
       "      <td>19394.079675</td>\n",
       "      <td>19248.185312</td>\n",
       "      <td>12</td>\n",
       "      <td>0</td>\n",
       "    </tr>\n",
       "    <tr>\n",
       "      <th>19232</th>\n",
       "      <td>8467</td>\n",
       "      <td>906.299205</td>\n",
       "      <td>18595.288932</td>\n",
       "      <td>7574.917117</td>\n",
       "      <td>1999</td>\n",
       "      <td>21282.356061</td>\n",
       "      <td>1</td>\n",
       "      <td>8186.859275</td>\n",
       "      <td>2.0</td>\n",
       "      <td>300000.0</td>\n",
       "      <td>4.0</td>\n",
       "      <td>25874.875203</td>\n",
       "      <td>17321.835325</td>\n",
       "      <td>2</td>\n",
       "      <td>19394.079675</td>\n",
       "      <td>15123.818401</td>\n",
       "      <td>5</td>\n",
       "      <td>1</td>\n",
       "    </tr>\n",
       "    <tr>\n",
       "      <th>19233</th>\n",
       "      <td>15681</td>\n",
       "      <td>831.000000</td>\n",
       "      <td>22307.777897</td>\n",
       "      <td>14379.360825</td>\n",
       "      <td>2011</td>\n",
       "      <td>14202.733837</td>\n",
       "      <td>1</td>\n",
       "      <td>17391.153459</td>\n",
       "      <td>2.4</td>\n",
       "      <td>161600.0</td>\n",
       "      <td>4.0</td>\n",
       "      <td>26317.052872</td>\n",
       "      <td>18503.247755</td>\n",
       "      <td>4</td>\n",
       "      <td>19394.079675</td>\n",
       "      <td>13642.392915</td>\n",
       "      <td>8</td>\n",
       "      <td>0</td>\n",
       "    </tr>\n",
       "    <tr>\n",
       "      <th>19234</th>\n",
       "      <td>26108</td>\n",
       "      <td>836.000000</td>\n",
       "      <td>22304.980955</td>\n",
       "      <td>30050.122066</td>\n",
       "      <td>2010</td>\n",
       "      <td>23760.507252</td>\n",
       "      <td>1</td>\n",
       "      <td>30684.792802</td>\n",
       "      <td>2.0</td>\n",
       "      <td>116365.0</td>\n",
       "      <td>4.0</td>\n",
       "      <td>16003.971764</td>\n",
       "      <td>18502.426343</td>\n",
       "      <td>4</td>\n",
       "      <td>19394.079675</td>\n",
       "      <td>19239.514944</td>\n",
       "      <td>4</td>\n",
       "      <td>0</td>\n",
       "    </tr>\n",
       "    <tr>\n",
       "      <th>19236</th>\n",
       "      <td>470</td>\n",
       "      <td>753.000000</td>\n",
       "      <td>22311.858101</td>\n",
       "      <td>14379.360825</td>\n",
       "      <td>2012</td>\n",
       "      <td>14202.733837</td>\n",
       "      <td>1</td>\n",
       "      <td>10845.476688</td>\n",
       "      <td>2.4</td>\n",
       "      <td>186923.0</td>\n",
       "      <td>4.0</td>\n",
       "      <td>16005.902191</td>\n",
       "      <td>18504.446037</td>\n",
       "      <td>4</td>\n",
       "      <td>19394.079675</td>\n",
       "      <td>18145.973672</td>\n",
       "      <td>12</td>\n",
       "      <td>0</td>\n",
       "    </tr>\n",
       "  </tbody>\n",
       "</table>\n",
       "<p>14447 rows × 18 columns</p>\n",
       "</div>"
      ],
      "text/plain": [
       "       Price         Levy  Manufacturer         Model  Prod. year  \\\n",
       "1      16621  1018.000000  14893.223709   7508.500062        2011   \n",
       "2       8467   906.299205  14168.012513  11102.885135        2006   \n",
       "3       3607   862.000000  15422.710212   8172.547945        2011   \n",
       "5      39493   891.000000  22301.390558  39636.578748        2016   \n",
       "6       1803   761.000000  14305.915118  11436.182413        2010   \n",
       "...      ...          ...           ...           ...         ...   \n",
       "19231   5802  1055.000000  18596.594025  10004.247191        2013   \n",
       "19232   8467   906.299205  18595.288932   7574.917117        1999   \n",
       "19233  15681   831.000000  22307.777897  14379.360825        2011   \n",
       "19234  26108   836.000000  22304.980955  30050.122066        2010   \n",
       "19236    470   753.000000  22311.858101  14379.360825        2012   \n",
       "\n",
       "           Category  Leather interior     Fuel type  Engine volume   Mileage  \\\n",
       "1      23760.507252                 0  17391.153459            3.0  192000.0   \n",
       "2      11354.611647                 0  17391.153459            1.3  200000.0   \n",
       "3      23760.507252                 1  10845.476688            2.5  168966.0   \n",
       "5      23760.507252                 1  30684.792802            2.0  160931.0   \n",
       "6      11354.611647                 1  10845.476688            1.8  258909.0   \n",
       "...             ...               ...           ...            ...       ...   \n",
       "19231  14202.733837                 1  30684.792802            3.5  107800.0   \n",
       "19232  21282.356061                 1   8186.859275            2.0  300000.0   \n",
       "19233  14202.733837                 1  17391.153459            2.4  161600.0   \n",
       "19234  23760.507252                 1  30684.792802            2.0  116365.0   \n",
       "19236  14202.733837                 1  10845.476688            2.4  186923.0   \n",
       "\n",
       "       Cylinders  Gear box type  Drive wheels  Doors         Wheel  \\\n",
       "1            6.0   26316.746084  19581.049143      4  19394.079675   \n",
       "2            4.0   14779.109290  18503.816055      4   8888.271851   \n",
       "3            4.0   16005.665989  19584.328881      4  19394.079675   \n",
       "5            4.0   16002.963933  18501.371908      4  19394.079675   \n",
       "6            4.0   16005.801822  18504.341027      4  19394.079675   \n",
       "...          ...            ...           ...    ...           ...   \n",
       "19231        6.0   16005.500715  17323.015051      4  19394.079675   \n",
       "19232        4.0   25874.875203  17321.835325      2  19394.079675   \n",
       "19233        4.0   26317.052872  18503.247755      4  19394.079675   \n",
       "19234        4.0   16003.971764  18502.426343      4  19394.079675   \n",
       "19236        4.0   16005.902191  18504.446037      4  19394.079675   \n",
       "\n",
       "              Color  Airbags  Turbo  \n",
       "1      18915.648594        8      0  \n",
       "2      18917.298199        2      0  \n",
       "3      18145.261689        0      0  \n",
       "5      18137.116886        4      0  \n",
       "6      18145.671130       12      0  \n",
       "...             ...      ...    ...  \n",
       "19231  19248.185312       12      0  \n",
       "19232  15123.818401        5      1  \n",
       "19233  13642.392915        8      0  \n",
       "19234  19239.514944        4      0  \n",
       "19236  18145.973672       12      0  \n",
       "\n",
       "[14447 rows x 18 columns]"
      ]
     },
     "execution_count": 90,
     "metadata": {},
     "output_type": "execute_result"
    }
   ],
   "source": [
    "df_cleaned"
   ]
  },
  {
   "cell_type": "code",
   "execution_count": 91,
   "id": "aff27a7f",
   "metadata": {},
   "outputs": [
    {
     "name": "stderr",
     "output_type": "stream",
     "text": [
      "C:\\Users\\lokes\\Anaconda3\\lib\\site-packages\\seaborn\\_decorators.py:36: FutureWarning: Pass the following variable as a keyword arg: x. From version 0.12, the only valid positional argument will be `data`, and passing other arguments without an explicit keyword will result in an error or misinterpretation.\n",
      "  warnings.warn(\n"
     ]
    },
    {
     "data": {
      "text/plain": [
       "<AxesSubplot:xlabel='Price'>"
      ]
     },
     "execution_count": 91,
     "metadata": {},
     "output_type": "execute_result"
    },
    {
     "data": {
      "image/png": "[encoded data removed]",
      "text/plain": [
       "<Figure size 432x288 with 1 Axes>"
      ]
     },
     "metadata": {
      "needs_background": "light"
     },
     "output_type": "display_data"
    }
   ],
   "source": [
    "sns.boxplot(df['Price'])"
   ]
  },
  {
   "cell_type": "code",
   "execution_count": 92,
   "id": "f7eb2012",
   "metadata": {},
   "outputs": [
    {
     "name": "stderr",
     "output_type": "stream",
     "text": [
      "C:\\Users\\lokes\\Anaconda3\\lib\\site-packages\\seaborn\\_decorators.py:36: FutureWarning: Pass the following variable as a keyword arg: x. From version 0.12, the only valid positional argument will be `data`, and passing other arguments without an explicit keyword will result in an error or misinterpretation.\n",
      "  warnings.warn(\n"
     ]
    },
    {
     "data": {
      "text/plain": [
       "<AxesSubplot:xlabel='Price'>"
      ]
     },
     "execution_count": 92,
     "metadata": {},
     "output_type": "execute_result"
    },
    {
     "data": {
      "image/png": "[encoded data removed]",
      "text/plain": [
       "<Figure size 432x288 with 1 Axes>"
      ]
     },
     "metadata": {
      "needs_background": "light"
     },
     "output_type": "display_data"
    }
   ],
   "source": [
    "sns.boxplot(df_cleaned['Price'])"
   ]
  },
  {
   "cell_type": "markdown",
   "id": "f067f86b",
   "metadata": {},
   "source": [
    "Still there are some outliers but using ensemble algorithm it won't get impacted by outliers"
   ]
  },
  {
   "cell_type": "code",
   "execution_count": 93,
   "id": "9ed7d1a5",
   "metadata": {},
   "outputs": [
    {
     "data": {
      "text/plain": [
       "<AxesSubplot:>"
      ]
     },
     "execution_count": 93,
     "metadata": {},
     "output_type": "execute_result"
    },
    {
     "data": {
      "image/png": "[encoded data removed]",
      "text/plain": [
       "<Figure size 432x288 with 1 Axes>"
      ]
     },
     "metadata": {
      "needs_background": "light"
     },
     "output_type": "display_data"
    }
   ],
   "source": [
    "df_cleaned['Price'].plot()"
   ]
  },
  {
   "cell_type": "code",
   "execution_count": 94,
   "id": "5ad854f1",
   "metadata": {},
   "outputs": [
    {
     "data": {
      "text/plain": [
       "<AxesSubplot:xlabel='Price', ylabel='Density'>"
      ]
     },
     "execution_count": 94,
     "metadata": {},
     "output_type": "execute_result"
    },
    {
     "data": {
      "image/png": "[encoded data removed]",
      "text/plain": [
       "<Figure size 432x288 with 1 Axes>"
      ]
     },
     "metadata": {
      "needs_background": "light"
     },
     "output_type": "display_data"
    }
   ],
   "source": [
    "sns.kdeplot(df_cleaned['Price'])"
   ]
  },
  {
   "cell_type": "code",
   "execution_count": 95,
   "id": "9cfa9c7c",
   "metadata": {},
   "outputs": [],
   "source": [
    "x = df_cleaned.drop('Price',axis = 1)"
   ]
  },
  {
   "cell_type": "code",
   "execution_count": 96,
   "id": "6d90b940",
   "metadata": {},
   "outputs": [
    {
     "data": {
      "text/html": [
       "<div>\n",
       "<style scoped>\n",
       "    .dataframe tbody tr th:only-of-type {\n",
       "        vertical-align: middle;\n",
       "    }\n",
       "\n",
       "    .dataframe tbody tr th {\n",
       "        vertical-align: top;\n",
       "    }\n",
       "\n",
       "    .dataframe thead th {\n",
       "        text-align: right;\n",
       "    }\n",
       "</style>\n",
       "<table border=\"1\" class=\"dataframe\">\n",
       "  <thead>\n",
       "    <tr style=\"text-align: right;\">\n",
       "      <th></th>\n",
       "      <th>Levy</th>\n",
       "      <th>Manufacturer</th>\n",
       "      <th>Model</th>\n",
       "      <th>Prod. year</th>\n",
       "      <th>Category</th>\n",
       "      <th>Leather interior</th>\n",
       "      <th>Fuel type</th>\n",
       "      <th>Engine volume</th>\n",
       "      <th>Mileage</th>\n",
       "      <th>Cylinders</th>\n",
       "      <th>Gear box type</th>\n",
       "      <th>Drive wheels</th>\n",
       "      <th>Doors</th>\n",
       "      <th>Wheel</th>\n",
       "      <th>Color</th>\n",
       "      <th>Airbags</th>\n",
       "      <th>Turbo</th>\n",
       "    </tr>\n",
       "  </thead>\n",
       "  <tbody>\n",
       "    <tr>\n",
       "      <th>1</th>\n",
       "      <td>1018.000000</td>\n",
       "      <td>14893.223709</td>\n",
       "      <td>7508.500062</td>\n",
       "      <td>2011</td>\n",
       "      <td>23760.507252</td>\n",
       "      <td>0</td>\n",
       "      <td>17391.153459</td>\n",
       "      <td>3.0</td>\n",
       "      <td>192000.0</td>\n",
       "      <td>6.0</td>\n",
       "      <td>26316.746084</td>\n",
       "      <td>19581.049143</td>\n",
       "      <td>4</td>\n",
       "      <td>19394.079675</td>\n",
       "      <td>18915.648594</td>\n",
       "      <td>8</td>\n",
       "      <td>0</td>\n",
       "    </tr>\n",
       "    <tr>\n",
       "      <th>2</th>\n",
       "      <td>906.299205</td>\n",
       "      <td>14168.012513</td>\n",
       "      <td>11102.885135</td>\n",
       "      <td>2006</td>\n",
       "      <td>11354.611647</td>\n",
       "      <td>0</td>\n",
       "      <td>17391.153459</td>\n",
       "      <td>1.3</td>\n",
       "      <td>200000.0</td>\n",
       "      <td>4.0</td>\n",
       "      <td>14779.109290</td>\n",
       "      <td>18503.816055</td>\n",
       "      <td>4</td>\n",
       "      <td>8888.271851</td>\n",
       "      <td>18917.298199</td>\n",
       "      <td>2</td>\n",
       "      <td>0</td>\n",
       "    </tr>\n",
       "    <tr>\n",
       "      <th>3</th>\n",
       "      <td>862.000000</td>\n",
       "      <td>15422.710212</td>\n",
       "      <td>8172.547945</td>\n",
       "      <td>2011</td>\n",
       "      <td>23760.507252</td>\n",
       "      <td>1</td>\n",
       "      <td>10845.476688</td>\n",
       "      <td>2.5</td>\n",
       "      <td>168966.0</td>\n",
       "      <td>4.0</td>\n",
       "      <td>16005.665989</td>\n",
       "      <td>19584.328881</td>\n",
       "      <td>4</td>\n",
       "      <td>19394.079675</td>\n",
       "      <td>18145.261689</td>\n",
       "      <td>0</td>\n",
       "      <td>0</td>\n",
       "    </tr>\n",
       "    <tr>\n",
       "      <th>5</th>\n",
       "      <td>891.000000</td>\n",
       "      <td>22301.390558</td>\n",
       "      <td>39636.578748</td>\n",
       "      <td>2016</td>\n",
       "      <td>23760.507252</td>\n",
       "      <td>1</td>\n",
       "      <td>30684.792802</td>\n",
       "      <td>2.0</td>\n",
       "      <td>160931.0</td>\n",
       "      <td>4.0</td>\n",
       "      <td>16002.963933</td>\n",
       "      <td>18501.371908</td>\n",
       "      <td>4</td>\n",
       "      <td>19394.079675</td>\n",
       "      <td>18137.116886</td>\n",
       "      <td>4</td>\n",
       "      <td>0</td>\n",
       "    </tr>\n",
       "    <tr>\n",
       "      <th>6</th>\n",
       "      <td>761.000000</td>\n",
       "      <td>14305.915118</td>\n",
       "      <td>11436.182413</td>\n",
       "      <td>2010</td>\n",
       "      <td>11354.611647</td>\n",
       "      <td>1</td>\n",
       "      <td>10845.476688</td>\n",
       "      <td>1.8</td>\n",
       "      <td>258909.0</td>\n",
       "      <td>4.0</td>\n",
       "      <td>16005.801822</td>\n",
       "      <td>18504.341027</td>\n",
       "      <td>4</td>\n",
       "      <td>19394.079675</td>\n",
       "      <td>18145.671130</td>\n",
       "      <td>12</td>\n",
       "      <td>0</td>\n",
       "    </tr>\n",
       "    <tr>\n",
       "      <th>...</th>\n",
       "      <td>...</td>\n",
       "      <td>...</td>\n",
       "      <td>...</td>\n",
       "      <td>...</td>\n",
       "      <td>...</td>\n",
       "      <td>...</td>\n",
       "      <td>...</td>\n",
       "      <td>...</td>\n",
       "      <td>...</td>\n",
       "      <td>...</td>\n",
       "      <td>...</td>\n",
       "      <td>...</td>\n",
       "      <td>...</td>\n",
       "      <td>...</td>\n",
       "      <td>...</td>\n",
       "      <td>...</td>\n",
       "      <td>...</td>\n",
       "    </tr>\n",
       "    <tr>\n",
       "      <th>19231</th>\n",
       "      <td>1055.000000</td>\n",
       "      <td>18596.594025</td>\n",
       "      <td>10004.247191</td>\n",
       "      <td>2013</td>\n",
       "      <td>14202.733837</td>\n",
       "      <td>1</td>\n",
       "      <td>30684.792802</td>\n",
       "      <td>3.5</td>\n",
       "      <td>107800.0</td>\n",
       "      <td>6.0</td>\n",
       "      <td>16005.500715</td>\n",
       "      <td>17323.015051</td>\n",
       "      <td>4</td>\n",
       "      <td>19394.079675</td>\n",
       "      <td>19248.185312</td>\n",
       "      <td>12</td>\n",
       "      <td>0</td>\n",
       "    </tr>\n",
       "    <tr>\n",
       "      <th>19232</th>\n",
       "      <td>906.299205</td>\n",
       "      <td>18595.288932</td>\n",
       "      <td>7574.917117</td>\n",
       "      <td>1999</td>\n",
       "      <td>21282.356061</td>\n",
       "      <td>1</td>\n",
       "      <td>8186.859275</td>\n",
       "      <td>2.0</td>\n",
       "      <td>300000.0</td>\n",
       "      <td>4.0</td>\n",
       "      <td>25874.875203</td>\n",
       "      <td>17321.835325</td>\n",
       "      <td>2</td>\n",
       "      <td>19394.079675</td>\n",
       "      <td>15123.818401</td>\n",
       "      <td>5</td>\n",
       "      <td>1</td>\n",
       "    </tr>\n",
       "    <tr>\n",
       "      <th>19233</th>\n",
       "      <td>831.000000</td>\n",
       "      <td>22307.777897</td>\n",
       "      <td>14379.360825</td>\n",
       "      <td>2011</td>\n",
       "      <td>14202.733837</td>\n",
       "      <td>1</td>\n",
       "      <td>17391.153459</td>\n",
       "      <td>2.4</td>\n",
       "      <td>161600.0</td>\n",
       "      <td>4.0</td>\n",
       "      <td>26317.052872</td>\n",
       "      <td>18503.247755</td>\n",
       "      <td>4</td>\n",
       "      <td>19394.079675</td>\n",
       "      <td>13642.392915</td>\n",
       "      <td>8</td>\n",
       "      <td>0</td>\n",
       "    </tr>\n",
       "    <tr>\n",
       "      <th>19234</th>\n",
       "      <td>836.000000</td>\n",
       "      <td>22304.980955</td>\n",
       "      <td>30050.122066</td>\n",
       "      <td>2010</td>\n",
       "      <td>23760.507252</td>\n",
       "      <td>1</td>\n",
       "      <td>30684.792802</td>\n",
       "      <td>2.0</td>\n",
       "      <td>116365.0</td>\n",
       "      <td>4.0</td>\n",
       "      <td>16003.971764</td>\n",
       "      <td>18502.426343</td>\n",
       "      <td>4</td>\n",
       "      <td>19394.079675</td>\n",
       "      <td>19239.514944</td>\n",
       "      <td>4</td>\n",
       "      <td>0</td>\n",
       "    </tr>\n",
       "    <tr>\n",
       "      <th>19236</th>\n",
       "      <td>753.000000</td>\n",
       "      <td>22311.858101</td>\n",
       "      <td>14379.360825</td>\n",
       "      <td>2012</td>\n",
       "      <td>14202.733837</td>\n",
       "      <td>1</td>\n",
       "      <td>10845.476688</td>\n",
       "      <td>2.4</td>\n",
       "      <td>186923.0</td>\n",
       "      <td>4.0</td>\n",
       "      <td>16005.902191</td>\n",
       "      <td>18504.446037</td>\n",
       "      <td>4</td>\n",
       "      <td>19394.079675</td>\n",
       "      <td>18145.973672</td>\n",
       "      <td>12</td>\n",
       "      <td>0</td>\n",
       "    </tr>\n",
       "  </tbody>\n",
       "</table>\n",
       "<p>14447 rows × 17 columns</p>\n",
       "</div>"
      ],
      "text/plain": [
       "              Levy  Manufacturer         Model  Prod. year      Category  \\\n",
       "1      1018.000000  14893.223709   7508.500062        2011  23760.507252   \n",
       "2       906.299205  14168.012513  11102.885135        2006  11354.611647   \n",
       "3       862.000000  15422.710212   8172.547945        2011  23760.507252   \n",
       "5       891.000000  22301.390558  39636.578748        2016  23760.507252   \n",
       "6       761.000000  14305.915118  11436.182413        2010  11354.611647   \n",
       "...            ...           ...           ...         ...           ...   \n",
       "19231  1055.000000  18596.594025  10004.247191        2013  14202.733837   \n",
       "19232   906.299205  18595.288932   7574.917117        1999  21282.356061   \n",
       "19233   831.000000  22307.777897  14379.360825        2011  14202.733837   \n",
       "19234   836.000000  22304.980955  30050.122066        2010  23760.507252   \n",
       "19236   753.000000  22311.858101  14379.360825        2012  14202.733837   \n",
       "\n",
       "       Leather interior     Fuel type  Engine volume   Mileage  Cylinders  \\\n",
       "1                     0  17391.153459            3.0  192000.0        6.0   \n",
       "2                     0  17391.153459            1.3  200000.0        4.0   \n",
       "3                     1  10845.476688            2.5  168966.0        4.0   \n",
       "5                     1  30684.792802            2.0  160931.0        4.0   \n",
       "6                     1  10845.476688            1.8  258909.0        4.0   \n",
       "...                 ...           ...            ...       ...        ...   \n",
       "19231                 1  30684.792802            3.5  107800.0        6.0   \n",
       "19232                 1   8186.859275            2.0  300000.0        4.0   \n",
       "19233                 1  17391.153459            2.4  161600.0        4.0   \n",
       "19234                 1  30684.792802            2.0  116365.0        4.0   \n",
       "19236                 1  10845.476688            2.4  186923.0        4.0   \n",
       "\n",
       "       Gear box type  Drive wheels  Doors         Wheel         Color  \\\n",
       "1       26316.746084  19581.049143      4  19394.079675  18915.648594   \n",
       "2       14779.109290  18503.816055      4   8888.271851  18917.298199   \n",
       "3       16005.665989  19584.328881      4  19394.079675  18145.261689   \n",
       "5       16002.963933  18501.371908      4  19394.079675  18137.116886   \n",
       "6       16005.801822  18504.341027      4  19394.079675  18145.671130   \n",
       "...              ...           ...    ...           ...           ...   \n",
       "19231   16005.500715  17323.015051      4  19394.079675  19248.185312   \n",
       "19232   25874.875203  17321.835325      2  19394.079675  15123.818401   \n",
       "19233   26317.052872  18503.247755      4  19394.079675  13642.392915   \n",
       "19234   16003.971764  18502.426343      4  19394.079675  19239.514944   \n",
       "19236   16005.902191  18504.446037      4  19394.079675  18145.973672   \n",
       "\n",
       "       Airbags  Turbo  \n",
       "1            8      0  \n",
       "2            2      0  \n",
       "3            0      0  \n",
       "5            4      0  \n",
       "6           12      0  \n",
       "...        ...    ...  \n",
       "19231       12      0  \n",
       "19232        5      1  \n",
       "19233        8      0  \n",
       "19234        4      0  \n",
       "19236       12      0  \n",
       "\n",
       "[14447 rows x 17 columns]"
      ]
     },
     "execution_count": 96,
     "metadata": {},
     "output_type": "execute_result"
    }
   ],
   "source": [
    "x"
   ]
  },
  {
   "cell_type": "code",
   "execution_count": 97,
   "id": "a0d1f494",
   "metadata": {},
   "outputs": [],
   "source": [
    "y = df_cleaned['Price']"
   ]
  },
  {
   "cell_type": "code",
   "execution_count": null,
   "id": "7b8ed357",
   "metadata": {},
   "outputs": [],
   "source": []
  },
  {
   "cell_type": "code",
   "execution_count": 98,
   "id": "fd5885f8",
   "metadata": {},
   "outputs": [],
   "source": [
    "from sklearn.model_selection import train_test_split\n",
    "x_train,x_test,y_train,y_test = train_test_split(x,y,test_size=0.2)"
   ]
  },
  {
   "cell_type": "code",
   "execution_count": 99,
   "id": "3052fddc",
   "metadata": {},
   "outputs": [
    {
     "data": {
      "text/html": [
       "<div>\n",
       "<style scoped>\n",
       "    .dataframe tbody tr th:only-of-type {\n",
       "        vertical-align: middle;\n",
       "    }\n",
       "\n",
       "    .dataframe tbody tr th {\n",
       "        vertical-align: top;\n",
       "    }\n",
       "\n",
       "    .dataframe thead th {\n",
       "        text-align: right;\n",
       "    }\n",
       "</style>\n",
       "<table border=\"1\" class=\"dataframe\">\n",
       "  <thead>\n",
       "    <tr style=\"text-align: right;\">\n",
       "      <th></th>\n",
       "      <th>Levy</th>\n",
       "      <th>Manufacturer</th>\n",
       "      <th>Model</th>\n",
       "      <th>Prod. year</th>\n",
       "      <th>Category</th>\n",
       "      <th>Leather interior</th>\n",
       "      <th>Fuel type</th>\n",
       "      <th>Engine volume</th>\n",
       "      <th>Mileage</th>\n",
       "      <th>Cylinders</th>\n",
       "      <th>Gear box type</th>\n",
       "      <th>Drive wheels</th>\n",
       "      <th>Doors</th>\n",
       "      <th>Wheel</th>\n",
       "      <th>Color</th>\n",
       "      <th>Airbags</th>\n",
       "      <th>Turbo</th>\n",
       "    </tr>\n",
       "  </thead>\n",
       "  <tbody>\n",
       "    <tr>\n",
       "      <th>14963</th>\n",
       "      <td>906.299205</td>\n",
       "      <td>15244.432692</td>\n",
       "      <td>20015.971053</td>\n",
       "      <td>2013</td>\n",
       "      <td>14202.733837</td>\n",
       "      <td>0</td>\n",
       "      <td>10845.476688</td>\n",
       "      <td>2.4</td>\n",
       "      <td>112000.0</td>\n",
       "      <td>4.0</td>\n",
       "      <td>26315.824739</td>\n",
       "      <td>18502.951316</td>\n",
       "      <td>4</td>\n",
       "      <td>19394.079675</td>\n",
       "      <td>14494.394366</td>\n",
       "      <td>8</td>\n",
       "      <td>0</td>\n",
       "    </tr>\n",
       "    <tr>\n",
       "      <th>9184</th>\n",
       "      <td>906.299205</td>\n",
       "      <td>14157.220021</td>\n",
       "      <td>29579.227778</td>\n",
       "      <td>2012</td>\n",
       "      <td>14202.733837</td>\n",
       "      <td>1</td>\n",
       "      <td>10845.476688</td>\n",
       "      <td>1.5</td>\n",
       "      <td>180000.0</td>\n",
       "      <td>4.0</td>\n",
       "      <td>14764.969945</td>\n",
       "      <td>18503.000709</td>\n",
       "      <td>4</td>\n",
       "      <td>19394.079675</td>\n",
       "      <td>14039.842975</td>\n",
       "      <td>8</td>\n",
       "      <td>0</td>\n",
       "    </tr>\n",
       "    <tr>\n",
       "      <th>14815</th>\n",
       "      <td>781.000000</td>\n",
       "      <td>14306.306519</td>\n",
       "      <td>12604.988159</td>\n",
       "      <td>2012</td>\n",
       "      <td>14202.733837</td>\n",
       "      <td>1</td>\n",
       "      <td>10845.476688</td>\n",
       "      <td>2.5</td>\n",
       "      <td>314373.0</td>\n",
       "      <td>4.0</td>\n",
       "      <td>16005.908064</td>\n",
       "      <td>18504.452182</td>\n",
       "      <td>4</td>\n",
       "      <td>19394.079675</td>\n",
       "      <td>19250.495303</td>\n",
       "      <td>12</td>\n",
       "      <td>0</td>\n",
       "    </tr>\n",
       "    <tr>\n",
       "      <th>9732</th>\n",
       "      <td>906.299205</td>\n",
       "      <td>14059.395257</td>\n",
       "      <td>7752.920635</td>\n",
       "      <td>2008</td>\n",
       "      <td>14202.733837</td>\n",
       "      <td>1</td>\n",
       "      <td>17391.153459</td>\n",
       "      <td>2.0</td>\n",
       "      <td>226000.0</td>\n",
       "      <td>8.0</td>\n",
       "      <td>26318.588446</td>\n",
       "      <td>19582.471774</td>\n",
       "      <td>5</td>\n",
       "      <td>19394.079675</td>\n",
       "      <td>19245.976089</td>\n",
       "      <td>4</td>\n",
       "      <td>1</td>\n",
       "    </tr>\n",
       "    <tr>\n",
       "      <th>974</th>\n",
       "      <td>906.299205</td>\n",
       "      <td>14297.889875</td>\n",
       "      <td>12604.988159</td>\n",
       "      <td>2013</td>\n",
       "      <td>14202.733837</td>\n",
       "      <td>1</td>\n",
       "      <td>10845.476688</td>\n",
       "      <td>2.5</td>\n",
       "      <td>65000.0</td>\n",
       "      <td>4.0</td>\n",
       "      <td>16003.623447</td>\n",
       "      <td>18502.061919</td>\n",
       "      <td>4</td>\n",
       "      <td>19394.079675</td>\n",
       "      <td>18912.793445</td>\n",
       "      <td>12</td>\n",
       "      <td>0</td>\n",
       "    </tr>\n",
       "    <tr>\n",
       "      <th>...</th>\n",
       "      <td>...</td>\n",
       "      <td>...</td>\n",
       "      <td>...</td>\n",
       "      <td>...</td>\n",
       "      <td>...</td>\n",
       "      <td>...</td>\n",
       "      <td>...</td>\n",
       "      <td>...</td>\n",
       "      <td>...</td>\n",
       "      <td>...</td>\n",
       "      <td>...</td>\n",
       "      <td>...</td>\n",
       "      <td>...</td>\n",
       "      <td>...</td>\n",
       "      <td>...</td>\n",
       "      <td>...</td>\n",
       "      <td>...</td>\n",
       "    </tr>\n",
       "    <tr>\n",
       "      <th>8142</th>\n",
       "      <td>906.299205</td>\n",
       "      <td>11319.146667</td>\n",
       "      <td>14684.360839</td>\n",
       "      <td>2012</td>\n",
       "      <td>21282.356061</td>\n",
       "      <td>1</td>\n",
       "      <td>17391.153459</td>\n",
       "      <td>1.4</td>\n",
       "      <td>81000.0</td>\n",
       "      <td>4.0</td>\n",
       "      <td>25872.664677</td>\n",
       "      <td>18503.495116</td>\n",
       "      <td>2</td>\n",
       "      <td>19394.079675</td>\n",
       "      <td>13647.449275</td>\n",
       "      <td>8</td>\n",
       "      <td>0</td>\n",
       "    </tr>\n",
       "    <tr>\n",
       "      <th>14116</th>\n",
       "      <td>640.000000</td>\n",
       "      <td>15425.884085</td>\n",
       "      <td>9663.047458</td>\n",
       "      <td>2013</td>\n",
       "      <td>14202.733837</td>\n",
       "      <td>1</td>\n",
       "      <td>10845.476688</td>\n",
       "      <td>2.0</td>\n",
       "      <td>339920.0</td>\n",
       "      <td>4.0</td>\n",
       "      <td>16005.925759</td>\n",
       "      <td>18504.470695</td>\n",
       "      <td>4</td>\n",
       "      <td>19394.079675</td>\n",
       "      <td>18146.044712</td>\n",
       "      <td>0</td>\n",
       "      <td>0</td>\n",
       "    </tr>\n",
       "    <tr>\n",
       "      <th>16485</th>\n",
       "      <td>707.000000</td>\n",
       "      <td>30940.810502</td>\n",
       "      <td>22416.802817</td>\n",
       "      <td>2011</td>\n",
       "      <td>23760.507252</td>\n",
       "      <td>1</td>\n",
       "      <td>30684.792802</td>\n",
       "      <td>2.0</td>\n",
       "      <td>120005.0</td>\n",
       "      <td>4.0</td>\n",
       "      <td>16004.234320</td>\n",
       "      <td>18502.701040</td>\n",
       "      <td>4</td>\n",
       "      <td>19394.079675</td>\n",
       "      <td>18914.434756</td>\n",
       "      <td>4</td>\n",
       "      <td>0</td>\n",
       "    </tr>\n",
       "    <tr>\n",
       "      <th>1999</th>\n",
       "      <td>779.000000</td>\n",
       "      <td>14297.261304</td>\n",
       "      <td>23378.926829</td>\n",
       "      <td>2013</td>\n",
       "      <td>23760.507252</td>\n",
       "      <td>0</td>\n",
       "      <td>17391.153459</td>\n",
       "      <td>2.5</td>\n",
       "      <td>90000.0</td>\n",
       "      <td>4.0</td>\n",
       "      <td>16003.452827</td>\n",
       "      <td>18501.883409</td>\n",
       "      <td>4</td>\n",
       "      <td>19394.079675</td>\n",
       "      <td>19236.572161</td>\n",
       "      <td>7</td>\n",
       "      <td>0</td>\n",
       "    </tr>\n",
       "    <tr>\n",
       "      <th>5753</th>\n",
       "      <td>639.000000</td>\n",
       "      <td>15406.409384</td>\n",
       "      <td>9663.047458</td>\n",
       "      <td>2014</td>\n",
       "      <td>14202.733837</td>\n",
       "      <td>1</td>\n",
       "      <td>17391.153459</td>\n",
       "      <td>2.0</td>\n",
       "      <td>27579.0</td>\n",
       "      <td>4.0</td>\n",
       "      <td>26315.210509</td>\n",
       "      <td>18502.803057</td>\n",
       "      <td>4</td>\n",
       "      <td>19394.079675</td>\n",
       "      <td>15878.107955</td>\n",
       "      <td>12</td>\n",
       "      <td>1</td>\n",
       "    </tr>\n",
       "  </tbody>\n",
       "</table>\n",
       "<p>11557 rows × 17 columns</p>\n",
       "</div>"
      ],
      "text/plain": [
       "             Levy  Manufacturer         Model  Prod. year      Category  \\\n",
       "14963  906.299205  15244.432692  20015.971053        2013  14202.733837   \n",
       "9184   906.299205  14157.220021  29579.227778        2012  14202.733837   \n",
       "14815  781.000000  14306.306519  12604.988159        2012  14202.733837   \n",
       "9732   906.299205  14059.395257   7752.920635        2008  14202.733837   \n",
       "974    906.299205  14297.889875  12604.988159        2013  14202.733837   \n",
       "...           ...           ...           ...         ...           ...   \n",
       "8142   906.299205  11319.146667  14684.360839        2012  21282.356061   \n",
       "14116  640.000000  15425.884085   9663.047458        2013  14202.733837   \n",
       "16485  707.000000  30940.810502  22416.802817        2011  23760.507252   \n",
       "1999   779.000000  14297.261304  23378.926829        2013  23760.507252   \n",
       "5753   639.000000  15406.409384   9663.047458        2014  14202.733837   \n",
       "\n",
       "       Leather interior     Fuel type  Engine volume   Mileage  Cylinders  \\\n",
       "14963                 0  10845.476688            2.4  112000.0        4.0   \n",
       "9184                  1  10845.476688            1.5  180000.0        4.0   \n",
       "14815                 1  10845.476688            2.5  314373.0        4.0   \n",
       "9732                  1  17391.153459            2.0  226000.0        8.0   \n",
       "974                   1  10845.476688            2.5   65000.0        4.0   \n",
       "...                 ...           ...            ...       ...        ...   \n",
       "8142                  1  17391.153459            1.4   81000.0        4.0   \n",
       "14116                 1  10845.476688            2.0  339920.0        4.0   \n",
       "16485                 1  30684.792802            2.0  120005.0        4.0   \n",
       "1999                  0  17391.153459            2.5   90000.0        4.0   \n",
       "5753                  1  17391.153459            2.0   27579.0        4.0   \n",
       "\n",
       "       Gear box type  Drive wheels  Doors         Wheel         Color  \\\n",
       "14963   26315.824739  18502.951316      4  19394.079675  14494.394366   \n",
       "9184    14764.969945  18503.000709      4  19394.079675  14039.842975   \n",
       "14815   16005.908064  18504.452182      4  19394.079675  19250.495303   \n",
       "9732    26318.588446  19582.471774      5  19394.079675  19245.976089   \n",
       "974     16003.623447  18502.061919      4  19394.079675  18912.793445   \n",
       "...              ...           ...    ...           ...           ...   \n",
       "8142    25872.664677  18503.495116      2  19394.079675  13647.449275   \n",
       "14116   16005.925759  18504.470695      4  19394.079675  18146.044712   \n",
       "16485   16004.234320  18502.701040      4  19394.079675  18914.434756   \n",
       "1999    16003.452827  18501.883409      4  19394.079675  19236.572161   \n",
       "5753    26315.210509  18502.803057      4  19394.079675  15878.107955   \n",
       "\n",
       "       Airbags  Turbo  \n",
       "14963        8      0  \n",
       "9184         8      0  \n",
       "14815       12      0  \n",
       "9732         4      1  \n",
       "974         12      0  \n",
       "...        ...    ...  \n",
       "8142         8      0  \n",
       "14116        0      0  \n",
       "16485        4      0  \n",
       "1999         7      0  \n",
       "5753        12      1  \n",
       "\n",
       "[11557 rows x 17 columns]"
      ]
     },
     "execution_count": 99,
     "metadata": {},
     "output_type": "execute_result"
    }
   ],
   "source": [
    "x_train"
   ]
  },
  {
   "cell_type": "code",
   "execution_count": 100,
   "id": "0f7199aa",
   "metadata": {},
   "outputs": [
    {
     "data": {
      "text/plain": [
       "14963    19444\n",
       "9184     18817\n",
       "14815      392\n",
       "9732     10976\n",
       "974      30734\n",
       "         ...  \n",
       "8142     12541\n",
       "14116      157\n",
       "16485    22621\n",
       "1999     33000\n",
       "5753     21326\n",
       "Name: Price, Length: 11557, dtype: int64"
      ]
     },
     "execution_count": 100,
     "metadata": {},
     "output_type": "execute_result"
    }
   ],
   "source": [
    "y_train"
   ]
  },
  {
   "cell_type": "code",
   "execution_count": 101,
   "id": "cc11c8e8",
   "metadata": {},
   "outputs": [],
   "source": [
    "from sklearn.preprocessing import StandardScaler\n",
    "sc = StandardScaler()"
   ]
  },
  {
   "cell_type": "code",
   "execution_count": 102,
   "id": "6ab8024e",
   "metadata": {},
   "outputs": [],
   "source": [
    "x_train = sc.fit_transform(x_train)"
   ]
  },
  {
   "cell_type": "code",
   "execution_count": 103,
   "id": "bfec5d09",
   "metadata": {},
   "outputs": [],
   "source": [
    "x_test = sc.transform(x_test)"
   ]
  },
  {
   "cell_type": "code",
   "execution_count": 104,
   "id": "b64d3be4",
   "metadata": {},
   "outputs": [],
   "source": [
    "from sklearn.tree import DecisionTreeRegressor"
   ]
  },
  {
   "cell_type": "code",
   "execution_count": 105,
   "id": "97c79d1f",
   "metadata": {},
   "outputs": [],
   "source": [
    "dt = DecisionTreeRegressor()"
   ]
  },
  {
   "cell_type": "code",
   "execution_count": 106,
   "id": "e9bb09d4",
   "metadata": {},
   "outputs": [
    {
     "data": {
      "text/plain": [
       "DecisionTreeRegressor()"
      ]
     },
     "execution_count": 106,
     "metadata": {},
     "output_type": "execute_result"
    }
   ],
   "source": [
    "dt.fit(x_train,y_train)"
   ]
  },
  {
   "cell_type": "code",
   "execution_count": 107,
   "id": "8c34d47b",
   "metadata": {},
   "outputs": [
    {
     "data": {
      "text/plain": [
       "1.0"
      ]
     },
     "execution_count": 107,
     "metadata": {},
     "output_type": "execute_result"
    }
   ],
   "source": [
    "dt.score(x_train,y_train)"
   ]
  },
  {
   "cell_type": "code",
   "execution_count": 108,
   "id": "55c1c4be",
   "metadata": {},
   "outputs": [
    {
     "data": {
      "text/plain": [
       "0.9997489488738827"
      ]
     },
     "execution_count": 108,
     "metadata": {},
     "output_type": "execute_result"
    }
   ],
   "source": [
    "dt.score(x_test,y_test)"
   ]
  },
  {
   "cell_type": "code",
   "execution_count": 109,
   "id": "2c5b5cbe",
   "metadata": {},
   "outputs": [],
   "source": [
    "pred = dt.predict(x_test)"
   ]
  },
  {
   "cell_type": "code",
   "execution_count": 110,
   "id": "dc4fb414",
   "metadata": {},
   "outputs": [
    {
     "data": {
      "text/plain": [
       "array([24283.,  3500., 39201., ...,  2666.,  6272.,   188.])"
      ]
     },
     "execution_count": 110,
     "metadata": {},
     "output_type": "execute_result"
    }
   ],
   "source": [
    "pred"
   ]
  },
  {
   "cell_type": "code",
   "execution_count": 111,
   "id": "ff56a28e",
   "metadata": {},
   "outputs": [],
   "source": [
    "from sklearn.metrics import mean_absolute_error,mean_squared_error,mean_absolute_percentage_error"
   ]
  },
  {
   "cell_type": "code",
   "execution_count": 112,
   "id": "c84425c2",
   "metadata": {},
   "outputs": [
    {
     "data": {
      "text/plain": [
       "17.790657439446367"
      ]
     },
     "execution_count": 112,
     "metadata": {},
     "output_type": "execute_result"
    }
   ],
   "source": [
    "mean_absolute_error(pred,y_test)"
   ]
  },
  {
   "cell_type": "code",
   "execution_count": 113,
   "id": "99391eb8",
   "metadata": {},
   "outputs": [
    {
     "data": {
      "text/plain": [
       "172.1743774868252"
      ]
     },
     "execution_count": 113,
     "metadata": {},
     "output_type": "execute_result"
    }
   ],
   "source": [
    "np.sqrt(mean_squared_error(pred,y_test))"
   ]
  },
  {
   "cell_type": "code",
   "execution_count": 114,
   "id": "17816c4c",
   "metadata": {},
   "outputs": [
    {
     "data": {
      "text/plain": [
       "0.0054731756501676205"
      ]
     },
     "execution_count": 114,
     "metadata": {},
     "output_type": "execute_result"
    }
   ],
   "source": [
    "mean_absolute_percentage_error(pred,y_test)"
   ]
  },
  {
   "cell_type": "code",
   "execution_count": 115,
   "id": "61097ed5",
   "metadata": {},
   "outputs": [],
   "source": [
    "from sklearn.metrics import r2_score"
   ]
  },
  {
   "cell_type": "code",
   "execution_count": 116,
   "id": "374a4311",
   "metadata": {},
   "outputs": [
    {
     "data": {
      "text/plain": [
       "0.9997489285223313"
      ]
     },
     "execution_count": 116,
     "metadata": {},
     "output_type": "execute_result"
    }
   ],
   "source": [
    "r2_score(pred,y_test)"
   ]
  },
  {
   "cell_type": "code",
   "execution_count": 117,
   "id": "5200960f",
   "metadata": {},
   "outputs": [],
   "source": [
    "from sklearn.model_selection import cross_val_score"
   ]
  },
  {
   "cell_type": "code",
   "execution_count": 118,
   "id": "2545c572",
   "metadata": {},
   "outputs": [],
   "source": [
    "scores = cross_val_score(dt, x_train, y_train, scoring='r2', cv=5)"
   ]
  },
  {
   "cell_type": "code",
   "execution_count": 119,
   "id": "8829a2b0",
   "metadata": {},
   "outputs": [
    {
     "data": {
      "text/plain": [
       "array([0.99938881, 0.99346168, 0.99965042, 0.99706009, 0.99792001])"
      ]
     },
     "execution_count": 119,
     "metadata": {},
     "output_type": "execute_result"
    }
   ],
   "source": [
    "scores"
   ]
  },
  {
   "cell_type": "code",
   "execution_count": null,
   "id": "3463ac80",
   "metadata": {},
   "outputs": [],
   "source": []
  },
  {
   "cell_type": "code",
   "execution_count": 120,
   "id": "fdb55226",
   "metadata": {},
   "outputs": [],
   "source": [
    "scores = cross_val_score(dt, x_train, y_train, scoring='neg_mean_absolute_error', cv=5)"
   ]
  },
  {
   "cell_type": "code",
   "execution_count": 121,
   "id": "5ffa75fe",
   "metadata": {},
   "outputs": [
    {
     "data": {
      "text/plain": [
       "array([52.84948097, 48.11721453, 47.24275206, 22.28083081, 33.8351363 ])"
      ]
     },
     "execution_count": 121,
     "metadata": {},
     "output_type": "execute_result"
    }
   ],
   "source": [
    "(-scores)"
   ]
  },
  {
   "cell_type": "markdown",
   "id": "e9203117",
   "metadata": {},
   "source": [
    "Model got good accuracy i not even performed hyper parameters tuning\n",
    "Instead of normal label encoding i performed target guided encoding and mean encoding it gave strong correlation with target\n",
    "variable."
   ]
  },
  {
   "cell_type": "code",
   "execution_count": 122,
   "id": "215e8c99",
   "metadata": {},
   "outputs": [
    {
     "data": {
      "text/plain": [
       "<matplotlib.collections.PathCollection at 0x20ee0c6c490>"
      ]
     },
     "execution_count": 122,
     "metadata": {},
     "output_type": "execute_result"
    },
    {
     "data": {
      "image/png": "[encoded data removed]",
      "text/plain": [
       "<Figure size 864x576 with 1 Axes>"
      ]
     },
     "metadata": {
      "needs_background": "light"
     },
     "output_type": "display_data"
    }
   ],
   "source": [
    "plt.figure(figsize=(12,8))\n",
    "plt.scatter(y_test,pred)"
   ]
  },
  {
   "cell_type": "markdown",
   "id": "f8d0a0ac",
   "metadata": {},
   "source": [
    "From above figure u can see i plotted actual vs predicted and it gave a nice slope "
   ]
  },
  {
   "cell_type": "markdown",
   "id": "b40d4630",
   "metadata": {},
   "source": [
    "using Mean encoding and target guided encoding it may lead to overfit, in these case model performed value it gave stronger\n",
    "correlation compare to normal onehot or label encoding"
   ]
  },
  {
   "cell_type": "code",
   "execution_count": null,
   "id": "7f38b971",
   "metadata": {},
   "outputs": [],
   "source": []
  },
  {
   "cell_type": "code",
   "execution_count": null,
   "id": "d1f518cc",
   "metadata": {},
   "outputs": [],
   "source": []
  },
  {
   "cell_type": "code",
   "execution_count": null,
   "id": "a044e5e3",
   "metadata": {},
   "outputs": [],
   "source": []
  },
  {
   "cell_type": "code",
   "execution_count": null,
   "id": "a35e3f41",
   "metadata": {},
   "outputs": [],
   "source": []
  }
 ],
 "metadata": {
  "kernelspec": {
   "display_name": "Python 3 (ipykernel)",
   "language": "python",
   "name": "python3"
  },
  "language_info": {
   "codemirror_mode": {
    "name": "ipython",
    "version": 3
   },
   "file_extension": ".py",
   "mimetype": "text/x-python",
   "name": "python",
   "nbconvert_exporter": "python",
   "pygments_lexer": "ipython3",
   "version": "3.8.12"
  }
 },
 "nbformat": 4,
 "nbformat_minor": 5
}
